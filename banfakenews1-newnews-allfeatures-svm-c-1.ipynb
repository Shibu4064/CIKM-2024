{
 "cells": [
  {
   "cell_type": "code",
   "execution_count": 1,
   "id": "1f578da5",
   "metadata": {
    "execution": {
     "iopub.execute_input": "2024-06-02T16:19:22.186390Z",
     "iopub.status.busy": "2024-06-02T16:19:22.185968Z",
     "iopub.status.idle": "2024-06-02T16:19:24.913829Z",
     "shell.execute_reply": "2024-06-02T16:19:24.912743Z"
    },
    "id": "MgxGHrEJ0ert",
    "papermill": {
     "duration": 2.737821,
     "end_time": "2024-06-02T16:19:24.916281",
     "exception": false,
     "start_time": "2024-06-02T16:19:22.178460",
     "status": "completed"
    },
    "tags": []
   },
   "outputs": [],
   "source": [
    "#all imports\n",
    "import pandas as pd\n",
    "import re\n",
    "from nltk.util import ngrams\n",
    "from sklearn.feature_extraction.text import TfidfVectorizer\n",
    "from sklearn import metrics\n",
    "from sklearn import svm\n",
    "from scipy import sparse, hstack\n",
    "import string\n",
    "import numpy as np\n",
    "from sklearn.metrics import classification_report\n",
    "from sklearn.metrics import f1_score\n",
    "from sklearn.model_selection import train_test_split"
   ]
  },
  {
   "cell_type": "code",
   "execution_count": 2,
   "id": "f6bc5dcc",
   "metadata": {
    "execution": {
     "iopub.execute_input": "2024-06-02T16:19:24.929089Z",
     "iopub.status.busy": "2024-06-02T16:19:24.928579Z",
     "iopub.status.idle": "2024-06-02T16:19:30.756296Z",
     "shell.execute_reply": "2024-06-02T16:19:30.755281Z"
    },
    "id": "LtgSWhwn3e7Y",
    "outputId": "b9cc0b9a-6845-4985-ba40-49d54eeed482",
    "papermill": {
     "duration": 5.837063,
     "end_time": "2024-06-02T16:19:30.758950",
     "exception": false,
     "start_time": "2024-06-02T16:19:24.921887",
     "status": "completed"
    },
    "tags": []
   },
   "outputs": [],
   "source": [
    "fake_df = pd.read_csv(\"/kaggle/input/banfakenews/Fake-1K.csv\")[ ['headline', 'content', 'label'] ]\n",
    "authentic_df = pd.read_csv(\"/kaggle/input/banfakenews/Authentic-48K.csv\")[ ['headline', 'content', 'label'] ]\n",
    "\n",
    "# Rename columns\n",
    "fake_df = fake_df.rename(columns={'headline': 'Headline', 'content': 'Content', 'label': 'Label'})\n",
    "authentic_df = authentic_df.rename(columns={'headline': 'Headline', 'content': 'Content', 'label': 'Label'})\n",
    "\n",
    "# Split fake data into train and test sets\n",
    "fake_train, fake_test = train_test_split(fake_df, test_size=0.2, random_state=42)\n",
    "\n",
    "# Split authentic data into train and test sets\n",
    "authentic_train, authentic_test = train_test_split(authentic_df, test_size=0.2, random_state=42)\n",
    "\n",
    "# Concatenate the train and test sets for both fake and authentic data\n",
    "df_train = pd.concat([fake_train, authentic_train])\n",
    "df_val = pd.concat([fake_test, authentic_test])\n",
    "df_test = pd.read_csv(\"/kaggle/input/newnewssep2023/new_fake_real_merged.csv\")[ ['Headline', 'Content', 'Label'] ]"
   ]
  },
  {
   "cell_type": "code",
   "execution_count": 3,
   "id": "1f25bade",
   "metadata": {
    "execution": {
     "iopub.execute_input": "2024-06-02T16:19:30.772270Z",
     "iopub.status.busy": "2024-06-02T16:19:30.771876Z",
     "iopub.status.idle": "2024-06-02T16:19:30.778698Z",
     "shell.execute_reply": "2024-06-02T16:19:30.777596Z"
    },
    "id": "gfGkvR645Bzz",
    "papermill": {
     "duration": 0.015502,
     "end_time": "2024-06-02T16:19:30.780737",
     "exception": false,
     "start_time": "2024-06-02T16:19:30.765235",
     "status": "completed"
    },
    "tags": []
   },
   "outputs": [],
   "source": [
    "def tokenizer(doc):\n",
    "    puncList = [\"।\", \"”\", \"“\", \"’\"]\n",
    "    for p in string.punctuation.lstrip():\n",
    "        puncList.append(p)\n",
    "    # remove punctuation\n",
    "    tokens = []\n",
    "    def cleanword(word):\n",
    "        for p in puncList:\n",
    "            word = word.replace(p, \"\")\n",
    "        word = re.sub(r'[\\u09E6-\\u09EF]', \"\", word, re.DEBUG)  # replace digits\n",
    "\n",
    "        return word\n",
    "\n",
    "    for word in doc.split(\" \"):\n",
    "        word = cleanword(word)\n",
    "        if word != \"\":\n",
    "            tokens.append(word)\n",
    "\n",
    "    return tokens"
   ]
  },
  {
   "cell_type": "code",
   "execution_count": 4,
   "id": "7b4c44e9",
   "metadata": {
    "execution": {
     "iopub.execute_input": "2024-06-02T16:19:30.792943Z",
     "iopub.status.busy": "2024-06-02T16:19:30.792575Z",
     "iopub.status.idle": "2024-06-02T16:19:30.798431Z",
     "shell.execute_reply": "2024-06-02T16:19:30.797386Z"
    },
    "id": "MWv1athZ4RSu",
    "papermill": {
     "duration": 0.014374,
     "end_time": "2024-06-02T16:19:30.800449",
     "exception": false,
     "start_time": "2024-06-02T16:19:30.786075",
     "status": "completed"
    },
    "tags": []
   },
   "outputs": [],
   "source": [
    "def tfidf_charF(X, X_ret, a, b, save_model=False):\n",
    "\n",
    "    tfidf_char = TfidfVectorizer(sublinear_tf=True, min_df=5, norm='l2', ngram_range=(a, b),\n",
    "                                 decode_error='replace', encoding='utf-8', analyzer='char')\n",
    "\n",
    "    tfidf_char.fit(X.values.astype('U'))\n",
    "    x_char = tfidf_char.transform(X_ret.values.astype('U'))\n",
    "    return x_char"
   ]
  },
  {
   "cell_type": "code",
   "execution_count": 5,
   "id": "9784291a",
   "metadata": {
    "execution": {
     "iopub.execute_input": "2024-06-02T16:19:30.812643Z",
     "iopub.status.busy": "2024-06-02T16:19:30.812251Z",
     "iopub.status.idle": "2024-06-02T16:19:30.818340Z",
     "shell.execute_reply": "2024-06-02T16:19:30.817387Z"
    },
    "id": "6-eSApeD4aUn",
    "papermill": {
     "duration": 0.014876,
     "end_time": "2024-06-02T16:19:30.820644",
     "exception": false,
     "start_time": "2024-06-02T16:19:30.805768",
     "status": "completed"
    },
    "tags": []
   },
   "outputs": [],
   "source": [
    "def tfidf_wordF(X, X_ret, a, b):\n",
    "\n",
    "    tfidf_word = TfidfVectorizer(sublinear_tf=True, min_df=5, norm='l2', ngram_range=(a, b),\n",
    "                                 decode_error='replace', encoding='utf-8', analyzer='word', tokenizer=tokenizer)\n",
    "\n",
    "    tfidf_word.fit(X.values.astype('U'))\n",
    "    x_word = tfidf_word.transform(X_ret.values.astype('U'))\n",
    "    return x_word"
   ]
  },
  {
   "cell_type": "code",
   "execution_count": 6,
   "id": "a9cf80dd",
   "metadata": {
    "execution": {
     "iopub.execute_input": "2024-06-02T16:19:30.833854Z",
     "iopub.status.busy": "2024-06-02T16:19:30.833473Z",
     "iopub.status.idle": "2024-06-02T16:21:13.066168Z",
     "shell.execute_reply": "2024-06-02T16:21:13.063030Z"
    },
    "id": "r7AwX9FZ6Oy3",
    "outputId": "4b51af41-6fd9-4411-dff2-1a3df8d594a3",
    "papermill": {
     "duration": 102.245639,
     "end_time": "2024-06-02T16:21:13.072296",
     "exception": false,
     "start_time": "2024-06-02T16:19:30.826657",
     "status": "completed"
    },
    "tags": []
   },
   "outputs": [
    {
     "name": "stdout",
     "output_type": "stream",
     "text": [
      "--2024-06-02 16:19:31--  https://dl.fbaipublicfiles.com/fasttext/vectors-crawl/cc.bn.300.bin.gz\r\n",
      "Resolving dl.fbaipublicfiles.com (dl.fbaipublicfiles.com)... 13.35.7.38, 13.35.7.128, 13.35.7.50, ...\r\n",
      "Connecting to dl.fbaipublicfiles.com (dl.fbaipublicfiles.com)|13.35.7.38|:443... connected.\r\n",
      "HTTP request sent, awaiting response... 200 OK\r\n",
      "Length: 3934298272 (3.7G) [application/octet-stream]\r\n",
      "Saving to: 'cc.bn.300.bin.gz'\r\n",
      "\r\n",
      "cc.bn.300.bin.gz    100%[===================>]   3.66G   134MB/s    in 28s     \r\n",
      "\r\n",
      "2024-06-02 16:19:59 (136 MB/s) - 'cc.bn.300.bin.gz' saved [3934298272/3934298272]\r\n",
      "\r\n"
     ]
    }
   ],
   "source": [
    "#load fasttext\n",
    "!wget https://dl.fbaipublicfiles.com/fasttext/vectors-crawl/cc.bn.300.bin.gz\n",
    "# !pip install fasttext\n",
    "!gunzip /kaggle/working/cc.bn.300.bin.gz"
   ]
  },
  {
   "cell_type": "code",
   "execution_count": 7,
   "id": "3fc74ff1",
   "metadata": {
    "execution": {
     "iopub.execute_input": "2024-06-02T16:21:13.109503Z",
     "iopub.status.busy": "2024-06-02T16:21:13.108999Z",
     "iopub.status.idle": "2024-06-02T16:21:26.851497Z",
     "shell.execute_reply": "2024-06-02T16:21:26.850174Z"
    },
    "id": "BjUgy6GXMJsZ",
    "outputId": "902f7dc9-d538-44c9-d3f9-396b3ab4b10d",
    "papermill": {
     "duration": 13.763902,
     "end_time": "2024-06-02T16:21:26.854959",
     "exception": false,
     "start_time": "2024-06-02T16:21:13.091057",
     "status": "completed"
    },
    "tags": []
   },
   "outputs": [
    {
     "name": "stderr",
     "output_type": "stream",
     "text": [
      "Warning : `load_model` does not return WordVectorModel or SupervisedModel any more, but a `FastText` object which is very similar.\n"
     ]
    }
   ],
   "source": [
    "import fasttext\n",
    "import fasttext.util\n",
    "ft = fasttext.load_model('/kaggle/working/cc.bn.300.bin')"
   ]
  },
  {
   "cell_type": "code",
   "execution_count": 8,
   "id": "c6ca35ef",
   "metadata": {
    "execution": {
     "iopub.execute_input": "2024-06-02T16:21:26.886133Z",
     "iopub.status.busy": "2024-06-02T16:21:26.885710Z",
     "iopub.status.idle": "2024-06-02T16:21:26.892838Z",
     "shell.execute_reply": "2024-06-02T16:21:26.891768Z"
    },
    "id": "_E1biVqu5-JT",
    "papermill": {
     "duration": 0.025476,
     "end_time": "2024-06-02T16:21:26.895088",
     "exception": false,
     "start_time": "2024-06-02T16:21:26.869612",
     "status": "completed"
    },
    "tags": []
   },
   "outputs": [],
   "source": [
    "from scipy import sparse\n",
    "def get_sentence_vectors(texts):\n",
    "    vectors = []\n",
    "    for text in texts:\n",
    "        words = text.split()  # Split text into words\n",
    "        word_vectors = [ft.get_word_vector(word) for word in words]  # Get word vectors for each word\n",
    "        if word_vectors:  # If there are words in the text\n",
    "            sentence_vector = np.mean(word_vectors, axis=0)  # Calculate mean of word vectors\n",
    "        else:  # If no words found\n",
    "            sentence_vector = np.zeros(ft.get_dimension())  # Use zero vector\n",
    "        vectors.append(sentence_vector)\n",
    "#     df = pd.DataFrame(vectors)\n",
    "#     df = df.fillna(0)\n",
    "    return np.array(vectors)\n",
    "#     return sparse.csr.csr_matrix(df.values)"
   ]
  },
  {
   "cell_type": "code",
   "execution_count": 9,
   "id": "348818b4",
   "metadata": {
    "execution": {
     "iopub.execute_input": "2024-06-02T16:21:26.927893Z",
     "iopub.status.busy": "2024-06-02T16:21:26.927507Z",
     "iopub.status.idle": "2024-06-02T16:36:20.901886Z",
     "shell.execute_reply": "2024-06-02T16:36:20.900280Z"
    },
    "id": "4bdbU9H_6i4d",
    "papermill": {
     "duration": 893.994302,
     "end_time": "2024-06-02T16:36:20.905986",
     "exception": false,
     "start_time": "2024-06-02T16:21:26.911684",
     "status": "completed"
    },
    "tags": []
   },
   "outputs": [],
   "source": [
    "# Get sentence vectors tfidf_charF\n",
    "\n",
    "X_train_char = tfidf_charF(df_train['Headline']+\" \\\\\\ \"+ df_train['Content'], df_train['Headline']+\" \\\\\\ \"+ df_train['Content'], 3, 5)\n",
    "\n",
    "X_val_char = tfidf_charF(df_train['Headline']+\" \\\\\\ \"+ df_train['Content'], df_val['Headline']+\" \\\\\\ \"+ df_val['Content'], 3, 5)\n",
    "\n",
    "X_test_char = tfidf_charF(df_train['Headline']+\" \\\\\\ \"+ df_train['Content'], df_test['Headline']+\" \\\\\\ \"+ df_test['Content'], 3, 5)"
   ]
  },
  {
   "cell_type": "code",
   "execution_count": 10,
   "id": "805bb526",
   "metadata": {
    "execution": {
     "iopub.execute_input": "2024-06-02T16:36:20.942264Z",
     "iopub.status.busy": "2024-06-02T16:36:20.941878Z",
     "iopub.status.idle": "2024-06-02T16:45:31.490691Z",
     "shell.execute_reply": "2024-06-02T16:45:31.489293Z"
    },
    "id": "ejR2o4qZ6rJG",
    "papermill": {
     "duration": 550.568948,
     "end_time": "2024-06-02T16:45:31.494464",
     "exception": false,
     "start_time": "2024-06-02T16:36:20.925516",
     "status": "completed"
    },
    "tags": []
   },
   "outputs": [
    {
     "name": "stderr",
     "output_type": "stream",
     "text": [
      "/opt/conda/lib/python3.10/site-packages/sklearn/feature_extraction/text.py:528: UserWarning: The parameter 'token_pattern' will not be used since 'tokenizer' is not None'\n",
      "  warnings.warn(\n"
     ]
    }
   ],
   "source": [
    "# Get sentence vectors tfidf_wordF\n",
    "\n",
    "X_train_word = tfidf_wordF(df_train['Headline']+\" \\\\\\ \"+ df_train['Content'], df_train['Headline']+\" \\\\\\ \"+ df_train['Content'], 1, 3)\n",
    "\n",
    "X_val_word = tfidf_wordF(df_train['Headline']+\" \\\\\\ \"+ df_train['Content'], df_val['Headline']+\" \\\\\\ \"+ df_val['Content'], 1, 3)\n",
    "\n",
    "X_test_word = tfidf_wordF(df_train['Headline']+\" \\\\\\ \"+ df_train['Content'], df_test['Headline']+\" \\\\\\ \"+ df_test['Content'], 1, 3)"
   ]
  },
  {
   "cell_type": "code",
   "execution_count": 11,
   "id": "f2349fe5",
   "metadata": {
    "execution": {
     "iopub.execute_input": "2024-06-02T16:45:31.527148Z",
     "iopub.status.busy": "2024-06-02T16:45:31.526293Z",
     "iopub.status.idle": "2024-06-02T16:48:15.050354Z",
     "shell.execute_reply": "2024-06-02T16:48:15.048956Z"
    },
    "id": "XvQMNb6b547v",
    "papermill": {
     "duration": 163.543591,
     "end_time": "2024-06-02T16:48:15.053707",
     "exception": false,
     "start_time": "2024-06-02T16:45:31.510116",
     "status": "completed"
    },
    "tags": []
   },
   "outputs": [],
   "source": [
    "# Get sentence vectors embedding\n",
    "\n",
    "X_train_emb = get_sentence_vectors(df_train['Headline']+\" \\\\\\ \"+ df_train['Content'])\n",
    "\n",
    "X_val_emb = get_sentence_vectors(df_val['Headline']+\" \\\\\\ \"+ df_val['Content'])\n",
    "\n",
    "X_test_emb = get_sentence_vectors(df_test['Headline']+\" \\\\\\ \"+ df_test['Content'])\n"
   ]
  },
  {
   "cell_type": "code",
   "execution_count": 12,
   "id": "fa0f3baa",
   "metadata": {
    "execution": {
     "iopub.execute_input": "2024-06-02T16:48:15.085887Z",
     "iopub.status.busy": "2024-06-02T16:48:15.085493Z",
     "iopub.status.idle": "2024-06-02T16:48:28.924700Z",
     "shell.execute_reply": "2024-06-02T16:48:28.923615Z"
    },
    "papermill": {
     "duration": 13.85765,
     "end_time": "2024-06-02T16:48:28.927128",
     "exception": false,
     "start_time": "2024-06-02T16:48:15.069478",
     "status": "completed"
    },
    "tags": []
   },
   "outputs": [
    {
     "name": "stderr",
     "output_type": "stream",
     "text": [
      "2024-06-02 16:48:17.338297: E external/local_xla/xla/stream_executor/cuda/cuda_dnn.cc:9261] Unable to register cuDNN factory: Attempting to register factory for plugin cuDNN when one has already been registered\n",
      "2024-06-02 16:48:17.338508: E external/local_xla/xla/stream_executor/cuda/cuda_fft.cc:607] Unable to register cuFFT factory: Attempting to register factory for plugin cuFFT when one has already been registered\n",
      "2024-06-02 16:48:17.493530: E external/local_xla/xla/stream_executor/cuda/cuda_blas.cc:1515] Unable to register cuBLAS factory: Attempting to register factory for plugin cuBLAS when one has already been registered\n"
     ]
    },
    {
     "name": "stdout",
     "output_type": "stream",
     "text": [
      "Shape of X_train_word: (39981, 633837)\n",
      "Type of X_train_word: <class 'scipy.sparse._csr.csr_matrix'>\n",
      "Shape of X_train_char: (39981, 746098)\n",
      "Type of X_train_char: <class 'scipy.sparse._csr.csr_matrix'>\n",
      "Shape of X_train_emb: (39981, 300)\n",
      "Type of X_train_emb: <class 'numpy.ndarray'>\n",
      "Validation Data:\n",
      "Shape of X_val_word: (9996, 633837)\n",
      "Type of X_val_word: <class 'scipy.sparse._csr.csr_matrix'>\n",
      "Shape of X_val_char: (9996, 746098)\n",
      "Type of X_val_char: <class 'scipy.sparse._csr.csr_matrix'>\n",
      "Shape of X_val_emb: (9996, 300)\n",
      "Type of X_val_emb: <class 'numpy.ndarray'>\n",
      "\n",
      "Test Data:\n",
      "Shape of X_test_word: (920, 633837)\n",
      "Type of X_test_word: <class 'scipy.sparse._csr.csr_matrix'>\n",
      "Shape of X_test_char: (920, 746098)\n",
      "Type of X_test_char: <class 'scipy.sparse._csr.csr_matrix'>\n",
      "Shape of X_test_emb: (920, 300)\n",
      "Type of X_test_emb: <class 'numpy.ndarray'>\n"
     ]
    }
   ],
   "source": [
    "import tensorflow as tf\n",
    "\n",
    "# Assuming X_train_word is already defined\n",
    "print(\"Shape of X_train_word:\", X_train_word.shape)\n",
    "print(\"Type of X_train_word:\", type(X_train_word))\n",
    "import tensorflow as tf\n",
    "\n",
    "# Assuming X_train_char is already defined\n",
    "print(\"Shape of X_train_char:\", X_train_char.shape)\n",
    "print(\"Type of X_train_char:\", type(X_train_char))\n",
    "# Assuming X_train_emb is already defined\n",
    "print(\"Shape of X_train_emb:\", X_train_emb.shape)\n",
    "print(\"Type of X_train_emb:\", type(X_train_emb))\n",
    "\n",
    "# Assuming X_val_word, X_val_char, X_val_emb, X_test_word, X_test_char, X_test_emb are defined\n",
    "\n",
    "# For validation data\n",
    "print(\"Validation Data:\")\n",
    "print(\"Shape of X_val_word:\", X_val_word.shape)\n",
    "print(\"Type of X_val_word:\", type(X_val_word))\n",
    "\n",
    "print(\"Shape of X_val_char:\", X_val_char.shape)\n",
    "print(\"Type of X_val_char:\", type(X_val_char))\n",
    "\n",
    "print(\"Shape of X_val_emb:\", X_val_emb.shape)\n",
    "print(\"Type of X_val_emb:\", type(X_val_emb))\n",
    "\n",
    "# For test data\n",
    "print(\"\\nTest Data:\")\n",
    "print(\"Shape of X_test_word:\", X_test_word.shape)\n",
    "print(\"Type of X_test_word:\", type(X_test_word))\n",
    "\n",
    "print(\"Shape of X_test_char:\", X_test_char.shape)\n",
    "print(\"Type of X_test_char:\", type(X_test_char))\n",
    "\n",
    "print(\"Shape of X_test_emb:\", X_test_emb.shape)\n",
    "print(\"Type of X_test_emb:\", type(X_test_emb))\n",
    "\n"
   ]
  },
  {
   "cell_type": "code",
   "execution_count": 13,
   "id": "ba59aa88",
   "metadata": {
    "execution": {
     "iopub.execute_input": "2024-06-02T16:48:28.960733Z",
     "iopub.status.busy": "2024-06-02T16:48:28.959145Z",
     "iopub.status.idle": "2024-06-02T16:48:33.171488Z",
     "shell.execute_reply": "2024-06-02T16:48:33.170277Z"
    },
    "id": "ONNYgTdB_nlD",
    "papermill": {
     "duration": 4.231774,
     "end_time": "2024-06-02T16:48:33.173907",
     "exception": false,
     "start_time": "2024-06-02T16:48:28.942133",
     "status": "completed"
    },
    "tags": []
   },
   "outputs": [
    {
     "name": "stdout",
     "output_type": "stream",
     "text": [
      "(39981, 1380235)\n",
      "(9996, 1380235)\n",
      "(920, 1380235)\n"
     ]
    }
   ],
   "source": [
    "#final_train_set\n",
    "\n",
    "X_train = sparse.hstack([X_train_char, X_train_word, X_train_emb])\n",
    "X_val = sparse.hstack([X_val_char, X_val_word, X_val_emb])\n",
    "X_test = sparse.hstack([X_test_char, X_test_word, X_test_emb])\n",
    "print(X_train.shape)\n",
    "print(X_val.shape)\n",
    "print(X_test.shape)"
   ]
  },
  {
   "cell_type": "code",
   "execution_count": 14,
   "id": "f713d3e4",
   "metadata": {
    "execution": {
     "iopub.execute_input": "2024-06-02T16:48:33.205354Z",
     "iopub.status.busy": "2024-06-02T16:48:33.204960Z",
     "iopub.status.idle": "2024-06-02T16:48:33.210440Z",
     "shell.execute_reply": "2024-06-02T16:48:33.209293Z"
    },
    "id": "FkEc0D_p98tj",
    "papermill": {
     "duration": 0.023776,
     "end_time": "2024-06-02T16:48:33.212852",
     "exception": false,
     "start_time": "2024-06-02T16:48:33.189076",
     "status": "completed"
    },
    "tags": []
   },
   "outputs": [],
   "source": [
    "#y_set\n",
    "\n",
    "y_train = df_train['Label']\n",
    "y_val = df_val['Label']\n",
    "y_test = df_test['Label']"
   ]
  },
  {
   "cell_type": "code",
   "execution_count": 15,
   "id": "e4bfcf4b",
   "metadata": {
    "execution": {
     "iopub.execute_input": "2024-06-02T16:48:33.245021Z",
     "iopub.status.busy": "2024-06-02T16:48:33.244647Z",
     "iopub.status.idle": "2024-06-02T16:48:33.249757Z",
     "shell.execute_reply": "2024-06-02T16:48:33.248720Z"
    },
    "id": "rF01MHWy_TB-",
    "papermill": {
     "duration": 0.023813,
     "end_time": "2024-06-02T16:48:33.251970",
     "exception": false,
     "start_time": "2024-06-02T16:48:33.228157",
     "status": "completed"
    },
    "tags": []
   },
   "outputs": [],
   "source": [
    "#define param_grid\n",
    "\n",
    "param_grid = {\n",
    "    'C': [1],\n",
    "    'degree': [3],\n",
    "}\n",
    "\n",
    "best_f1_score = 0\n",
    "best_params = None\n",
    "best_model = None"
   ]
  },
  {
   "cell_type": "code",
   "execution_count": 16,
   "id": "14dec8ee",
   "metadata": {
    "execution": {
     "iopub.execute_input": "2024-06-02T16:48:33.283886Z",
     "iopub.status.busy": "2024-06-02T16:48:33.283463Z",
     "iopub.status.idle": "2024-06-02T18:31:42.842631Z",
     "shell.execute_reply": "2024-06-02T18:31:42.840274Z"
    },
    "id": "evx7X7lD_kZr",
    "papermill": {
     "duration": 6189.596201,
     "end_time": "2024-06-02T18:31:42.863090",
     "exception": false,
     "start_time": "2024-06-02T16:48:33.266889",
     "status": "completed"
    },
    "tags": []
   },
   "outputs": [
    {
     "name": "stdout",
     "output_type": "stream",
     "text": [
      "Best Parameters: {'C': 1, 'degree': 3}\n"
     ]
    }
   ],
   "source": [
    "#Find best model\n",
    "from sklearn.svm import SVC\n",
    "\n",
    "for C in param_grid['C']:\n",
    "    for kernel in param_grid['degree']:\n",
    "        # Initialize SVM model\n",
    "        svm_model = SVC(kernel='linear', C=C, cache_size=7000, degree=kernel)\n",
    "\n",
    "        # Train SVM model\n",
    "        svm_model.fit(X_train, y_train)\n",
    "\n",
    "        # Predictions on validation set\n",
    "        val_predictions = svm_model.predict(X_val)\n",
    "\n",
    "        # Calculate F1 score\n",
    "        f1 = f1_score(y_val, val_predictions, average='macro')\n",
    "\n",
    "        # Update best parameters if current F1 score is higher\n",
    "        if f1 > best_f1_score:\n",
    "            best_f1_score = f1\n",
    "            best_params = {'C': C, 'degree': kernel}\n",
    "            best_model = svm_model\n",
    "\n",
    "print(\"Best Parameters:\", best_params)"
   ]
  },
  {
   "cell_type": "code",
   "execution_count": 17,
   "id": "1f2f4706",
   "metadata": {
    "execution": {
     "iopub.execute_input": "2024-06-02T18:31:42.896948Z",
     "iopub.status.busy": "2024-06-02T18:31:42.896461Z",
     "iopub.status.idle": "2024-06-02T18:31:42.903350Z",
     "shell.execute_reply": "2024-06-02T18:31:42.902112Z"
    },
    "id": "mNca5PqzAWrS",
    "papermill": {
     "duration": 0.027178,
     "end_time": "2024-06-02T18:31:42.905807",
     "exception": false,
     "start_time": "2024-06-02T18:31:42.878629",
     "status": "completed"
    },
    "tags": []
   },
   "outputs": [],
   "source": [
    "#train model\n",
    "# best_model.fit(X_train, y_train)"
   ]
  },
  {
   "cell_type": "code",
   "execution_count": 18,
   "id": "ff081a43",
   "metadata": {
    "execution": {
     "iopub.execute_input": "2024-06-02T18:31:42.938138Z",
     "iopub.status.busy": "2024-06-02T18:31:42.937696Z",
     "iopub.status.idle": "2024-06-02T18:33:41.667432Z",
     "shell.execute_reply": "2024-06-02T18:33:41.666341Z"
    },
    "id": "Q2FE9YkbAehA",
    "papermill": {
     "duration": 118.750081,
     "end_time": "2024-06-02T18:33:41.671050",
     "exception": false,
     "start_time": "2024-06-02T18:31:42.920969",
     "status": "completed"
    },
    "tags": []
   },
   "outputs": [],
   "source": [
    "#test model\n",
    "test_predictions = best_model.predict(X_test)"
   ]
  },
  {
   "cell_type": "code",
   "execution_count": 19,
   "id": "9290af5e",
   "metadata": {
    "execution": {
     "iopub.execute_input": "2024-06-02T18:33:41.704547Z",
     "iopub.status.busy": "2024-06-02T18:33:41.703533Z",
     "iopub.status.idle": "2024-06-02T18:33:41.719453Z",
     "shell.execute_reply": "2024-06-02T18:33:41.718409Z"
    },
    "id": "Fm5J2XadBJPR",
    "papermill": {
     "duration": 0.034618,
     "end_time": "2024-06-02T18:33:41.721677",
     "exception": false,
     "start_time": "2024-06-02T18:33:41.687059",
     "status": "completed"
    },
    "tags": []
   },
   "outputs": [
    {
     "name": "stdout",
     "output_type": "stream",
     "text": [
      "Test Set:\n",
      "              precision    recall  f1-score   support\n",
      "\n",
      "           0    1.00000   0.05435   0.10309       460\n",
      "           1    0.51397   1.00000   0.67897       460\n",
      "\n",
      "    accuracy                        0.52717       920\n",
      "   macro avg    0.75698   0.52717   0.39103       920\n",
      "weighted avg    0.75698   0.52717   0.39103       920\n",
      "\n"
     ]
    }
   ],
   "source": [
    "#get results\n",
    "print(\"Test Set:\")\n",
    "print(classification_report(y_test, test_predictions, digits=5))"
   ]
  },
  {
   "cell_type": "code",
   "execution_count": null,
   "id": "2ab8c2d0",
   "metadata": {
    "papermill": {
     "duration": 0.014834,
     "end_time": "2024-06-02T18:33:41.751934",
     "exception": false,
     "start_time": "2024-06-02T18:33:41.737100",
     "status": "completed"
    },
    "tags": []
   },
   "outputs": [],
   "source": []
  },
  {
   "cell_type": "code",
   "execution_count": null,
   "id": "42383809",
   "metadata": {
    "papermill": {
     "duration": 0.016261,
     "end_time": "2024-06-02T18:33:41.783464",
     "exception": false,
     "start_time": "2024-06-02T18:33:41.767203",
     "status": "completed"
    },
    "tags": []
   },
   "outputs": [],
   "source": []
  }
 ],
 "metadata": {
  "accelerator": "GPU",
  "colab": {
   "gpuType": "T4",
   "provenance": []
  },
  "kaggle": {
   "accelerator": "none",
   "dataSources": [
    {
     "datasetId": 618408,
     "sourceId": 2009678,
     "sourceType": "datasetVersion"
    },
    {
     "datasetId": 3872710,
     "sourceId": 6721982,
     "sourceType": "datasetVersion"
    },
    {
     "datasetId": 5057190,
     "sourceId": 8514897,
     "sourceType": "datasetVersion"
    }
   ],
   "isGpuEnabled": false,
   "isInternetEnabled": true,
   "language": "python",
   "sourceType": "notebook"
  },
  "kernelspec": {
   "display_name": "Python 3",
   "language": "python",
   "name": "python3"
  },
  "language_info": {
   "codemirror_mode": {
    "name": "ipython",
    "version": 3
   },
   "file_extension": ".py",
   "mimetype": "text/x-python",
   "name": "python",
   "nbconvert_exporter": "python",
   "pygments_lexer": "ipython3",
   "version": "3.10.13"
  },
  "papermill": {
   "default_parameters": {},
   "duration": 8065.414987,
   "end_time": "2024-06-02T18:33:44.536496",
   "environment_variables": {},
   "exception": null,
   "input_path": "__notebook__.ipynb",
   "output_path": "__notebook__.ipynb",
   "parameters": {},
   "start_time": "2024-06-02T16:19:19.121509",
   "version": "2.5.0"
  }
 },
 "nbformat": 4,
 "nbformat_minor": 5
}
