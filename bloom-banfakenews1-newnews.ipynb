{
 "cells": [
  {
   "cell_type": "code",
   "execution_count": 1,
   "id": "088a8250",
   "metadata": {
    "execution": {
     "iopub.execute_input": "2024-05-22T14:04:23.016983Z",
     "iopub.status.busy": "2024-05-22T14:04:23.016112Z",
     "iopub.status.idle": "2024-05-22T14:04:23.020602Z",
     "shell.execute_reply": "2024-05-22T14:04:23.019846Z"
    },
    "id": "kTQhUnG8V1Ue",
    "outputId": "0d989114-be3f-4921-d576-1882ad3323a3",
    "papermill": {
     "duration": 0.014419,
     "end_time": "2024-05-22T14:04:23.022606",
     "exception": false,
     "start_time": "2024-05-22T14:04:23.008187",
     "status": "completed"
    },
    "tags": []
   },
   "outputs": [],
   "source": [
    "# from google.colab import drive\n",
    "# drive.mount('/content/drive')\n",
    "# DirPath = ('/content/drive/My Drive/')"
   ]
  },
  {
   "cell_type": "code",
   "execution_count": 2,
   "id": "69e2ac17",
   "metadata": {
    "execution": {
     "iopub.execute_input": "2024-05-22T14:04:23.035651Z",
     "iopub.status.busy": "2024-05-22T14:04:23.035141Z",
     "iopub.status.idle": "2024-05-22T14:06:33.955503Z",
     "shell.execute_reply": "2024-05-22T14:06:33.954541Z"
    },
    "id": "YxchXnYy2-A9",
    "outputId": "717b06c1-e159-40dd-9b30-b10fbab5c8a3",
    "papermill": {
     "duration": 130.929476,
     "end_time": "2024-05-22T14:06:33.957974",
     "exception": false,
     "start_time": "2024-05-22T14:04:23.028498",
     "status": "completed"
    },
    "tags": []
   },
   "outputs": [
    {
     "name": "stdout",
     "output_type": "stream",
     "text": [
      "\u001b[31mERROR: pip's dependency resolver does not currently take into account all the packages that are installed. This behaviour is the source of the following dependency conflicts.\r\n",
      "cudf 23.8.0 requires cupy-cuda11x>=12.0.0, which is not installed.\r\n",
      "cuml 23.8.0 requires cupy-cuda11x>=12.0.0, which is not installed.\r\n",
      "dask-cudf 23.8.0 requires cupy-cuda11x>=12.0.0, which is not installed.\r\n",
      "apache-beam 2.46.0 requires dill<0.3.2,>=0.3.1.1, but you have dill 0.3.7 which is incompatible.\r\n",
      "apache-beam 2.46.0 requires pyarrow<10.0.0,>=3.0.0, but you have pyarrow 16.1.0 which is incompatible.\r\n",
      "beatrix-jupyterlab 2023.621.222118 requires jupyter-server~=1.16, but you have jupyter-server 2.6.0 which is incompatible.\r\n",
      "cudf 23.8.0 requires pandas<1.6.0dev0,>=1.3, but you have pandas 2.0.2 which is incompatible.\r\n",
      "cudf 23.8.0 requires protobuf<5,>=4.21, but you have protobuf 3.20.3 which is incompatible.\r\n",
      "cudf 23.8.0 requires pyarrow==11.*, but you have pyarrow 16.1.0 which is incompatible.\r\n",
      "cuml 23.8.0 requires dask==2023.7.1, but you have dask 2023.9.0 which is incompatible.\r\n",
      "dask-cudf 23.8.0 requires dask==2023.7.1, but you have dask 2023.9.0 which is incompatible.\r\n",
      "dask-cudf 23.8.0 requires pandas<1.6.0dev0,>=1.3, but you have pandas 2.0.2 which is incompatible.\r\n",
      "ibis-framework 6.2.0 requires pyarrow<13,>=2, but you have pyarrow 16.1.0 which is incompatible.\u001b[0m\u001b[31m\r\n",
      "\u001b[0m"
     ]
    }
   ],
   "source": [
    "\n",
    "!pip install -q -U bitsandbytes\n",
    "!pip install -q -U git+https://github.com/huggingface/transformers.git\n",
    "!pip install -q -U git+https://github.com/huggingface/peft.git\n",
    "# !pip install -q -U git+https://github.com/huggingface/accelerate.git\n",
    "#current version of Accelerate on GitHub breaks QLoRa\n",
    "#Using standard pip instead\n",
    "!pip install -q -U accelerate\n",
    "!pip install -q -U datasets"
   ]
  },
  {
   "cell_type": "code",
   "execution_count": 3,
   "id": "d5185029",
   "metadata": {
    "execution": {
     "iopub.execute_input": "2024-05-22T14:06:33.972014Z",
     "iopub.status.busy": "2024-05-22T14:06:33.971249Z",
     "iopub.status.idle": "2024-05-22T14:06:36.570055Z",
     "shell.execute_reply": "2024-05-22T14:06:36.568871Z"
    },
    "id": "4AGRSQvctonP",
    "papermill": {
     "duration": 2.608338,
     "end_time": "2024-05-22T14:06:36.572447",
     "exception": false,
     "start_time": "2024-05-22T14:06:33.964109",
     "status": "completed"
    },
    "tags": []
   },
   "outputs": [],
   "source": [
    "!pip freeze > kaggle_requirements.txt\n"
   ]
  },
  {
   "cell_type": "code",
   "execution_count": 4,
   "id": "854d1928",
   "metadata": {
    "execution": {
     "iopub.execute_input": "2024-05-22T14:06:36.586468Z",
     "iopub.status.busy": "2024-05-22T14:06:36.585750Z",
     "iopub.status.idle": "2024-05-22T14:06:40.612404Z",
     "shell.execute_reply": "2024-05-22T14:06:40.611666Z"
    },
    "id": "3Unwokl84jBi",
    "papermill": {
     "duration": 4.03616,
     "end_time": "2024-05-22T14:06:40.614830",
     "exception": false,
     "start_time": "2024-05-22T14:06:36.578670",
     "status": "completed"
    },
    "tags": []
   },
   "outputs": [],
   "source": [
    "import torch\n",
    "from transformers import AutoTokenizer, AutoModelForCausalLM, BitsAndBytesConfig, AutoModelForSequenceClassification, IntervalStrategy, BloomForSequenceClassification, EarlyStoppingCallback"
   ]
  },
  {
   "cell_type": "code",
   "execution_count": 5,
   "id": "10d0ccff",
   "metadata": {
    "execution": {
     "iopub.execute_input": "2024-05-22T14:06:40.628218Z",
     "iopub.status.busy": "2024-05-22T14:06:40.627825Z",
     "iopub.status.idle": "2024-05-22T14:06:42.373000Z",
     "shell.execute_reply": "2024-05-22T14:06:42.372186Z"
    },
    "id": "FLKL2_IK4kGY",
    "outputId": "e50a46f6-d7f4-4590-ae4e-d4262b4ad8dd",
    "papermill": {
     "duration": 1.754461,
     "end_time": "2024-05-22T14:06:42.375386",
     "exception": false,
     "start_time": "2024-05-22T14:06:40.620925",
     "status": "completed"
    },
    "tags": []
   },
   "outputs": [
    {
     "data": {
      "application/vnd.jupyter.widget-view+json": {
       "model_id": "83edc7c313a0492c99d0991a8cb63f60",
       "version_major": 2,
       "version_minor": 0
      },
      "text/plain": [
       "tokenizer_config.json:   0%|          | 0.00/222 [00:00<?, ?B/s]"
      ]
     },
     "metadata": {},
     "output_type": "display_data"
    },
    {
     "data": {
      "application/vnd.jupyter.widget-view+json": {
       "model_id": "c3e80b3b8d3248ad8ae92b8e64a7aaaa",
       "version_major": 2,
       "version_minor": 0
      },
      "text/plain": [
       "tokenizer.json:   0%|          | 0.00/14.5M [00:00<?, ?B/s]"
      ]
     },
     "metadata": {},
     "output_type": "display_data"
    },
    {
     "data": {
      "application/vnd.jupyter.widget-view+json": {
       "model_id": "ea378421187a4e0e9de34e29cffb8c84",
       "version_major": 2,
       "version_minor": 0
      },
      "text/plain": [
       "special_tokens_map.json:   0%|          | 0.00/85.0 [00:00<?, ?B/s]"
      ]
     },
     "metadata": {},
     "output_type": "display_data"
    }
   ],
   "source": [
    "model_name = \"bigscience/bloom-560m\"#\"bigscience/bloom-3b\"#\"bigscience/bloom-560m\"\n",
    "\n",
    "#Tokenizer\n",
    "tokenizer = AutoTokenizer.from_pretrained(model_name)"
   ]
  },
  {
   "cell_type": "code",
   "execution_count": 6,
   "id": "aac64444",
   "metadata": {
    "execution": {
     "iopub.execute_input": "2024-05-22T14:06:42.390333Z",
     "iopub.status.busy": "2024-05-22T14:06:42.389461Z",
     "iopub.status.idle": "2024-05-22T14:06:42.395264Z",
     "shell.execute_reply": "2024-05-22T14:06:42.394510Z"
    },
    "id": "aygHzL04-mjR",
    "papermill": {
     "duration": 0.015107,
     "end_time": "2024-05-22T14:06:42.397160",
     "exception": false,
     "start_time": "2024-05-22T14:06:42.382053",
     "status": "completed"
    },
    "tags": []
   },
   "outputs": [],
   "source": [
    "quant_config = BitsAndBytesConfig(\n",
    "    load_in_4bit=True,\n",
    "    bnb_4bit_use_double_quant=True,\n",
    "    bnb_4bit_quant_type=\"nf4\",\n",
    "    bnb_4bit_compute_dtype=torch.bfloat16\n",
    ")"
   ]
  },
  {
   "cell_type": "code",
   "execution_count": 7,
   "id": "330f0948",
   "metadata": {
    "execution": {
     "iopub.execute_input": "2024-05-22T14:06:42.411860Z",
     "iopub.status.busy": "2024-05-22T14:06:42.411006Z",
     "iopub.status.idle": "2024-05-22T14:06:42.415736Z",
     "shell.execute_reply": "2024-05-22T14:06:42.414900Z"
    },
    "papermill": {
     "duration": 0.013978,
     "end_time": "2024-05-22T14:06:42.417656",
     "exception": false,
     "start_time": "2024-05-22T14:06:42.403678",
     "status": "completed"
    },
    "tags": []
   },
   "outputs": [],
   "source": [
    "# import wandb\n",
    "\n",
    "# wandb.login(key=\"e0b5e8662a12704a23b8b8dc633d1d688941df16\")\n",
    "\n",
    "import os\n",
    "os.environ[\"WANDB_DISABLED\"] = \"true\""
   ]
  },
  {
   "cell_type": "code",
   "execution_count": 8,
   "id": "d7e34c40",
   "metadata": {
    "execution": {
     "iopub.execute_input": "2024-05-22T14:06:42.431660Z",
     "iopub.status.busy": "2024-05-22T14:06:42.431339Z",
     "iopub.status.idle": "2024-05-22T14:06:48.427982Z",
     "shell.execute_reply": "2024-05-22T14:06:48.427205Z"
    },
    "id": "GL_cXc-P_Gv0",
    "outputId": "eabfe370-1eb6-482c-cfe5-c9f496826095",
    "papermill": {
     "duration": 6.006339,
     "end_time": "2024-05-22T14:06:48.430344",
     "exception": false,
     "start_time": "2024-05-22T14:06:42.424005",
     "status": "completed"
    },
    "tags": []
   },
   "outputs": [
    {
     "data": {
      "application/vnd.jupyter.widget-view+json": {
       "model_id": "f85a1a97be724f5eb87d16f6b2d11062",
       "version_major": 2,
       "version_minor": 0
      },
      "text/plain": [
       "config.json:   0%|          | 0.00/693 [00:00<?, ?B/s]"
      ]
     },
     "metadata": {},
     "output_type": "display_data"
    },
    {
     "data": {
      "application/vnd.jupyter.widget-view+json": {
       "model_id": "76744051571e445a8ca1aa6b37fcac6e",
       "version_major": 2,
       "version_minor": 0
      },
      "text/plain": [
       "model.safetensors:   0%|          | 0.00/1.12G [00:00<?, ?B/s]"
      ]
     },
     "metadata": {},
     "output_type": "display_data"
    },
    {
     "name": "stderr",
     "output_type": "stream",
     "text": [
      "Some weights of BloomForSequenceClassification were not initialized from the model checkpoint at bigscience/bloom-560m and are newly initialized: ['score.weight']\n",
      "You should probably TRAIN this model on a down-stream task to be able to use it for predictions and inference.\n"
     ]
    }
   ],
   "source": [
    "# model = AutoModelForCausalLM.from_pretrained(model_name, quantization_config=quant_config, device_map={\"\":0})\n",
    "model = BloomForSequenceClassification.from_pretrained(model_name, quantization_config=quant_config, device_map={\"\":0},num_labels=2)"
   ]
  },
  {
   "cell_type": "code",
   "execution_count": 9,
   "id": "fb0d5b5f",
   "metadata": {
    "execution": {
     "iopub.execute_input": "2024-05-22T14:06:48.445900Z",
     "iopub.status.busy": "2024-05-22T14:06:48.445598Z",
     "iopub.status.idle": "2024-05-22T14:06:48.451093Z",
     "shell.execute_reply": "2024-05-22T14:06:48.450312Z"
    },
    "id": "JJD5Pffm_mtu",
    "papermill": {
     "duration": 0.015365,
     "end_time": "2024-05-22T14:06:48.452997",
     "exception": false,
     "start_time": "2024-05-22T14:06:48.437632",
     "status": "completed"
    },
    "tags": []
   },
   "outputs": [],
   "source": [
    "model.gradient_checkpointing_enable()"
   ]
  },
  {
   "cell_type": "code",
   "execution_count": 10,
   "id": "828755e2",
   "metadata": {
    "execution": {
     "iopub.execute_input": "2024-05-22T14:06:48.468145Z",
     "iopub.status.busy": "2024-05-22T14:06:48.467501Z",
     "iopub.status.idle": "2024-05-22T14:06:50.207385Z",
     "shell.execute_reply": "2024-05-22T14:06:50.206616Z"
    },
    "id": "LUS8-GS5_nzi",
    "papermill": {
     "duration": 1.749958,
     "end_time": "2024-05-22T14:06:50.209744",
     "exception": false,
     "start_time": "2024-05-22T14:06:48.459786",
     "status": "completed"
    },
    "tags": []
   },
   "outputs": [],
   "source": [
    "from peft import prepare_model_for_kbit_training, LoraConfig, get_peft_model\n",
    "\n",
    "model = prepare_model_for_kbit_training(model)\n",
    "\n",
    "config = LoraConfig(\n",
    "    r=8,\n",
    "    lora_alpha=32,\n",
    "    target_modules=[\"query_key_value\"],\n",
    "    lora_dropout=0.05,\n",
    "    bias=\"none\",\n",
    "    task_type=\"SEQ_CLS\"#\"CAUSAL_LM\"\n",
    ")\n",
    "\n",
    "model = get_peft_model(model, config)"
   ]
  },
  {
   "cell_type": "code",
   "execution_count": 11,
   "id": "ea64a273",
   "metadata": {
    "execution": {
     "iopub.execute_input": "2024-05-22T14:06:50.225213Z",
     "iopub.status.busy": "2024-05-22T14:06:50.224891Z",
     "iopub.status.idle": "2024-05-22T14:06:50.229837Z",
     "shell.execute_reply": "2024-05-22T14:06:50.229095Z"
    },
    "id": "gTWrhXdw_zA3",
    "papermill": {
     "duration": 0.014775,
     "end_time": "2024-05-22T14:06:50.231757",
     "exception": false,
     "start_time": "2024-05-22T14:06:50.216982",
     "status": "completed"
    },
    "tags": []
   },
   "outputs": [],
   "source": [
    "# from datasets import load_dataset\n",
    "# data = load_dataset(\"Abirate/english_quotes\")\n",
    "# data = data.map(lambda samples: tokenizer(samples[\"quote\"]), batched=True)"
   ]
  },
  {
   "cell_type": "code",
   "execution_count": 12,
   "id": "a6b5c4ec",
   "metadata": {
    "execution": {
     "iopub.execute_input": "2024-05-22T14:06:50.246968Z",
     "iopub.status.busy": "2024-05-22T14:06:50.246660Z",
     "iopub.status.idle": "2024-05-22T14:06:58.217809Z",
     "shell.execute_reply": "2024-05-22T14:06:58.216965Z"
    },
    "id": "a3vk2foNfgCW",
    "papermill": {
     "duration": 7.981302,
     "end_time": "2024-05-22T14:06:58.220052",
     "exception": false,
     "start_time": "2024-05-22T14:06:50.238750",
     "status": "completed"
    },
    "tags": []
   },
   "outputs": [
    {
     "name": "stderr",
     "output_type": "stream",
     "text": [
      "/opt/conda/lib/python3.10/site-packages/scipy/__init__.py:146: UserWarning: A NumPy version >=1.16.5 and <1.23.0 is required for this version of SciPy (detected version 1.23.5\n",
      "  warnings.warn(f\"A NumPy version >={np_minversion} and <{np_maxversion}\"\n"
     ]
    }
   ],
   "source": [
    "import pandas as pd\n",
    "from sklearn.model_selection import train_test_split\n",
    "fake_df = pd.read_csv(\"/kaggle/input/banfakenews/Fake-1K.csv\")[ ['headline', 'content', 'label'] ]\n",
    "authentic_df = pd.read_csv(\"/kaggle/input/banfakenews/Authentic-48K.csv\")[ ['headline', 'content', 'label'] ]\n",
    "\n",
    "# Rename columns\n",
    "fake_df = fake_df.rename(columns={'headline': 'Headline', 'content': 'Content', 'label': 'Label'})\n",
    "authentic_df = authentic_df.rename(columns={'headline': 'Headline', 'content': 'Content', 'label': 'Label'})\n",
    "\n",
    "# Split fake data into train and test sets\n",
    "fake_train, fake_test = train_test_split(fake_df, test_size=0.2, random_state=42)\n",
    "\n",
    "# Split authentic data into train and test sets\n",
    "authentic_train, authentic_test = train_test_split(authentic_df, test_size=0.2, random_state=42)\n",
    "\n",
    "# Concatenate the train and test sets for both fake and authentic data\n",
    "train_df = pd.concat([fake_train, authentic_train])\n",
    "val_df = pd.concat([fake_test, authentic_test])"
   ]
  },
  {
   "cell_type": "code",
   "execution_count": 13,
   "id": "7a145a97",
   "metadata": {
    "execution": {
     "iopub.execute_input": "2024-05-22T14:06:58.236266Z",
     "iopub.status.busy": "2024-05-22T14:06:58.235498Z",
     "iopub.status.idle": "2024-05-22T14:07:00.747237Z",
     "shell.execute_reply": "2024-05-22T14:07:00.746327Z"
    },
    "id": "Y24lALCKXukt",
    "papermill": {
     "duration": 2.522285,
     "end_time": "2024-05-22T14:07:00.749708",
     "exception": false,
     "start_time": "2024-05-22T14:06:58.227423",
     "status": "completed"
    },
    "tags": []
   },
   "outputs": [],
   "source": [
    "# from sklearn.model_selection import train_test_split\n",
    "HCSep = \" \\\\\\\\ \"\n",
    "def pandaToList(dataset):\n",
    "    text_list = []\n",
    "    label_list = []\n",
    "    for i in range(len(dataset['Headline'])):\n",
    "      text_list.append(dataset['Headline'].iloc[i]+HCSep+dataset['Content'].iloc[i])\n",
    "      label_list.append(int(dataset['Label'].iloc[i]))\n",
    "    return text_list, label_list\n",
    "\n",
    "train_texts, train_labels =  pandaToList(train_df)\n",
    "val_texts, val_labels = pandaToList(val_df)"
   ]
  },
  {
   "cell_type": "code",
   "execution_count": 14,
   "id": "7e3f7e19",
   "metadata": {
    "execution": {
     "iopub.execute_input": "2024-05-22T14:07:00.766851Z",
     "iopub.status.busy": "2024-05-22T14:07:00.766526Z",
     "iopub.status.idle": "2024-05-22T14:07:42.516008Z",
     "shell.execute_reply": "2024-05-22T14:07:42.515136Z"
    },
    "id": "K_uVobxPYggx",
    "outputId": "2e9b6de5-72d7-4303-e670-61b98978cba6",
    "papermill": {
     "duration": 41.760996,
     "end_time": "2024-05-22T14:07:42.518521",
     "exception": false,
     "start_time": "2024-05-22T14:07:00.757525",
     "status": "completed"
    },
    "tags": []
   },
   "outputs": [],
   "source": [
    "max_length=512\n",
    "train_encodings = tokenizer(train_texts, truncation=True, padding=True, max_length=max_length)\n",
    "val_encodings = tokenizer(val_texts, truncation=True, padding=True, max_length=max_length)"
   ]
  },
  {
   "cell_type": "code",
   "execution_count": 15,
   "id": "9780ed26",
   "metadata": {
    "execution": {
     "iopub.execute_input": "2024-05-22T14:07:42.534630Z",
     "iopub.status.busy": "2024-05-22T14:07:42.534288Z",
     "iopub.status.idle": "2024-05-22T14:07:42.540995Z",
     "shell.execute_reply": "2024-05-22T14:07:42.540257Z"
    },
    "id": "4vDZfP9QZW9F",
    "papermill": {
     "duration": 0.016802,
     "end_time": "2024-05-22T14:07:42.542917",
     "exception": false,
     "start_time": "2024-05-22T14:07:42.526115",
     "status": "completed"
    },
    "tags": []
   },
   "outputs": [],
   "source": [
    "class ViolenceDataset(torch.utils.data.Dataset):\n",
    "    def __init__(self, encodings, labels):\n",
    "        self.encodings = encodings\n",
    "        self.labels = labels\n",
    "\n",
    "    def __getitem__(self, idx):\n",
    "        item = {key: torch.tensor(val[idx]) for key, val in self.encodings.items()}\n",
    "        item['labels'] = torch.tensor(self.labels[idx])\n",
    "        return item\n",
    "\n",
    "    def __len__(self):\n",
    "        return len(self.labels)\n",
    "\n",
    "train_dataset = ViolenceDataset(train_encodings, train_labels)\n",
    "val_dataset = ViolenceDataset(val_encodings, val_labels)"
   ]
  },
  {
   "cell_type": "code",
   "execution_count": 16,
   "id": "0c6e1def",
   "metadata": {
    "execution": {
     "iopub.execute_input": "2024-05-22T14:07:42.558293Z",
     "iopub.status.busy": "2024-05-22T14:07:42.557998Z",
     "iopub.status.idle": "2024-05-22T14:07:42.561862Z",
     "shell.execute_reply": "2024-05-22T14:07:42.561081Z"
    },
    "id": "1-gIRiI6uDie",
    "papermill": {
     "duration": 0.01387,
     "end_time": "2024-05-22T14:07:42.563854",
     "exception": false,
     "start_time": "2024-05-22T14:07:42.549984",
     "status": "completed"
    },
    "tags": []
   },
   "outputs": [],
   "source": [
    "# print(train_dataset[:2])\n",
    "# model(input_ids=train_dataset[:1]['input_ids'],attention_mask=train_dataset[:1]['attention_mask'])"
   ]
  },
  {
   "cell_type": "code",
   "execution_count": 17,
   "id": "e43c8dfe",
   "metadata": {
    "execution": {
     "iopub.execute_input": "2024-05-22T14:07:42.579361Z",
     "iopub.status.busy": "2024-05-22T14:07:42.579080Z",
     "iopub.status.idle": "2024-05-22T14:07:42.586028Z",
     "shell.execute_reply": "2024-05-22T14:07:42.585155Z"
    },
    "id": "hAgNaVkqZ5Dl",
    "papermill": {
     "duration": 0.016903,
     "end_time": "2024-05-22T14:07:42.587940",
     "exception": false,
     "start_time": "2024-05-22T14:07:42.571037",
     "status": "completed"
    },
    "tags": []
   },
   "outputs": [],
   "source": [
    "from sklearn.metrics import accuracy_score, recall_score, precision_score, f1_score, classification_report\n",
    "import numpy as np\n",
    "\n",
    "def compute_metrics(p):\n",
    "    pred, labels = p\n",
    "    pred = np.argmax(pred, axis=1)\n",
    "    accuracy = accuracy_score(y_true=labels, y_pred=pred)\n",
    "    recall = recall_score(y_true=labels, y_pred=pred, average='macro')\n",
    "    precision = precision_score(y_true=labels, y_pred=pred, average='macro')\n",
    "    f1 = f1_score(y_true=labels, y_pred=pred, average='macro')\n",
    "    print(\"\\nAfter iteration multiple of 2514\\n\")\n",
    "    print({\n",
    "    \"accuracy\": accuracy,\n",
    "    \"precision\": precision,\n",
    "    \"recall\": recall,\n",
    "    \"f1\": f1\n",
    "    })\n",
    "    return {\"accuracy\": accuracy, \"precision\": precision, \"recall\": recall, \"f1\": f1}"
   ]
  },
  {
   "cell_type": "code",
   "execution_count": 18,
   "id": "f7214b59",
   "metadata": {
    "execution": {
     "iopub.execute_input": "2024-05-22T14:07:42.603834Z",
     "iopub.status.busy": "2024-05-22T14:07:42.603576Z",
     "iopub.status.idle": "2024-05-22T21:49:57.751584Z",
     "shell.execute_reply": "2024-05-22T21:49:57.750626Z"
    },
    "id": "jxskXvs8Akk4",
    "outputId": "86b698b0-2767-410f-e95e-9ec50e223f92",
    "papermill": {
     "duration": 27735.15804,
     "end_time": "2024-05-22T21:49:57.753641",
     "exception": false,
     "start_time": "2024-05-22T14:07:42.595601",
     "status": "completed"
    },
    "tags": []
   },
   "outputs": [
    {
     "name": "stderr",
     "output_type": "stream",
     "text": [
      "`use_cache=True` is incompatible with gradient checkpointing. Setting `use_cache=False`...\n"
     ]
    },
    {
     "data": {
      "text/html": [
       "\n",
       "    <div>\n",
       "      \n",
       "      <progress value='9994' max='9994' style='width:300px; height:20px; vertical-align: middle;'></progress>\n",
       "      [9994/9994 7:42:03, Epoch 1/2]\n",
       "    </div>\n",
       "    <table border=\"1\" class=\"dataframe\">\n",
       "  <thead>\n",
       " <tr style=\"text-align: left;\">\n",
       "      <th>Epoch</th>\n",
       "      <th>Training Loss</th>\n",
       "      <th>Validation Loss</th>\n",
       "      <th>Accuracy</th>\n",
       "      <th>Precision</th>\n",
       "      <th>Recall</th>\n",
       "      <th>F1</th>\n",
       "    </tr>\n",
       "  </thead>\n",
       "  <tbody>\n",
       "    <tr>\n",
       "      <td>0</td>\n",
       "      <td>0.000000</td>\n",
       "      <td>0.043374</td>\n",
       "      <td>0.995898</td>\n",
       "      <td>0.975641</td>\n",
       "      <td>0.941743</td>\n",
       "      <td>0.958030</td>\n",
       "    </tr>\n",
       "    <tr>\n",
       "      <td>1</td>\n",
       "      <td>0.000000</td>\n",
       "      <td>0.033302</td>\n",
       "      <td>0.996499</td>\n",
       "      <td>0.985856</td>\n",
       "      <td>0.943923</td>\n",
       "      <td>0.963891</td>\n",
       "    </tr>\n",
       "  </tbody>\n",
       "</table><p>"
      ],
      "text/plain": [
       "<IPython.core.display.HTML object>"
      ]
     },
     "metadata": {},
     "output_type": "display_data"
    },
    {
     "name": "stdout",
     "output_type": "stream",
     "text": [
      "\n",
      "After iteration multiple of 2514\n",
      "\n",
      "{'accuracy': 0.9958983593437375, 'precision': 0.9756407502483033, 'recall': 0.9417427785854244, 'f1': 0.9580300688449175}\n"
     ]
    },
    {
     "name": "stderr",
     "output_type": "stream",
     "text": [
      "/opt/conda/lib/python3.10/site-packages/huggingface_hub/file_download.py:1132: FutureWarning: `resume_download` is deprecated and will be removed in version 1.0.0. Downloads always resume when possible. If you want to force a new download, use `force_download=True`.\n",
      "  warnings.warn(\n",
      "/opt/conda/lib/python3.10/site-packages/huggingface_hub/file_download.py:1132: FutureWarning: `resume_download` is deprecated and will be removed in version 1.0.0. Downloads always resume when possible. If you want to force a new download, use `force_download=True`.\n",
      "  warnings.warn(\n"
     ]
    },
    {
     "name": "stdout",
     "output_type": "stream",
     "text": [
      "\n",
      "After iteration multiple of 2514\n",
      "\n",
      "{'accuracy': 0.9964985994397759, 'precision': 0.9858559641797704, 'recall': 0.9439226344731686, 'f1': 0.9638910663261436}\n"
     ]
    },
    {
     "name": "stderr",
     "output_type": "stream",
     "text": [
      "/opt/conda/lib/python3.10/site-packages/huggingface_hub/file_download.py:1132: FutureWarning: `resume_download` is deprecated and will be removed in version 1.0.0. Downloads always resume when possible. If you want to force a new download, use `force_download=True`.\n",
      "  warnings.warn(\n"
     ]
    },
    {
     "data": {
      "text/plain": [
       "TrainOutput(global_step=9994, training_loss=0.1572928100538082, metrics={'train_runtime': 27726.397, 'train_samples_per_second': 2.884, 'train_steps_per_second': 0.36, 'total_flos': 7.4446144536576e+16, 'train_loss': 0.1572928100538082, 'epoch': 1.999749881193567})"
      ]
     },
     "execution_count": 18,
     "metadata": {},
     "output_type": "execute_result"
    }
   ],
   "source": [
    "import transformers\n",
    "\n",
    "tokenizer.pad_token = tokenizer.eos_token\n",
    "\n",
    "trainer = transformers.Trainer(\n",
    "    model=model,\n",
    "    # train_dataset=data[\"train\"],\n",
    "    args=transformers.TrainingArguments(\n",
    "        per_device_train_batch_size=1,\n",
    "        gradient_accumulation_steps=8,\n",
    "        save_total_limit = 1,\n",
    "        warmup_steps=1,\n",
    "        # max_steps=20,\n",
    "        num_train_epochs=2,\n",
    "        learning_rate=2e-5,\n",
    "        fp16=True,\n",
    "        output_dir=\"outputs\",\n",
    "        optim=\"paged_adamw_8bit\",\n",
    "        metric_for_best_model = 'f1',\n",
    "        eval_strategy = \"epoch\",\n",
    "        save_strategy = \"epoch\",\n",
    "        weight_decay=0.005,\n",
    "        eval_steps = 1,\n",
    "        logging_steps=1,\n",
    "        save_steps = 1,\n",
    "        load_best_model_at_end=True,\n",
    "        report_to=\"none\"\n",
    "    ),\n",
    "    # data_collator=transformers.DataCollatorForLanguageModeling(tokenizer, mlm=False),\n",
    "    train_dataset=train_dataset,         # training dataset\n",
    "    eval_dataset=val_dataset,            # evaluation dataset\n",
    "    compute_metrics=compute_metrics,\n",
    "    tokenizer=tokenizer,\n",
    "    callbacks = [EarlyStoppingCallback(early_stopping_patience=2)]\n",
    ")\n",
    "\n",
    "trainer.train()"
   ]
  },
  {
   "cell_type": "code",
   "execution_count": 19,
   "id": "807a7645",
   "metadata": {
    "execution": {
     "iopub.execute_input": "2024-05-22T21:49:57.772568Z",
     "iopub.status.busy": "2024-05-22T21:49:57.771347Z",
     "iopub.status.idle": "2024-05-22T21:49:58.234290Z",
     "shell.execute_reply": "2024-05-22T21:49:58.233213Z"
    },
    "papermill": {
     "duration": 0.47421,
     "end_time": "2024-05-22T21:49:58.236361",
     "exception": false,
     "start_time": "2024-05-22T21:49:57.762151",
     "status": "completed"
    },
    "tags": []
   },
   "outputs": [
    {
     "name": "stderr",
     "output_type": "stream",
     "text": [
      "/opt/conda/lib/python3.10/site-packages/huggingface_hub/file_download.py:1132: FutureWarning: `resume_download` is deprecated and will be removed in version 1.0.0. Downloads always resume when possible. If you want to force a new download, use `force_download=True`.\n",
      "  warnings.warn(\n"
     ]
    }
   ],
   "source": [
    "import os\n",
    "\n",
    "# Specify the directory where you want to save the model\n",
    "output_dir = \"./path/to/save/directory\"\n",
    "\n",
    "# Create the directory if it doesn't exist\n",
    "os.makedirs(output_dir, exist_ok=True)\n",
    "\n",
    "# Save the trained model\n",
    "trainer.save_model(output_dir)\n"
   ]
  },
  {
   "cell_type": "code",
   "execution_count": 20,
   "id": "e827cbfb",
   "metadata": {
    "execution": {
     "iopub.execute_input": "2024-05-22T21:49:58.254290Z",
     "iopub.status.busy": "2024-05-22T21:49:58.253980Z",
     "iopub.status.idle": "2024-05-22T21:51:09.998499Z",
     "shell.execute_reply": "2024-05-22T21:51:09.997419Z"
    },
    "id": "7qR8D9FByqEH",
    "outputId": "86a7fa69-6701-4d96-ca2f-58e8da3d609f",
    "papermill": {
     "duration": 71.755955,
     "end_time": "2024-05-22T21:51:10.000728",
     "exception": false,
     "start_time": "2024-05-22T21:49:58.244773",
     "status": "completed"
    },
    "tags": []
   },
   "outputs": [
    {
     "data": {
      "text/html": [],
      "text/plain": [
       "<IPython.core.display.HTML object>"
      ]
     },
     "metadata": {},
     "output_type": "display_data"
    },
    {
     "name": "stdout",
     "output_type": "stream",
     "text": [
      "\n",
      "After iteration multiple of 2514\n",
      "\n",
      "{'accuracy': 0.3565217391304348, 'precision': 0.25276067624352583, 'recall': 0.3565217391304348, 'f1': 0.2810944091573873}\n",
      "              precision    recall  f1-score   support\n",
      "\n",
      "           0    0.09259   0.03261   0.04823       460\n",
      "           1    0.41293   0.68043   0.51396       460\n",
      "\n",
      "    accuracy                        0.35652       920\n",
      "   macro avg    0.25276   0.35652   0.28109       920\n",
      "weighted avg    0.25276   0.35652   0.28109       920\n",
      "\n"
     ]
    }
   ],
   "source": [
    "from sklearn.metrics import classification_report\n",
    "\n",
    "test_df = pd.read_csv('/kaggle/input/newnewssep2023/new_fake_real_merged.csv')[ ['Headline','Content','Label']]\n",
    "test_texts, test_labels = pandaToList(test_df)\n",
    "test_encodings = tokenizer(test_texts, truncation=True, padding=True, max_length=max_length)\n",
    "test_dataset = ViolenceDataset(test_encodings, test_labels)\n",
    "\n",
    "predictions = trainer.predict(test_dataset)\n",
    "\n",
    "# Get predicted labels and true labels\n",
    "predicted_labels = predictions.predictions.argmax(axis=1)\n",
    "true_labels = predictions.label_ids\n",
    "\n",
    "# Generate the classification report\n",
    "class_report = classification_report(true_labels, predicted_labels, digits=5)\n",
    "\n",
    "print(class_report)"
   ]
  },
  {
   "cell_type": "code",
   "execution_count": 21,
   "id": "08789027",
   "metadata": {
    "execution": {
     "iopub.execute_input": "2024-05-22T21:51:10.023131Z",
     "iopub.status.busy": "2024-05-22T21:51:10.022824Z",
     "iopub.status.idle": "2024-05-22T21:51:10.027316Z",
     "shell.execute_reply": "2024-05-22T21:51:10.026358Z"
    },
    "id": "3ClqYj3NAzx7",
    "outputId": "00d695a1-a37f-49a9-90ca-d994aa645f09",
    "papermill": {
     "duration": 0.017577,
     "end_time": "2024-05-22T21:51:10.029369",
     "exception": false,
     "start_time": "2024-05-22T21:51:10.011792",
     "status": "completed"
    },
    "tags": []
   },
   "outputs": [],
   "source": [
    "# text = \"Ask not what your country\"\n",
    "# device = \"cuda:0\"\n",
    "# inputs = tokenizer(text, return_tensors=\"pt\").to(device)\n",
    "\n",
    "# print(inputs)\n",
    "\n",
    "# # outputs = model.generate(**inputs, max_new_tokens=20)\n",
    "# outputs = model.generate(input_ids=inputs[\"input_ids\"], attention_mask=inputs[\"attention_mask\"])\n",
    "# print(tokenizer.decode(outputs[0], skip_special_tokens=True))"
   ]
  },
  {
   "cell_type": "code",
   "execution_count": null,
   "id": "9801252b",
   "metadata": {
    "id": "ZcrF2p3BN4LY",
    "papermill": {
     "duration": 0.008554,
     "end_time": "2024-05-22T21:51:10.047039",
     "exception": false,
     "start_time": "2024-05-22T21:51:10.038485",
     "status": "completed"
    },
    "tags": []
   },
   "outputs": [],
   "source": []
  }
 ],
 "metadata": {
  "kaggle": {
   "accelerator": "gpu",
   "dataSources": [
    {
     "datasetId": 618408,
     "sourceId": 2009678,
     "sourceType": "datasetVersion"
    },
    {
     "datasetId": 3872710,
     "sourceId": 6721982,
     "sourceType": "datasetVersion"
    },
    {
     "datasetId": 5057190,
     "sourceId": 8486976,
     "sourceType": "datasetVersion"
    }
   ],
   "dockerImageVersionId": 30559,
   "isGpuEnabled": true,
   "isInternetEnabled": true,
   "language": "python",
   "sourceType": "notebook"
  },
  "kernelspec": {
   "display_name": "Python 3",
   "language": "python",
   "name": "python3"
  },
  "language_info": {
   "codemirror_mode": {
    "name": "ipython",
    "version": 3
   },
   "file_extension": ".py",
   "mimetype": "text/x-python",
   "name": "python",
   "nbconvert_exporter": "python",
   "pygments_lexer": "ipython3",
   "version": "3.10.12"
  },
  "papermill": {
   "default_parameters": {},
   "duration": 28013.603532,
   "end_time": "2024-05-22T21:51:13.133524",
   "environment_variables": {},
   "exception": null,
   "input_path": "__notebook__.ipynb",
   "output_path": "__notebook__.ipynb",
   "parameters": {},
   "start_time": "2024-05-22T14:04:19.529992",
   "version": "2.4.0"
  },
  "widgets": {
   "application/vnd.jupyter.widget-state+json": {
    "state": {
     "01b6bf8b3f824f1881e551805e2d323c": {
      "model_module": "@jupyter-widgets/controls",
      "model_module_version": "1.5.0",
      "model_name": "DescriptionStyleModel",
      "state": {
       "_model_module": "@jupyter-widgets/controls",
       "_model_module_version": "1.5.0",
       "_model_name": "DescriptionStyleModel",
       "_view_count": null,
       "_view_module": "@jupyter-widgets/base",
       "_view_module_version": "1.2.0",
       "_view_name": "StyleView",
       "description_width": ""
      }
     },
     "079efb9116084dfc910cb9b534d1c540": {
      "model_module": "@jupyter-widgets/base",
      "model_module_version": "1.2.0",
      "model_name": "LayoutModel",
      "state": {
       "_model_module": "@jupyter-widgets/base",
       "_model_module_version": "1.2.0",
       "_model_name": "LayoutModel",
       "_view_count": null,
       "_view_module": "@jupyter-widgets/base",
       "_view_module_version": "1.2.0",
       "_view_name": "LayoutView",
       "align_content": null,
       "align_items": null,
       "align_self": null,
       "border": null,
       "bottom": null,
       "display": null,
       "flex": null,
       "flex_flow": null,
       "grid_area": null,
       "grid_auto_columns": null,
       "grid_auto_flow": null,
       "grid_auto_rows": null,
       "grid_column": null,
       "grid_gap": null,
       "grid_row": null,
       "grid_template_areas": null,
       "grid_template_columns": null,
       "grid_template_rows": null,
       "height": null,
       "justify_content": null,
       "justify_items": null,
       "left": null,
       "margin": null,
       "max_height": null,
       "max_width": null,
       "min_height": null,
       "min_width": null,
       "object_fit": null,
       "object_position": null,
       "order": null,
       "overflow": null,
       "overflow_x": null,
       "overflow_y": null,
       "padding": null,
       "right": null,
       "top": null,
       "visibility": null,
       "width": null
      }
     },
     "1ed54d3f5c3f4a1288d355cc9d36b6d0": {
      "model_module": "@jupyter-widgets/controls",
      "model_module_version": "1.5.0",
      "model_name": "DescriptionStyleModel",
      "state": {
       "_model_module": "@jupyter-widgets/controls",
       "_model_module_version": "1.5.0",
       "_model_name": "DescriptionStyleModel",
       "_view_count": null,
       "_view_module": "@jupyter-widgets/base",
       "_view_module_version": "1.2.0",
       "_view_name": "StyleView",
       "description_width": ""
      }
     },
     "20b311ac01a648c7b0ca27f63b1a0403": {
      "model_module": "@jupyter-widgets/controls",
      "model_module_version": "1.5.0",
      "model_name": "DescriptionStyleModel",
      "state": {
       "_model_module": "@jupyter-widgets/controls",
       "_model_module_version": "1.5.0",
       "_model_name": "DescriptionStyleModel",
       "_view_count": null,
       "_view_module": "@jupyter-widgets/base",
       "_view_module_version": "1.2.0",
       "_view_name": "StyleView",
       "description_width": ""
      }
     },
     "32e6ec6e07ce44ce8cbf1d910552827d": {
      "model_module": "@jupyter-widgets/base",
      "model_module_version": "1.2.0",
      "model_name": "LayoutModel",
      "state": {
       "_model_module": "@jupyter-widgets/base",
       "_model_module_version": "1.2.0",
       "_model_name": "LayoutModel",
       "_view_count": null,
       "_view_module": "@jupyter-widgets/base",
       "_view_module_version": "1.2.0",
       "_view_name": "LayoutView",
       "align_content": null,
       "align_items": null,
       "align_self": null,
       "border": null,
       "bottom": null,
       "display": null,
       "flex": null,
       "flex_flow": null,
       "grid_area": null,
       "grid_auto_columns": null,
       "grid_auto_flow": null,
       "grid_auto_rows": null,
       "grid_column": null,
       "grid_gap": null,
       "grid_row": null,
       "grid_template_areas": null,
       "grid_template_columns": null,
       "grid_template_rows": null,
       "height": null,
       "justify_content": null,
       "justify_items": null,
       "left": null,
       "margin": null,
       "max_height": null,
       "max_width": null,
       "min_height": null,
       "min_width": null,
       "object_fit": null,
       "object_position": null,
       "order": null,
       "overflow": null,
       "overflow_x": null,
       "overflow_y": null,
       "padding": null,
       "right": null,
       "top": null,
       "visibility": null,
       "width": null
      }
     },
     "3326f17068e8482cad4c1f732a5f2c85": {
      "model_module": "@jupyter-widgets/base",
      "model_module_version": "1.2.0",
      "model_name": "LayoutModel",
      "state": {
       "_model_module": "@jupyter-widgets/base",
       "_model_module_version": "1.2.0",
       "_model_name": "LayoutModel",
       "_view_count": null,
       "_view_module": "@jupyter-widgets/base",
       "_view_module_version": "1.2.0",
       "_view_name": "LayoutView",
       "align_content": null,
       "align_items": null,
       "align_self": null,
       "border": null,
       "bottom": null,
       "display": null,
       "flex": null,
       "flex_flow": null,
       "grid_area": null,
       "grid_auto_columns": null,
       "grid_auto_flow": null,
       "grid_auto_rows": null,
       "grid_column": null,
       "grid_gap": null,
       "grid_row": null,
       "grid_template_areas": null,
       "grid_template_columns": null,
       "grid_template_rows": null,
       "height": null,
       "justify_content": null,
       "justify_items": null,
       "left": null,
       "margin": null,
       "max_height": null,
       "max_width": null,
       "min_height": null,
       "min_width": null,
       "object_fit": null,
       "object_position": null,
       "order": null,
       "overflow": null,
       "overflow_x": null,
       "overflow_y": null,
       "padding": null,
       "right": null,
       "top": null,
       "visibility": null,
       "width": null
      }
     },
     "37862c49a3b24049bb6c2bc0152c748e": {
      "model_module": "@jupyter-widgets/controls",
      "model_module_version": "1.5.0",
      "model_name": "HTMLModel",
      "state": {
       "_dom_classes": [],
       "_model_module": "@jupyter-widgets/controls",
       "_model_module_version": "1.5.0",
       "_model_name": "HTMLModel",
       "_view_count": null,
       "_view_module": "@jupyter-widgets/controls",
       "_view_module_version": "1.5.0",
       "_view_name": "HTMLView",
       "description": "",
       "description_tooltip": null,
       "layout": "IPY_MODEL_32e6ec6e07ce44ce8cbf1d910552827d",
       "placeholder": "​",
       "style": "IPY_MODEL_a2643f367dd849a59c5248fac7b4e4a4",
       "value": "model.safetensors: 100%"
      }
     },
     "37a8377ca2504f8bacd2ce54e2f4c592": {
      "model_module": "@jupyter-widgets/base",
      "model_module_version": "1.2.0",
      "model_name": "LayoutModel",
      "state": {
       "_model_module": "@jupyter-widgets/base",
       "_model_module_version": "1.2.0",
       "_model_name": "LayoutModel",
       "_view_count": null,
       "_view_module": "@jupyter-widgets/base",
       "_view_module_version": "1.2.0",
       "_view_name": "LayoutView",
       "align_content": null,
       "align_items": null,
       "align_self": null,
       "border": null,
       "bottom": null,
       "display": null,
       "flex": null,
       "flex_flow": null,
       "grid_area": null,
       "grid_auto_columns": null,
       "grid_auto_flow": null,
       "grid_auto_rows": null,
       "grid_column": null,
       "grid_gap": null,
       "grid_row": null,
       "grid_template_areas": null,
       "grid_template_columns": null,
       "grid_template_rows": null,
       "height": null,
       "justify_content": null,
       "justify_items": null,
       "left": null,
       "margin": null,
       "max_height": null,
       "max_width": null,
       "min_height": null,
       "min_width": null,
       "object_fit": null,
       "object_position": null,
       "order": null,
       "overflow": null,
       "overflow_x": null,
       "overflow_y": null,
       "padding": null,
       "right": null,
       "top": null,
       "visibility": null,
       "width": null
      }
     },
     "380eb7b5425c4fcb88118cd35a2e03a5": {
      "model_module": "@jupyter-widgets/base",
      "model_module_version": "1.2.0",
      "model_name": "LayoutModel",
      "state": {
       "_model_module": "@jupyter-widgets/base",
       "_model_module_version": "1.2.0",
       "_model_name": "LayoutModel",
       "_view_count": null,
       "_view_module": "@jupyter-widgets/base",
       "_view_module_version": "1.2.0",
       "_view_name": "LayoutView",
       "align_content": null,
       "align_items": null,
       "align_self": null,
       "border": null,
       "bottom": null,
       "display": null,
       "flex": null,
       "flex_flow": null,
       "grid_area": null,
       "grid_auto_columns": null,
       "grid_auto_flow": null,
       "grid_auto_rows": null,
       "grid_column": null,
       "grid_gap": null,
       "grid_row": null,
       "grid_template_areas": null,
       "grid_template_columns": null,
       "grid_template_rows": null,
       "height": null,
       "justify_content": null,
       "justify_items": null,
       "left": null,
       "margin": null,
       "max_height": null,
       "max_width": null,
       "min_height": null,
       "min_width": null,
       "object_fit": null,
       "object_position": null,
       "order": null,
       "overflow": null,
       "overflow_x": null,
       "overflow_y": null,
       "padding": null,
       "right": null,
       "top": null,
       "visibility": null,
       "width": null
      }
     },
     "4894c253dad34522a49bba16761c025a": {
      "model_module": "@jupyter-widgets/base",
      "model_module_version": "1.2.0",
      "model_name": "LayoutModel",
      "state": {
       "_model_module": "@jupyter-widgets/base",
       "_model_module_version": "1.2.0",
       "_model_name": "LayoutModel",
       "_view_count": null,
       "_view_module": "@jupyter-widgets/base",
       "_view_module_version": "1.2.0",
       "_view_name": "LayoutView",
       "align_content": null,
       "align_items": null,
       "align_self": null,
       "border": null,
       "bottom": null,
       "display": null,
       "flex": null,
       "flex_flow": null,
       "grid_area": null,
       "grid_auto_columns": null,
       "grid_auto_flow": null,
       "grid_auto_rows": null,
       "grid_column": null,
       "grid_gap": null,
       "grid_row": null,
       "grid_template_areas": null,
       "grid_template_columns": null,
       "grid_template_rows": null,
       "height": null,
       "justify_content": null,
       "justify_items": null,
       "left": null,
       "margin": null,
       "max_height": null,
       "max_width": null,
       "min_height": null,
       "min_width": null,
       "object_fit": null,
       "object_position": null,
       "order": null,
       "overflow": null,
       "overflow_x": null,
       "overflow_y": null,
       "padding": null,
       "right": null,
       "top": null,
       "visibility": null,
       "width": null
      }
     },
     "517784566bfc4fd182709ffd87f6ad6c": {
      "model_module": "@jupyter-widgets/controls",
      "model_module_version": "1.5.0",
      "model_name": "HTMLModel",
      "state": {
       "_dom_classes": [],
       "_model_module": "@jupyter-widgets/controls",
       "_model_module_version": "1.5.0",
       "_model_name": "HTMLModel",
       "_view_count": null,
       "_view_module": "@jupyter-widgets/controls",
       "_view_module_version": "1.5.0",
       "_view_name": "HTMLView",
       "description": "",
       "description_tooltip": null,
       "layout": "IPY_MODEL_3326f17068e8482cad4c1f732a5f2c85",
       "placeholder": "​",
       "style": "IPY_MODEL_5f7ffde0edb04928be3b9ee759e5414b",
       "value": "config.json: 100%"
      }
     },
     "51db82a6c54d4452a3c76e4a198a20bc": {
      "model_module": "@jupyter-widgets/base",
      "model_module_version": "1.2.0",
      "model_name": "LayoutModel",
      "state": {
       "_model_module": "@jupyter-widgets/base",
       "_model_module_version": "1.2.0",
       "_model_name": "LayoutModel",
       "_view_count": null,
       "_view_module": "@jupyter-widgets/base",
       "_view_module_version": "1.2.0",
       "_view_name": "LayoutView",
       "align_content": null,
       "align_items": null,
       "align_self": null,
       "border": null,
       "bottom": null,
       "display": null,
       "flex": null,
       "flex_flow": null,
       "grid_area": null,
       "grid_auto_columns": null,
       "grid_auto_flow": null,
       "grid_auto_rows": null,
       "grid_column": null,
       "grid_gap": null,
       "grid_row": null,
       "grid_template_areas": null,
       "grid_template_columns": null,
       "grid_template_rows": null,
       "height": null,
       "justify_content": null,
       "justify_items": null,
       "left": null,
       "margin": null,
       "max_height": null,
       "max_width": null,
       "min_height": null,
       "min_width": null,
       "object_fit": null,
       "object_position": null,
       "order": null,
       "overflow": null,
       "overflow_x": null,
       "overflow_y": null,
       "padding": null,
       "right": null,
       "top": null,
       "visibility": null,
       "width": null
      }
     },
     "53bc552ac37b4a5cb2330d8240e66cf7": {
      "model_module": "@jupyter-widgets/base",
      "model_module_version": "1.2.0",
      "model_name": "LayoutModel",
      "state": {
       "_model_module": "@jupyter-widgets/base",
       "_model_module_version": "1.2.0",
       "_model_name": "LayoutModel",
       "_view_count": null,
       "_view_module": "@jupyter-widgets/base",
       "_view_module_version": "1.2.0",
       "_view_name": "LayoutView",
       "align_content": null,
       "align_items": null,
       "align_self": null,
       "border": null,
       "bottom": null,
       "display": null,
       "flex": null,
       "flex_flow": null,
       "grid_area": null,
       "grid_auto_columns": null,
       "grid_auto_flow": null,
       "grid_auto_rows": null,
       "grid_column": null,
       "grid_gap": null,
       "grid_row": null,
       "grid_template_areas": null,
       "grid_template_columns": null,
       "grid_template_rows": null,
       "height": null,
       "justify_content": null,
       "justify_items": null,
       "left": null,
       "margin": null,
       "max_height": null,
       "max_width": null,
       "min_height": null,
       "min_width": null,
       "object_fit": null,
       "object_position": null,
       "order": null,
       "overflow": null,
       "overflow_x": null,
       "overflow_y": null,
       "padding": null,
       "right": null,
       "top": null,
       "visibility": null,
       "width": null
      }
     },
     "5f7ffde0edb04928be3b9ee759e5414b": {
      "model_module": "@jupyter-widgets/controls",
      "model_module_version": "1.5.0",
      "model_name": "DescriptionStyleModel",
      "state": {
       "_model_module": "@jupyter-widgets/controls",
       "_model_module_version": "1.5.0",
       "_model_name": "DescriptionStyleModel",
       "_view_count": null,
       "_view_module": "@jupyter-widgets/base",
       "_view_module_version": "1.2.0",
       "_view_name": "StyleView",
       "description_width": ""
      }
     },
     "6328c36e398a41deb11334b8284594a7": {
      "model_module": "@jupyter-widgets/controls",
      "model_module_version": "1.5.0",
      "model_name": "FloatProgressModel",
      "state": {
       "_dom_classes": [],
       "_model_module": "@jupyter-widgets/controls",
       "_model_module_version": "1.5.0",
       "_model_name": "FloatProgressModel",
       "_view_count": null,
       "_view_module": "@jupyter-widgets/controls",
       "_view_module_version": "1.5.0",
       "_view_name": "ProgressView",
       "bar_style": "success",
       "description": "",
       "description_tooltip": null,
       "layout": "IPY_MODEL_f279465143b34fb791ebaf86944371ed",
       "max": 693.0,
       "min": 0.0,
       "orientation": "horizontal",
       "style": "IPY_MODEL_e7d23d7766384281b47c63c6c09c14a2",
       "value": 693.0
      }
     },
     "64e1732fb55141ad949b87a51c234017": {
      "model_module": "@jupyter-widgets/controls",
      "model_module_version": "1.5.0",
      "model_name": "HTMLModel",
      "state": {
       "_dom_classes": [],
       "_model_module": "@jupyter-widgets/controls",
       "_model_module_version": "1.5.0",
       "_model_name": "HTMLModel",
       "_view_count": null,
       "_view_module": "@jupyter-widgets/controls",
       "_view_module_version": "1.5.0",
       "_view_name": "HTMLView",
       "description": "",
       "description_tooltip": null,
       "layout": "IPY_MODEL_cf8adbecdc49423bbcd357aadc705d98",
       "placeholder": "​",
       "style": "IPY_MODEL_1ed54d3f5c3f4a1288d355cc9d36b6d0",
       "value": " 14.5M/14.5M [00:00&lt;00:00, 134MB/s]"
      }
     },
     "6513fa109f4c4afd9af1bb187953473f": {
      "model_module": "@jupyter-widgets/base",
      "model_module_version": "1.2.0",
      "model_name": "LayoutModel",
      "state": {
       "_model_module": "@jupyter-widgets/base",
       "_model_module_version": "1.2.0",
       "_model_name": "LayoutModel",
       "_view_count": null,
       "_view_module": "@jupyter-widgets/base",
       "_view_module_version": "1.2.0",
       "_view_name": "LayoutView",
       "align_content": null,
       "align_items": null,
       "align_self": null,
       "border": null,
       "bottom": null,
       "display": null,
       "flex": null,
       "flex_flow": null,
       "grid_area": null,
       "grid_auto_columns": null,
       "grid_auto_flow": null,
       "grid_auto_rows": null,
       "grid_column": null,
       "grid_gap": null,
       "grid_row": null,
       "grid_template_areas": null,
       "grid_template_columns": null,
       "grid_template_rows": null,
       "height": null,
       "justify_content": null,
       "justify_items": null,
       "left": null,
       "margin": null,
       "max_height": null,
       "max_width": null,
       "min_height": null,
       "min_width": null,
       "object_fit": null,
       "object_position": null,
       "order": null,
       "overflow": null,
       "overflow_x": null,
       "overflow_y": null,
       "padding": null,
       "right": null,
       "top": null,
       "visibility": null,
       "width": null
      }
     },
     "6af264f653ac4048af10d3245a5515fa": {
      "model_module": "@jupyter-widgets/controls",
      "model_module_version": "1.5.0",
      "model_name": "HTMLModel",
      "state": {
       "_dom_classes": [],
       "_model_module": "@jupyter-widgets/controls",
       "_model_module_version": "1.5.0",
       "_model_name": "HTMLModel",
       "_view_count": null,
       "_view_module": "@jupyter-widgets/controls",
       "_view_module_version": "1.5.0",
       "_view_name": "HTMLView",
       "description": "",
       "description_tooltip": null,
       "layout": "IPY_MODEL_53bc552ac37b4a5cb2330d8240e66cf7",
       "placeholder": "​",
       "style": "IPY_MODEL_6b05c8174dfd4973b4947fd8ccb65931",
       "value": "tokenizer_config.json: 100%"
      }
     },
     "6b05c8174dfd4973b4947fd8ccb65931": {
      "model_module": "@jupyter-widgets/controls",
      "model_module_version": "1.5.0",
      "model_name": "DescriptionStyleModel",
      "state": {
       "_model_module": "@jupyter-widgets/controls",
       "_model_module_version": "1.5.0",
       "_model_name": "DescriptionStyleModel",
       "_view_count": null,
       "_view_module": "@jupyter-widgets/base",
       "_view_module_version": "1.2.0",
       "_view_name": "StyleView",
       "description_width": ""
      }
     },
     "6e1a2bc50edb47e3be1b30434589aa42": {
      "model_module": "@jupyter-widgets/controls",
      "model_module_version": "1.5.0",
      "model_name": "ProgressStyleModel",
      "state": {
       "_model_module": "@jupyter-widgets/controls",
       "_model_module_version": "1.5.0",
       "_model_name": "ProgressStyleModel",
       "_view_count": null,
       "_view_module": "@jupyter-widgets/base",
       "_view_module_version": "1.2.0",
       "_view_name": "StyleView",
       "bar_color": null,
       "description_width": ""
      }
     },
     "72ec2f7784d34989817b2e00dcd062c9": {
      "model_module": "@jupyter-widgets/controls",
      "model_module_version": "1.5.0",
      "model_name": "ProgressStyleModel",
      "state": {
       "_model_module": "@jupyter-widgets/controls",
       "_model_module_version": "1.5.0",
       "_model_name": "ProgressStyleModel",
       "_view_count": null,
       "_view_module": "@jupyter-widgets/base",
       "_view_module_version": "1.2.0",
       "_view_name": "StyleView",
       "bar_color": null,
       "description_width": ""
      }
     },
     "76744051571e445a8ca1aa6b37fcac6e": {
      "model_module": "@jupyter-widgets/controls",
      "model_module_version": "1.5.0",
      "model_name": "HBoxModel",
      "state": {
       "_dom_classes": [],
       "_model_module": "@jupyter-widgets/controls",
       "_model_module_version": "1.5.0",
       "_model_name": "HBoxModel",
       "_view_count": null,
       "_view_module": "@jupyter-widgets/controls",
       "_view_module_version": "1.5.0",
       "_view_name": "HBoxView",
       "box_style": "",
       "children": [
        "IPY_MODEL_37862c49a3b24049bb6c2bc0152c748e",
        "IPY_MODEL_9e0b5e2299dc4a79b5a4f1fc312fc817",
        "IPY_MODEL_bbc2ad1487c34a34ba9da2bf0331987e"
       ],
       "layout": "IPY_MODEL_6513fa109f4c4afd9af1bb187953473f"
      }
     },
     "792c1224eaa54b15bcbbae5413342fd3": {
      "model_module": "@jupyter-widgets/base",
      "model_module_version": "1.2.0",
      "model_name": "LayoutModel",
      "state": {
       "_model_module": "@jupyter-widgets/base",
       "_model_module_version": "1.2.0",
       "_model_name": "LayoutModel",
       "_view_count": null,
       "_view_module": "@jupyter-widgets/base",
       "_view_module_version": "1.2.0",
       "_view_name": "LayoutView",
       "align_content": null,
       "align_items": null,
       "align_self": null,
       "border": null,
       "bottom": null,
       "display": null,
       "flex": null,
       "flex_flow": null,
       "grid_area": null,
       "grid_auto_columns": null,
       "grid_auto_flow": null,
       "grid_auto_rows": null,
       "grid_column": null,
       "grid_gap": null,
       "grid_row": null,
       "grid_template_areas": null,
       "grid_template_columns": null,
       "grid_template_rows": null,
       "height": null,
       "justify_content": null,
       "justify_items": null,
       "left": null,
       "margin": null,
       "max_height": null,
       "max_width": null,
       "min_height": null,
       "min_width": null,
       "object_fit": null,
       "object_position": null,
       "order": null,
       "overflow": null,
       "overflow_x": null,
       "overflow_y": null,
       "padding": null,
       "right": null,
       "top": null,
       "visibility": null,
       "width": null
      }
     },
     "7f689dfe68db469bb66f9b02a5d03cb2": {
      "model_module": "@jupyter-widgets/controls",
      "model_module_version": "1.5.0",
      "model_name": "FloatProgressModel",
      "state": {
       "_dom_classes": [],
       "_model_module": "@jupyter-widgets/controls",
       "_model_module_version": "1.5.0",
       "_model_name": "FloatProgressModel",
       "_view_count": null,
       "_view_module": "@jupyter-widgets/controls",
       "_view_module_version": "1.5.0",
       "_view_name": "ProgressView",
       "bar_style": "success",
       "description": "",
       "description_tooltip": null,
       "layout": "IPY_MODEL_aff76cf37ead4877b945ecbcfe8e4e99",
       "max": 222.0,
       "min": 0.0,
       "orientation": "horizontal",
       "style": "IPY_MODEL_b8ea6055d7614105ba0f3293f1686606",
       "value": 222.0
      }
     },
     "83edc7c313a0492c99d0991a8cb63f60": {
      "model_module": "@jupyter-widgets/controls",
      "model_module_version": "1.5.0",
      "model_name": "HBoxModel",
      "state": {
       "_dom_classes": [],
       "_model_module": "@jupyter-widgets/controls",
       "_model_module_version": "1.5.0",
       "_model_name": "HBoxModel",
       "_view_count": null,
       "_view_module": "@jupyter-widgets/controls",
       "_view_module_version": "1.5.0",
       "_view_name": "HBoxView",
       "box_style": "",
       "children": [
        "IPY_MODEL_6af264f653ac4048af10d3245a5515fa",
        "IPY_MODEL_7f689dfe68db469bb66f9b02a5d03cb2",
        "IPY_MODEL_90dc2fe24452415c9933815718b30fca"
       ],
       "layout": "IPY_MODEL_92df380cc48b435689c0fec2022dca74"
      }
     },
     "88bac19d800343178a3db19d5f4b2794": {
      "model_module": "@jupyter-widgets/base",
      "model_module_version": "1.2.0",
      "model_name": "LayoutModel",
      "state": {
       "_model_module": "@jupyter-widgets/base",
       "_model_module_version": "1.2.0",
       "_model_name": "LayoutModel",
       "_view_count": null,
       "_view_module": "@jupyter-widgets/base",
       "_view_module_version": "1.2.0",
       "_view_name": "LayoutView",
       "align_content": null,
       "align_items": null,
       "align_self": null,
       "border": null,
       "bottom": null,
       "display": null,
       "flex": null,
       "flex_flow": null,
       "grid_area": null,
       "grid_auto_columns": null,
       "grid_auto_flow": null,
       "grid_auto_rows": null,
       "grid_column": null,
       "grid_gap": null,
       "grid_row": null,
       "grid_template_areas": null,
       "grid_template_columns": null,
       "grid_template_rows": null,
       "height": null,
       "justify_content": null,
       "justify_items": null,
       "left": null,
       "margin": null,
       "max_height": null,
       "max_width": null,
       "min_height": null,
       "min_width": null,
       "object_fit": null,
       "object_position": null,
       "order": null,
       "overflow": null,
       "overflow_x": null,
       "overflow_y": null,
       "padding": null,
       "right": null,
       "top": null,
       "visibility": null,
       "width": null
      }
     },
     "90dc2fe24452415c9933815718b30fca": {
      "model_module": "@jupyter-widgets/controls",
      "model_module_version": "1.5.0",
      "model_name": "HTMLModel",
      "state": {
       "_dom_classes": [],
       "_model_module": "@jupyter-widgets/controls",
       "_model_module_version": "1.5.0",
       "_model_name": "HTMLModel",
       "_view_count": null,
       "_view_module": "@jupyter-widgets/controls",
       "_view_module_version": "1.5.0",
       "_view_name": "HTMLView",
       "description": "",
       "description_tooltip": null,
       "layout": "IPY_MODEL_88bac19d800343178a3db19d5f4b2794",
       "placeholder": "​",
       "style": "IPY_MODEL_d9c3616d9e934abaa27fab82323387f5",
       "value": " 222/222 [00:00&lt;00:00, 18.6kB/s]"
      }
     },
     "92df380cc48b435689c0fec2022dca74": {
      "model_module": "@jupyter-widgets/base",
      "model_module_version": "1.2.0",
      "model_name": "LayoutModel",
      "state": {
       "_model_module": "@jupyter-widgets/base",
       "_model_module_version": "1.2.0",
       "_model_name": "LayoutModel",
       "_view_count": null,
       "_view_module": "@jupyter-widgets/base",
       "_view_module_version": "1.2.0",
       "_view_name": "LayoutView",
       "align_content": null,
       "align_items": null,
       "align_self": null,
       "border": null,
       "bottom": null,
       "display": null,
       "flex": null,
       "flex_flow": null,
       "grid_area": null,
       "grid_auto_columns": null,
       "grid_auto_flow": null,
       "grid_auto_rows": null,
       "grid_column": null,
       "grid_gap": null,
       "grid_row": null,
       "grid_template_areas": null,
       "grid_template_columns": null,
       "grid_template_rows": null,
       "height": null,
       "justify_content": null,
       "justify_items": null,
       "left": null,
       "margin": null,
       "max_height": null,
       "max_width": null,
       "min_height": null,
       "min_width": null,
       "object_fit": null,
       "object_position": null,
       "order": null,
       "overflow": null,
       "overflow_x": null,
       "overflow_y": null,
       "padding": null,
       "right": null,
       "top": null,
       "visibility": null,
       "width": null
      }
     },
     "9e0b5e2299dc4a79b5a4f1fc312fc817": {
      "model_module": "@jupyter-widgets/controls",
      "model_module_version": "1.5.0",
      "model_name": "FloatProgressModel",
      "state": {
       "_dom_classes": [],
       "_model_module": "@jupyter-widgets/controls",
       "_model_module_version": "1.5.0",
       "_model_name": "FloatProgressModel",
       "_view_count": null,
       "_view_module": "@jupyter-widgets/controls",
       "_view_module_version": "1.5.0",
       "_view_name": "ProgressView",
       "bar_style": "success",
       "description": "",
       "description_tooltip": null,
       "layout": "IPY_MODEL_a626d70b686f4436b934892e702dfd97",
       "max": 1118459525.0,
       "min": 0.0,
       "orientation": "horizontal",
       "style": "IPY_MODEL_af5565a983744558bd29eb2e8de2a5e9",
       "value": 1118459525.0
      }
     },
     "a18f537ad5c541d08b6bc5b436dd6089": {
      "model_module": "@jupyter-widgets/controls",
      "model_module_version": "1.5.0",
      "model_name": "FloatProgressModel",
      "state": {
       "_dom_classes": [],
       "_model_module": "@jupyter-widgets/controls",
       "_model_module_version": "1.5.0",
       "_model_name": "FloatProgressModel",
       "_view_count": null,
       "_view_module": "@jupyter-widgets/controls",
       "_view_module_version": "1.5.0",
       "_view_name": "ProgressView",
       "bar_style": "success",
       "description": "",
       "description_tooltip": null,
       "layout": "IPY_MODEL_4894c253dad34522a49bba16761c025a",
       "max": 85.0,
       "min": 0.0,
       "orientation": "horizontal",
       "style": "IPY_MODEL_6e1a2bc50edb47e3be1b30434589aa42",
       "value": 85.0
      }
     },
     "a2643f367dd849a59c5248fac7b4e4a4": {
      "model_module": "@jupyter-widgets/controls",
      "model_module_version": "1.5.0",
      "model_name": "DescriptionStyleModel",
      "state": {
       "_model_module": "@jupyter-widgets/controls",
       "_model_module_version": "1.5.0",
       "_model_name": "DescriptionStyleModel",
       "_view_count": null,
       "_view_module": "@jupyter-widgets/base",
       "_view_module_version": "1.2.0",
       "_view_name": "StyleView",
       "description_width": ""
      }
     },
     "a3e8e0385e084cf6bb400d041d1b336e": {
      "model_module": "@jupyter-widgets/controls",
      "model_module_version": "1.5.0",
      "model_name": "HTMLModel",
      "state": {
       "_dom_classes": [],
       "_model_module": "@jupyter-widgets/controls",
       "_model_module_version": "1.5.0",
       "_model_name": "HTMLModel",
       "_view_count": null,
       "_view_module": "@jupyter-widgets/controls",
       "_view_module_version": "1.5.0",
       "_view_name": "HTMLView",
       "description": "",
       "description_tooltip": null,
       "layout": "IPY_MODEL_792c1224eaa54b15bcbbae5413342fd3",
       "placeholder": "​",
       "style": "IPY_MODEL_fd3d50d7129d48c1b33edd3db7a814f2",
       "value": "tokenizer.json: 100%"
      }
     },
     "a626d70b686f4436b934892e702dfd97": {
      "model_module": "@jupyter-widgets/base",
      "model_module_version": "1.2.0",
      "model_name": "LayoutModel",
      "state": {
       "_model_module": "@jupyter-widgets/base",
       "_model_module_version": "1.2.0",
       "_model_name": "LayoutModel",
       "_view_count": null,
       "_view_module": "@jupyter-widgets/base",
       "_view_module_version": "1.2.0",
       "_view_name": "LayoutView",
       "align_content": null,
       "align_items": null,
       "align_self": null,
       "border": null,
       "bottom": null,
       "display": null,
       "flex": null,
       "flex_flow": null,
       "grid_area": null,
       "grid_auto_columns": null,
       "grid_auto_flow": null,
       "grid_auto_rows": null,
       "grid_column": null,
       "grid_gap": null,
       "grid_row": null,
       "grid_template_areas": null,
       "grid_template_columns": null,
       "grid_template_rows": null,
       "height": null,
       "justify_content": null,
       "justify_items": null,
       "left": null,
       "margin": null,
       "max_height": null,
       "max_width": null,
       "min_height": null,
       "min_width": null,
       "object_fit": null,
       "object_position": null,
       "order": null,
       "overflow": null,
       "overflow_x": null,
       "overflow_y": null,
       "padding": null,
       "right": null,
       "top": null,
       "visibility": null,
       "width": null
      }
     },
     "af5565a983744558bd29eb2e8de2a5e9": {
      "model_module": "@jupyter-widgets/controls",
      "model_module_version": "1.5.0",
      "model_name": "ProgressStyleModel",
      "state": {
       "_model_module": "@jupyter-widgets/controls",
       "_model_module_version": "1.5.0",
       "_model_name": "ProgressStyleModel",
       "_view_count": null,
       "_view_module": "@jupyter-widgets/base",
       "_view_module_version": "1.2.0",
       "_view_name": "StyleView",
       "bar_color": null,
       "description_width": ""
      }
     },
     "aff76cf37ead4877b945ecbcfe8e4e99": {
      "model_module": "@jupyter-widgets/base",
      "model_module_version": "1.2.0",
      "model_name": "LayoutModel",
      "state": {
       "_model_module": "@jupyter-widgets/base",
       "_model_module_version": "1.2.0",
       "_model_name": "LayoutModel",
       "_view_count": null,
       "_view_module": "@jupyter-widgets/base",
       "_view_module_version": "1.2.0",
       "_view_name": "LayoutView",
       "align_content": null,
       "align_items": null,
       "align_self": null,
       "border": null,
       "bottom": null,
       "display": null,
       "flex": null,
       "flex_flow": null,
       "grid_area": null,
       "grid_auto_columns": null,
       "grid_auto_flow": null,
       "grid_auto_rows": null,
       "grid_column": null,
       "grid_gap": null,
       "grid_row": null,
       "grid_template_areas": null,
       "grid_template_columns": null,
       "grid_template_rows": null,
       "height": null,
       "justify_content": null,
       "justify_items": null,
       "left": null,
       "margin": null,
       "max_height": null,
       "max_width": null,
       "min_height": null,
       "min_width": null,
       "object_fit": null,
       "object_position": null,
       "order": null,
       "overflow": null,
       "overflow_x": null,
       "overflow_y": null,
       "padding": null,
       "right": null,
       "top": null,
       "visibility": null,
       "width": null
      }
     },
     "b30297f1e13b403d968cf23dc297d444": {
      "model_module": "@jupyter-widgets/controls",
      "model_module_version": "1.5.0",
      "model_name": "HTMLModel",
      "state": {
       "_dom_classes": [],
       "_model_module": "@jupyter-widgets/controls",
       "_model_module_version": "1.5.0",
       "_model_name": "HTMLModel",
       "_view_count": null,
       "_view_module": "@jupyter-widgets/controls",
       "_view_module_version": "1.5.0",
       "_view_name": "HTMLView",
       "description": "",
       "description_tooltip": null,
       "layout": "IPY_MODEL_079efb9116084dfc910cb9b534d1c540",
       "placeholder": "​",
       "style": "IPY_MODEL_f7c648993bad42cd9adc2e111cd7a60c",
       "value": " 85.0/85.0 [00:00&lt;00:00, 5.93kB/s]"
      }
     },
     "b35a5622182a459ea804eeab1027b788": {
      "model_module": "@jupyter-widgets/controls",
      "model_module_version": "1.5.0",
      "model_name": "DescriptionStyleModel",
      "state": {
       "_model_module": "@jupyter-widgets/controls",
       "_model_module_version": "1.5.0",
       "_model_name": "DescriptionStyleModel",
       "_view_count": null,
       "_view_module": "@jupyter-widgets/base",
       "_view_module_version": "1.2.0",
       "_view_name": "StyleView",
       "description_width": ""
      }
     },
     "b84c1081a8174a57b88152e3802353d6": {
      "model_module": "@jupyter-widgets/base",
      "model_module_version": "1.2.0",
      "model_name": "LayoutModel",
      "state": {
       "_model_module": "@jupyter-widgets/base",
       "_model_module_version": "1.2.0",
       "_model_name": "LayoutModel",
       "_view_count": null,
       "_view_module": "@jupyter-widgets/base",
       "_view_module_version": "1.2.0",
       "_view_name": "LayoutView",
       "align_content": null,
       "align_items": null,
       "align_self": null,
       "border": null,
       "bottom": null,
       "display": null,
       "flex": null,
       "flex_flow": null,
       "grid_area": null,
       "grid_auto_columns": null,
       "grid_auto_flow": null,
       "grid_auto_rows": null,
       "grid_column": null,
       "grid_gap": null,
       "grid_row": null,
       "grid_template_areas": null,
       "grid_template_columns": null,
       "grid_template_rows": null,
       "height": null,
       "justify_content": null,
       "justify_items": null,
       "left": null,
       "margin": null,
       "max_height": null,
       "max_width": null,
       "min_height": null,
       "min_width": null,
       "object_fit": null,
       "object_position": null,
       "order": null,
       "overflow": null,
       "overflow_x": null,
       "overflow_y": null,
       "padding": null,
       "right": null,
       "top": null,
       "visibility": null,
       "width": null
      }
     },
     "b8ea6055d7614105ba0f3293f1686606": {
      "model_module": "@jupyter-widgets/controls",
      "model_module_version": "1.5.0",
      "model_name": "ProgressStyleModel",
      "state": {
       "_model_module": "@jupyter-widgets/controls",
       "_model_module_version": "1.5.0",
       "_model_name": "ProgressStyleModel",
       "_view_count": null,
       "_view_module": "@jupyter-widgets/base",
       "_view_module_version": "1.2.0",
       "_view_name": "StyleView",
       "bar_color": null,
       "description_width": ""
      }
     },
     "ba8d044ba6e54049b1f6925ac41b898d": {
      "model_module": "@jupyter-widgets/controls",
      "model_module_version": "1.5.0",
      "model_name": "HTMLModel",
      "state": {
       "_dom_classes": [],
       "_model_module": "@jupyter-widgets/controls",
       "_model_module_version": "1.5.0",
       "_model_name": "HTMLModel",
       "_view_count": null,
       "_view_module": "@jupyter-widgets/controls",
       "_view_module_version": "1.5.0",
       "_view_name": "HTMLView",
       "description": "",
       "description_tooltip": null,
       "layout": "IPY_MODEL_37a8377ca2504f8bacd2ce54e2f4c592",
       "placeholder": "​",
       "style": "IPY_MODEL_01b6bf8b3f824f1881e551805e2d323c",
       "value": " 693/693 [00:00&lt;00:00, 65.1kB/s]"
      }
     },
     "bbc2ad1487c34a34ba9da2bf0331987e": {
      "model_module": "@jupyter-widgets/controls",
      "model_module_version": "1.5.0",
      "model_name": "HTMLModel",
      "state": {
       "_dom_classes": [],
       "_model_module": "@jupyter-widgets/controls",
       "_model_module_version": "1.5.0",
       "_model_name": "HTMLModel",
       "_view_count": null,
       "_view_module": "@jupyter-widgets/controls",
       "_view_module_version": "1.5.0",
       "_view_name": "HTMLView",
       "description": "",
       "description_tooltip": null,
       "layout": "IPY_MODEL_b84c1081a8174a57b88152e3802353d6",
       "placeholder": "​",
       "style": "IPY_MODEL_b35a5622182a459ea804eeab1027b788",
       "value": " 1.12G/1.12G [00:04&lt;00:00, 277MB/s]"
      }
     },
     "c3e80b3b8d3248ad8ae92b8e64a7aaaa": {
      "model_module": "@jupyter-widgets/controls",
      "model_module_version": "1.5.0",
      "model_name": "HBoxModel",
      "state": {
       "_dom_classes": [],
       "_model_module": "@jupyter-widgets/controls",
       "_model_module_version": "1.5.0",
       "_model_name": "HBoxModel",
       "_view_count": null,
       "_view_module": "@jupyter-widgets/controls",
       "_view_module_version": "1.5.0",
       "_view_name": "HBoxView",
       "box_style": "",
       "children": [
        "IPY_MODEL_a3e8e0385e084cf6bb400d041d1b336e",
        "IPY_MODEL_eed37019d3a94fe4b0430beb24f5ebe0",
        "IPY_MODEL_64e1732fb55141ad949b87a51c234017"
       ],
       "layout": "IPY_MODEL_380eb7b5425c4fcb88118cd35a2e03a5"
      }
     },
     "c90a7031e7454c8dacd970b85472363e": {
      "model_module": "@jupyter-widgets/base",
      "model_module_version": "1.2.0",
      "model_name": "LayoutModel",
      "state": {
       "_model_module": "@jupyter-widgets/base",
       "_model_module_version": "1.2.0",
       "_model_name": "LayoutModel",
       "_view_count": null,
       "_view_module": "@jupyter-widgets/base",
       "_view_module_version": "1.2.0",
       "_view_name": "LayoutView",
       "align_content": null,
       "align_items": null,
       "align_self": null,
       "border": null,
       "bottom": null,
       "display": null,
       "flex": null,
       "flex_flow": null,
       "grid_area": null,
       "grid_auto_columns": null,
       "grid_auto_flow": null,
       "grid_auto_rows": null,
       "grid_column": null,
       "grid_gap": null,
       "grid_row": null,
       "grid_template_areas": null,
       "grid_template_columns": null,
       "grid_template_rows": null,
       "height": null,
       "justify_content": null,
       "justify_items": null,
       "left": null,
       "margin": null,
       "max_height": null,
       "max_width": null,
       "min_height": null,
       "min_width": null,
       "object_fit": null,
       "object_position": null,
       "order": null,
       "overflow": null,
       "overflow_x": null,
       "overflow_y": null,
       "padding": null,
       "right": null,
       "top": null,
       "visibility": null,
       "width": null
      }
     },
     "cf8adbecdc49423bbcd357aadc705d98": {
      "model_module": "@jupyter-widgets/base",
      "model_module_version": "1.2.0",
      "model_name": "LayoutModel",
      "state": {
       "_model_module": "@jupyter-widgets/base",
       "_model_module_version": "1.2.0",
       "_model_name": "LayoutModel",
       "_view_count": null,
       "_view_module": "@jupyter-widgets/base",
       "_view_module_version": "1.2.0",
       "_view_name": "LayoutView",
       "align_content": null,
       "align_items": null,
       "align_self": null,
       "border": null,
       "bottom": null,
       "display": null,
       "flex": null,
       "flex_flow": null,
       "grid_area": null,
       "grid_auto_columns": null,
       "grid_auto_flow": null,
       "grid_auto_rows": null,
       "grid_column": null,
       "grid_gap": null,
       "grid_row": null,
       "grid_template_areas": null,
       "grid_template_columns": null,
       "grid_template_rows": null,
       "height": null,
       "justify_content": null,
       "justify_items": null,
       "left": null,
       "margin": null,
       "max_height": null,
       "max_width": null,
       "min_height": null,
       "min_width": null,
       "object_fit": null,
       "object_position": null,
       "order": null,
       "overflow": null,
       "overflow_x": null,
       "overflow_y": null,
       "padding": null,
       "right": null,
       "top": null,
       "visibility": null,
       "width": null
      }
     },
     "d9c3616d9e934abaa27fab82323387f5": {
      "model_module": "@jupyter-widgets/controls",
      "model_module_version": "1.5.0",
      "model_name": "DescriptionStyleModel",
      "state": {
       "_model_module": "@jupyter-widgets/controls",
       "_model_module_version": "1.5.0",
       "_model_name": "DescriptionStyleModel",
       "_view_count": null,
       "_view_module": "@jupyter-widgets/base",
       "_view_module_version": "1.2.0",
       "_view_name": "StyleView",
       "description_width": ""
      }
     },
     "da48bd2589264635a1841ed54b134628": {
      "model_module": "@jupyter-widgets/base",
      "model_module_version": "1.2.0",
      "model_name": "LayoutModel",
      "state": {
       "_model_module": "@jupyter-widgets/base",
       "_model_module_version": "1.2.0",
       "_model_name": "LayoutModel",
       "_view_count": null,
       "_view_module": "@jupyter-widgets/base",
       "_view_module_version": "1.2.0",
       "_view_name": "LayoutView",
       "align_content": null,
       "align_items": null,
       "align_self": null,
       "border": null,
       "bottom": null,
       "display": null,
       "flex": null,
       "flex_flow": null,
       "grid_area": null,
       "grid_auto_columns": null,
       "grid_auto_flow": null,
       "grid_auto_rows": null,
       "grid_column": null,
       "grid_gap": null,
       "grid_row": null,
       "grid_template_areas": null,
       "grid_template_columns": null,
       "grid_template_rows": null,
       "height": null,
       "justify_content": null,
       "justify_items": null,
       "left": null,
       "margin": null,
       "max_height": null,
       "max_width": null,
       "min_height": null,
       "min_width": null,
       "object_fit": null,
       "object_position": null,
       "order": null,
       "overflow": null,
       "overflow_x": null,
       "overflow_y": null,
       "padding": null,
       "right": null,
       "top": null,
       "visibility": null,
       "width": null
      }
     },
     "e280d98c767f4677ae2b771092f0d89b": {
      "model_module": "@jupyter-widgets/base",
      "model_module_version": "1.2.0",
      "model_name": "LayoutModel",
      "state": {
       "_model_module": "@jupyter-widgets/base",
       "_model_module_version": "1.2.0",
       "_model_name": "LayoutModel",
       "_view_count": null,
       "_view_module": "@jupyter-widgets/base",
       "_view_module_version": "1.2.0",
       "_view_name": "LayoutView",
       "align_content": null,
       "align_items": null,
       "align_self": null,
       "border": null,
       "bottom": null,
       "display": null,
       "flex": null,
       "flex_flow": null,
       "grid_area": null,
       "grid_auto_columns": null,
       "grid_auto_flow": null,
       "grid_auto_rows": null,
       "grid_column": null,
       "grid_gap": null,
       "grid_row": null,
       "grid_template_areas": null,
       "grid_template_columns": null,
       "grid_template_rows": null,
       "height": null,
       "justify_content": null,
       "justify_items": null,
       "left": null,
       "margin": null,
       "max_height": null,
       "max_width": null,
       "min_height": null,
       "min_width": null,
       "object_fit": null,
       "object_position": null,
       "order": null,
       "overflow": null,
       "overflow_x": null,
       "overflow_y": null,
       "padding": null,
       "right": null,
       "top": null,
       "visibility": null,
       "width": null
      }
     },
     "e7d23d7766384281b47c63c6c09c14a2": {
      "model_module": "@jupyter-widgets/controls",
      "model_module_version": "1.5.0",
      "model_name": "ProgressStyleModel",
      "state": {
       "_model_module": "@jupyter-widgets/controls",
       "_model_module_version": "1.5.0",
       "_model_name": "ProgressStyleModel",
       "_view_count": null,
       "_view_module": "@jupyter-widgets/base",
       "_view_module_version": "1.2.0",
       "_view_name": "StyleView",
       "bar_color": null,
       "description_width": ""
      }
     },
     "ea378421187a4e0e9de34e29cffb8c84": {
      "model_module": "@jupyter-widgets/controls",
      "model_module_version": "1.5.0",
      "model_name": "HBoxModel",
      "state": {
       "_dom_classes": [],
       "_model_module": "@jupyter-widgets/controls",
       "_model_module_version": "1.5.0",
       "_model_name": "HBoxModel",
       "_view_count": null,
       "_view_module": "@jupyter-widgets/controls",
       "_view_module_version": "1.5.0",
       "_view_name": "HBoxView",
       "box_style": "",
       "children": [
        "IPY_MODEL_fe0f4ef8a14643acae4e4ddf92902bcd",
        "IPY_MODEL_a18f537ad5c541d08b6bc5b436dd6089",
        "IPY_MODEL_b30297f1e13b403d968cf23dc297d444"
       ],
       "layout": "IPY_MODEL_da48bd2589264635a1841ed54b134628"
      }
     },
     "eed37019d3a94fe4b0430beb24f5ebe0": {
      "model_module": "@jupyter-widgets/controls",
      "model_module_version": "1.5.0",
      "model_name": "FloatProgressModel",
      "state": {
       "_dom_classes": [],
       "_model_module": "@jupyter-widgets/controls",
       "_model_module_version": "1.5.0",
       "_model_name": "FloatProgressModel",
       "_view_count": null,
       "_view_module": "@jupyter-widgets/controls",
       "_view_module_version": "1.5.0",
       "_view_name": "ProgressView",
       "bar_style": "success",
       "description": "",
       "description_tooltip": null,
       "layout": "IPY_MODEL_51db82a6c54d4452a3c76e4a198a20bc",
       "max": 14500438.0,
       "min": 0.0,
       "orientation": "horizontal",
       "style": "IPY_MODEL_72ec2f7784d34989817b2e00dcd062c9",
       "value": 14500438.0
      }
     },
     "f279465143b34fb791ebaf86944371ed": {
      "model_module": "@jupyter-widgets/base",
      "model_module_version": "1.2.0",
      "model_name": "LayoutModel",
      "state": {
       "_model_module": "@jupyter-widgets/base",
       "_model_module_version": "1.2.0",
       "_model_name": "LayoutModel",
       "_view_count": null,
       "_view_module": "@jupyter-widgets/base",
       "_view_module_version": "1.2.0",
       "_view_name": "LayoutView",
       "align_content": null,
       "align_items": null,
       "align_self": null,
       "border": null,
       "bottom": null,
       "display": null,
       "flex": null,
       "flex_flow": null,
       "grid_area": null,
       "grid_auto_columns": null,
       "grid_auto_flow": null,
       "grid_auto_rows": null,
       "grid_column": null,
       "grid_gap": null,
       "grid_row": null,
       "grid_template_areas": null,
       "grid_template_columns": null,
       "grid_template_rows": null,
       "height": null,
       "justify_content": null,
       "justify_items": null,
       "left": null,
       "margin": null,
       "max_height": null,
       "max_width": null,
       "min_height": null,
       "min_width": null,
       "object_fit": null,
       "object_position": null,
       "order": null,
       "overflow": null,
       "overflow_x": null,
       "overflow_y": null,
       "padding": null,
       "right": null,
       "top": null,
       "visibility": null,
       "width": null
      }
     },
     "f7c648993bad42cd9adc2e111cd7a60c": {
      "model_module": "@jupyter-widgets/controls",
      "model_module_version": "1.5.0",
      "model_name": "DescriptionStyleModel",
      "state": {
       "_model_module": "@jupyter-widgets/controls",
       "_model_module_version": "1.5.0",
       "_model_name": "DescriptionStyleModel",
       "_view_count": null,
       "_view_module": "@jupyter-widgets/base",
       "_view_module_version": "1.2.0",
       "_view_name": "StyleView",
       "description_width": ""
      }
     },
     "f85a1a97be724f5eb87d16f6b2d11062": {
      "model_module": "@jupyter-widgets/controls",
      "model_module_version": "1.5.0",
      "model_name": "HBoxModel",
      "state": {
       "_dom_classes": [],
       "_model_module": "@jupyter-widgets/controls",
       "_model_module_version": "1.5.0",
       "_model_name": "HBoxModel",
       "_view_count": null,
       "_view_module": "@jupyter-widgets/controls",
       "_view_module_version": "1.5.0",
       "_view_name": "HBoxView",
       "box_style": "",
       "children": [
        "IPY_MODEL_517784566bfc4fd182709ffd87f6ad6c",
        "IPY_MODEL_6328c36e398a41deb11334b8284594a7",
        "IPY_MODEL_ba8d044ba6e54049b1f6925ac41b898d"
       ],
       "layout": "IPY_MODEL_c90a7031e7454c8dacd970b85472363e"
      }
     },
     "fd3d50d7129d48c1b33edd3db7a814f2": {
      "model_module": "@jupyter-widgets/controls",
      "model_module_version": "1.5.0",
      "model_name": "DescriptionStyleModel",
      "state": {
       "_model_module": "@jupyter-widgets/controls",
       "_model_module_version": "1.5.0",
       "_model_name": "DescriptionStyleModel",
       "_view_count": null,
       "_view_module": "@jupyter-widgets/base",
       "_view_module_version": "1.2.0",
       "_view_name": "StyleView",
       "description_width": ""
      }
     },
     "fe0f4ef8a14643acae4e4ddf92902bcd": {
      "model_module": "@jupyter-widgets/controls",
      "model_module_version": "1.5.0",
      "model_name": "HTMLModel",
      "state": {
       "_dom_classes": [],
       "_model_module": "@jupyter-widgets/controls",
       "_model_module_version": "1.5.0",
       "_model_name": "HTMLModel",
       "_view_count": null,
       "_view_module": "@jupyter-widgets/controls",
       "_view_module_version": "1.5.0",
       "_view_name": "HTMLView",
       "description": "",
       "description_tooltip": null,
       "layout": "IPY_MODEL_e280d98c767f4677ae2b771092f0d89b",
       "placeholder": "​",
       "style": "IPY_MODEL_20b311ac01a648c7b0ca27f63b1a0403",
       "value": "special_tokens_map.json: 100%"
      }
     }
    },
    "version_major": 2,
    "version_minor": 0
   }
  }
 },
 "nbformat": 4,
 "nbformat_minor": 5
}
