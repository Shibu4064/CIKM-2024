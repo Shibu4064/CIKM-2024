{
 "cells": [
  {
   "cell_type": "code",
   "execution_count": 1,
   "id": "9431748c",
   "metadata": {
    "execution": {
     "iopub.execute_input": "2024-06-03T04:05:13.265125Z",
     "iopub.status.busy": "2024-06-03T04:05:13.264442Z",
     "iopub.status.idle": "2024-06-03T04:05:13.269276Z",
     "shell.execute_reply": "2024-06-03T04:05:13.268342Z"
    },
    "id": "kTQhUnG8V1Ue",
    "outputId": "0d989114-be3f-4921-d576-1882ad3323a3",
    "papermill": {
     "duration": 0.014648,
     "end_time": "2024-06-03T04:05:13.271214",
     "exception": false,
     "start_time": "2024-06-03T04:05:13.256566",
     "status": "completed"
    },
    "tags": []
   },
   "outputs": [],
   "source": [
    "# from google.colab import drive\n",
    "# drive.mount('/content/drive')\n",
    "# DirPath = ('/content/drive/My Drive/')"
   ]
  },
  {
   "cell_type": "code",
   "execution_count": 2,
   "id": "181c90f5",
   "metadata": {
    "execution": {
     "iopub.execute_input": "2024-06-03T04:05:13.283823Z",
     "iopub.status.busy": "2024-06-03T04:05:13.283556Z",
     "iopub.status.idle": "2024-06-03T04:07:23.003878Z",
     "shell.execute_reply": "2024-06-03T04:07:23.002704Z"
    },
    "id": "YxchXnYy2-A9",
    "outputId": "717b06c1-e159-40dd-9b30-b10fbab5c8a3",
    "papermill": {
     "duration": 129.729284,
     "end_time": "2024-06-03T04:07:23.006384",
     "exception": false,
     "start_time": "2024-06-03T04:05:13.277100",
     "status": "completed"
    },
    "tags": []
   },
   "outputs": [
    {
     "name": "stdout",
     "output_type": "stream",
     "text": [
      "\u001b[31mERROR: pip's dependency resolver does not currently take into account all the packages that are installed. This behaviour is the source of the following dependency conflicts.\r\n",
      "cudf 23.8.0 requires cupy-cuda11x>=12.0.0, which is not installed.\r\n",
      "cuml 23.8.0 requires cupy-cuda11x>=12.0.0, which is not installed.\r\n",
      "dask-cudf 23.8.0 requires cupy-cuda11x>=12.0.0, which is not installed.\r\n",
      "apache-beam 2.46.0 requires dill<0.3.2,>=0.3.1.1, but you have dill 0.3.7 which is incompatible.\r\n",
      "apache-beam 2.46.0 requires pyarrow<10.0.0,>=3.0.0, but you have pyarrow 16.1.0 which is incompatible.\r\n",
      "beatrix-jupyterlab 2023.621.222118 requires jupyter-server~=1.16, but you have jupyter-server 2.6.0 which is incompatible.\r\n",
      "cudf 23.8.0 requires pandas<1.6.0dev0,>=1.3, but you have pandas 2.0.2 which is incompatible.\r\n",
      "cudf 23.8.0 requires protobuf<5,>=4.21, but you have protobuf 3.20.3 which is incompatible.\r\n",
      "cudf 23.8.0 requires pyarrow==11.*, but you have pyarrow 16.1.0 which is incompatible.\r\n",
      "cuml 23.8.0 requires dask==2023.7.1, but you have dask 2023.9.0 which is incompatible.\r\n",
      "dask-cudf 23.8.0 requires dask==2023.7.1, but you have dask 2023.9.0 which is incompatible.\r\n",
      "dask-cudf 23.8.0 requires pandas<1.6.0dev0,>=1.3, but you have pandas 2.0.2 which is incompatible.\r\n",
      "ibis-framework 6.2.0 requires pyarrow<13,>=2, but you have pyarrow 16.1.0 which is incompatible.\u001b[0m\u001b[31m\r\n",
      "\u001b[0m"
     ]
    }
   ],
   "source": [
    "\n",
    "!pip install -q -U bitsandbytes\n",
    "!pip install -q -U git+https://github.com/huggingface/transformers.git\n",
    "!pip install -q -U git+https://github.com/huggingface/peft.git\n",
    "# !pip install -q -U git+https://github.com/huggingface/accelerate.git\n",
    "#current version of Accelerate on GitHub breaks QLoRa\n",
    "#Using standard pip instead\n",
    "!pip install -q -U accelerate\n",
    "!pip install -q -U datasets"
   ]
  },
  {
   "cell_type": "code",
   "execution_count": 3,
   "id": "a91d941b",
   "metadata": {
    "execution": {
     "iopub.execute_input": "2024-06-03T04:07:23.020222Z",
     "iopub.status.busy": "2024-06-03T04:07:23.019424Z",
     "iopub.status.idle": "2024-06-03T04:07:25.613364Z",
     "shell.execute_reply": "2024-06-03T04:07:25.612306Z"
    },
    "id": "4AGRSQvctonP",
    "papermill": {
     "duration": 2.603175,
     "end_time": "2024-06-03T04:07:25.615654",
     "exception": false,
     "start_time": "2024-06-03T04:07:23.012479",
     "status": "completed"
    },
    "tags": []
   },
   "outputs": [],
   "source": [
    "!pip freeze > kaggle_requirements.txt\n"
   ]
  },
  {
   "cell_type": "code",
   "execution_count": 4,
   "id": "c29dcd0a",
   "metadata": {
    "execution": {
     "iopub.execute_input": "2024-06-03T04:07:25.628900Z",
     "iopub.status.busy": "2024-06-03T04:07:25.628583Z",
     "iopub.status.idle": "2024-06-03T04:07:29.598105Z",
     "shell.execute_reply": "2024-06-03T04:07:29.597257Z"
    },
    "id": "3Unwokl84jBi",
    "papermill": {
     "duration": 3.978607,
     "end_time": "2024-06-03T04:07:29.600318",
     "exception": false,
     "start_time": "2024-06-03T04:07:25.621711",
     "status": "completed"
    },
    "tags": []
   },
   "outputs": [],
   "source": [
    "import torch\n",
    "from transformers import AutoTokenizer, AutoModelForCausalLM, BitsAndBytesConfig, AutoModelForSequenceClassification, IntervalStrategy, BloomForSequenceClassification, EarlyStoppingCallback"
   ]
  },
  {
   "cell_type": "code",
   "execution_count": 5,
   "id": "5f693fca",
   "metadata": {
    "execution": {
     "iopub.execute_input": "2024-06-03T04:07:29.613985Z",
     "iopub.status.busy": "2024-06-03T04:07:29.613347Z",
     "iopub.status.idle": "2024-06-03T04:07:31.389784Z",
     "shell.execute_reply": "2024-06-03T04:07:31.388932Z"
    },
    "id": "FLKL2_IK4kGY",
    "outputId": "e50a46f6-d7f4-4590-ae4e-d4262b4ad8dd",
    "papermill": {
     "duration": 1.785766,
     "end_time": "2024-06-03T04:07:31.392213",
     "exception": false,
     "start_time": "2024-06-03T04:07:29.606447",
     "status": "completed"
    },
    "tags": []
   },
   "outputs": [
    {
     "data": {
      "application/vnd.jupyter.widget-view+json": {
       "model_id": "02ff72cd46d34858915fa56dd1f2f3a1",
       "version_major": 2,
       "version_minor": 0
      },
      "text/plain": [
       "tokenizer_config.json:   0%|          | 0.00/222 [00:00<?, ?B/s]"
      ]
     },
     "metadata": {},
     "output_type": "display_data"
    },
    {
     "data": {
      "application/vnd.jupyter.widget-view+json": {
       "model_id": "ef16db71fb4446119670f4d9ef15ea0c",
       "version_major": 2,
       "version_minor": 0
      },
      "text/plain": [
       "tokenizer.json:   0%|          | 0.00/14.5M [00:00<?, ?B/s]"
      ]
     },
     "metadata": {},
     "output_type": "display_data"
    },
    {
     "data": {
      "application/vnd.jupyter.widget-view+json": {
       "model_id": "10274ee629864cceba950aacfcdba3fd",
       "version_major": 2,
       "version_minor": 0
      },
      "text/plain": [
       "special_tokens_map.json:   0%|          | 0.00/85.0 [00:00<?, ?B/s]"
      ]
     },
     "metadata": {},
     "output_type": "display_data"
    }
   ],
   "source": [
    "model_name = \"bigscience/bloom-560m\"#\"bigscience/bloom-3b\"#\"bigscience/bloom-560m\"\n",
    "\n",
    "#Tokenizer\n",
    "tokenizer = AutoTokenizer.from_pretrained(model_name)"
   ]
  },
  {
   "cell_type": "code",
   "execution_count": 6,
   "id": "a0e0739d",
   "metadata": {
    "execution": {
     "iopub.execute_input": "2024-06-03T04:07:31.406696Z",
     "iopub.status.busy": "2024-06-03T04:07:31.406385Z",
     "iopub.status.idle": "2024-06-03T04:07:31.411990Z",
     "shell.execute_reply": "2024-06-03T04:07:31.411242Z"
    },
    "id": "aygHzL04-mjR",
    "papermill": {
     "duration": 0.014791,
     "end_time": "2024-06-03T04:07:31.413797",
     "exception": false,
     "start_time": "2024-06-03T04:07:31.399006",
     "status": "completed"
    },
    "tags": []
   },
   "outputs": [],
   "source": [
    "quant_config = BitsAndBytesConfig(\n",
    "    load_in_4bit=True,\n",
    "    bnb_4bit_use_double_quant=True,\n",
    "    bnb_4bit_quant_type=\"nf4\",\n",
    "    bnb_4bit_compute_dtype=torch.bfloat16\n",
    ")"
   ]
  },
  {
   "cell_type": "code",
   "execution_count": 7,
   "id": "3d257516",
   "metadata": {
    "execution": {
     "iopub.execute_input": "2024-06-03T04:07:31.427417Z",
     "iopub.status.busy": "2024-06-03T04:07:31.427141Z",
     "iopub.status.idle": "2024-06-03T04:07:31.431279Z",
     "shell.execute_reply": "2024-06-03T04:07:31.430498Z"
    },
    "papermill": {
     "duration": 0.013185,
     "end_time": "2024-06-03T04:07:31.433237",
     "exception": false,
     "start_time": "2024-06-03T04:07:31.420052",
     "status": "completed"
    },
    "tags": []
   },
   "outputs": [],
   "source": [
    "# import wandb\n",
    "\n",
    "# wandb.login(key=\"e0b5e8662a12704a23b8b8dc633d1d688941df16\")\n",
    "\n",
    "import os\n",
    "os.environ[\"WANDB_DISABLED\"] = \"true\""
   ]
  },
  {
   "cell_type": "code",
   "execution_count": 8,
   "id": "433c8ba4",
   "metadata": {
    "execution": {
     "iopub.execute_input": "2024-06-03T04:07:31.446833Z",
     "iopub.status.busy": "2024-06-03T04:07:31.446540Z",
     "iopub.status.idle": "2024-06-03T04:07:36.049310Z",
     "shell.execute_reply": "2024-06-03T04:07:36.048339Z"
    },
    "id": "GL_cXc-P_Gv0",
    "outputId": "eabfe370-1eb6-482c-cfe5-c9f496826095",
    "papermill": {
     "duration": 4.612348,
     "end_time": "2024-06-03T04:07:36.051748",
     "exception": false,
     "start_time": "2024-06-03T04:07:31.439400",
     "status": "completed"
    },
    "tags": []
   },
   "outputs": [
    {
     "data": {
      "application/vnd.jupyter.widget-view+json": {
       "model_id": "2ffa1e1ec7e94991a14ceaa9860a51a5",
       "version_major": 2,
       "version_minor": 0
      },
      "text/plain": [
       "config.json:   0%|          | 0.00/693 [00:00<?, ?B/s]"
      ]
     },
     "metadata": {},
     "output_type": "display_data"
    },
    {
     "data": {
      "application/vnd.jupyter.widget-view+json": {
       "model_id": "63ceb7079f6d48a995c03adca70cf273",
       "version_major": 2,
       "version_minor": 0
      },
      "text/plain": [
       "model.safetensors:   0%|          | 0.00/1.12G [00:00<?, ?B/s]"
      ]
     },
     "metadata": {},
     "output_type": "display_data"
    },
    {
     "name": "stderr",
     "output_type": "stream",
     "text": [
      "Some weights of BloomForSequenceClassification were not initialized from the model checkpoint at bigscience/bloom-560m and are newly initialized: ['score.weight']\n",
      "You should probably TRAIN this model on a down-stream task to be able to use it for predictions and inference.\n"
     ]
    }
   ],
   "source": [
    "# model = AutoModelForCausalLM.from_pretrained(model_name, quantization_config=quant_config, device_map={\"\":0})\n",
    "model = BloomForSequenceClassification.from_pretrained(model_name, quantization_config=quant_config, device_map={\"\":0},num_labels=2)"
   ]
  },
  {
   "cell_type": "code",
   "execution_count": 9,
   "id": "b1aec885",
   "metadata": {
    "execution": {
     "iopub.execute_input": "2024-06-03T04:07:36.068237Z",
     "iopub.status.busy": "2024-06-03T04:07:36.067363Z",
     "iopub.status.idle": "2024-06-03T04:07:36.073514Z",
     "shell.execute_reply": "2024-06-03T04:07:36.072712Z"
    },
    "id": "JJD5Pffm_mtu",
    "papermill": {
     "duration": 0.016838,
     "end_time": "2024-06-03T04:07:36.075872",
     "exception": false,
     "start_time": "2024-06-03T04:07:36.059034",
     "status": "completed"
    },
    "tags": []
   },
   "outputs": [],
   "source": [
    "model.gradient_checkpointing_enable()"
   ]
  },
  {
   "cell_type": "code",
   "execution_count": 10,
   "id": "f1dd4358",
   "metadata": {
    "execution": {
     "iopub.execute_input": "2024-06-03T04:07:36.091186Z",
     "iopub.status.busy": "2024-06-03T04:07:36.090919Z",
     "iopub.status.idle": "2024-06-03T04:07:37.833739Z",
     "shell.execute_reply": "2024-06-03T04:07:37.832645Z"
    },
    "id": "LUS8-GS5_nzi",
    "papermill": {
     "duration": 1.75331,
     "end_time": "2024-06-03T04:07:37.836323",
     "exception": false,
     "start_time": "2024-06-03T04:07:36.083013",
     "status": "completed"
    },
    "tags": []
   },
   "outputs": [],
   "source": [
    "from peft import prepare_model_for_kbit_training, LoraConfig, get_peft_model\n",
    "\n",
    "model = prepare_model_for_kbit_training(model)\n",
    "\n",
    "config = LoraConfig(\n",
    "    r=8,\n",
    "    lora_alpha=32,\n",
    "    target_modules=[\"query_key_value\"],\n",
    "    lora_dropout=0.05,\n",
    "    bias=\"none\",\n",
    "    task_type=\"SEQ_CLS\"#\"CAUSAL_LM\"\n",
    ")\n",
    "\n",
    "model = get_peft_model(model, config)"
   ]
  },
  {
   "cell_type": "code",
   "execution_count": 11,
   "id": "4e48244a",
   "metadata": {
    "execution": {
     "iopub.execute_input": "2024-06-03T04:07:37.852005Z",
     "iopub.status.busy": "2024-06-03T04:07:37.851653Z",
     "iopub.status.idle": "2024-06-03T04:07:37.855638Z",
     "shell.execute_reply": "2024-06-03T04:07:37.854798Z"
    },
    "id": "gTWrhXdw_zA3",
    "papermill": {
     "duration": 0.013776,
     "end_time": "2024-06-03T04:07:37.857530",
     "exception": false,
     "start_time": "2024-06-03T04:07:37.843754",
     "status": "completed"
    },
    "tags": []
   },
   "outputs": [],
   "source": [
    "# from datasets import load_dataset\n",
    "# data = load_dataset(\"Abirate/english_quotes\")\n",
    "# data = data.map(lambda samples: tokenizer(samples[\"quote\"]), batched=True)"
   ]
  },
  {
   "cell_type": "code",
   "execution_count": 12,
   "id": "c0dfccce",
   "metadata": {
    "execution": {
     "iopub.execute_input": "2024-06-03T04:07:37.872364Z",
     "iopub.status.busy": "2024-06-03T04:07:37.872092Z",
     "iopub.status.idle": "2024-06-03T04:07:46.166847Z",
     "shell.execute_reply": "2024-06-03T04:07:46.165757Z"
    },
    "id": "a3vk2foNfgCW",
    "papermill": {
     "duration": 8.304866,
     "end_time": "2024-06-03T04:07:46.169269",
     "exception": false,
     "start_time": "2024-06-03T04:07:37.864403",
     "status": "completed"
    },
    "tags": []
   },
   "outputs": [
    {
     "name": "stderr",
     "output_type": "stream",
     "text": [
      "/opt/conda/lib/python3.10/site-packages/scipy/__init__.py:146: UserWarning: A NumPy version >=1.16.5 and <1.23.0 is required for this version of SciPy (detected version 1.23.5\n",
      "  warnings.warn(f\"A NumPy version >={np_minversion} and <{np_maxversion}\"\n"
     ]
    }
   ],
   "source": [
    "import pandas as pd\n",
    "from sklearn.model_selection import train_test_split\n",
    "train_df = pd.read_csv(\"/kaggle/input/banglafakenews/train.csv\")[ ['Headline', 'Content', 'Label'] ]\n",
    "val_df = pd.read_csv(\"/kaggle/input/banglafakenews/val.csv\")[ ['Headline', 'Content', 'Label'] ]\n",
    "test_df = pd.read_csv(\"/kaggle/input/banglafakenews/test.csv\")[ ['Headline', 'Content', 'Label'] ]\n",
    "\n",
    "# Concatenate the DataFrames\n",
    "combined_df = pd.concat([train_df, val_df, test_df], ignore_index=True)\n",
    "\n",
    "# Splitting the dataset into train and validation sets\n",
    "train_df, val_df = train_test_split(combined_df, test_size=0.2, stratify=combined_df['Label'])"
   ]
  },
  {
   "cell_type": "code",
   "execution_count": 13,
   "id": "0ea62cbb",
   "metadata": {
    "execution": {
     "iopub.execute_input": "2024-06-03T04:07:46.184914Z",
     "iopub.status.busy": "2024-06-03T04:07:46.184592Z",
     "iopub.status.idle": "2024-06-03T04:07:49.287330Z",
     "shell.execute_reply": "2024-06-03T04:07:49.286465Z"
    },
    "id": "Y24lALCKXukt",
    "papermill": {
     "duration": 3.113237,
     "end_time": "2024-06-03T04:07:49.289817",
     "exception": false,
     "start_time": "2024-06-03T04:07:46.176580",
     "status": "completed"
    },
    "tags": []
   },
   "outputs": [],
   "source": [
    "# from sklearn.model_selection import train_test_split\n",
    "HCSep = \" \\\\\\\\ \"\n",
    "def pandaToList(dataset):\n",
    "    text_list = []\n",
    "    label_list = []\n",
    "    for i in range(len(dataset['Headline'])):\n",
    "      text_list.append(dataset['Headline'].iloc[i]+HCSep+dataset['Content'].iloc[i])\n",
    "      label_list.append(int(dataset['Label'].iloc[i]))\n",
    "    return text_list, label_list\n",
    "\n",
    "train_texts, train_labels =  pandaToList(train_df)\n",
    "val_texts, val_labels = pandaToList(val_df)"
   ]
  },
  {
   "cell_type": "code",
   "execution_count": 14,
   "id": "c84a02df",
   "metadata": {
    "execution": {
     "iopub.execute_input": "2024-06-03T04:07:49.307020Z",
     "iopub.status.busy": "2024-06-03T04:07:49.306678Z",
     "iopub.status.idle": "2024-06-03T04:08:37.042056Z",
     "shell.execute_reply": "2024-06-03T04:08:37.041031Z"
    },
    "id": "K_uVobxPYggx",
    "outputId": "2e9b6de5-72d7-4303-e670-61b98978cba6",
    "papermill": {
     "duration": 47.746704,
     "end_time": "2024-06-03T04:08:37.044607",
     "exception": false,
     "start_time": "2024-06-03T04:07:49.297903",
     "status": "completed"
    },
    "tags": []
   },
   "outputs": [],
   "source": [
    "max_length=512\n",
    "train_encodings = tokenizer(train_texts, truncation=True, padding=True, max_length=max_length)\n",
    "val_encodings = tokenizer(val_texts, truncation=True, padding=True, max_length=max_length)"
   ]
  },
  {
   "cell_type": "code",
   "execution_count": 15,
   "id": "1fd99937",
   "metadata": {
    "execution": {
     "iopub.execute_input": "2024-06-03T04:08:37.060962Z",
     "iopub.status.busy": "2024-06-03T04:08:37.060265Z",
     "iopub.status.idle": "2024-06-03T04:08:37.067059Z",
     "shell.execute_reply": "2024-06-03T04:08:37.066159Z"
    },
    "id": "4vDZfP9QZW9F",
    "papermill": {
     "duration": 0.016782,
     "end_time": "2024-06-03T04:08:37.068959",
     "exception": false,
     "start_time": "2024-06-03T04:08:37.052177",
     "status": "completed"
    },
    "tags": []
   },
   "outputs": [],
   "source": [
    "class ViolenceDataset(torch.utils.data.Dataset):\n",
    "    def __init__(self, encodings, labels):\n",
    "        self.encodings = encodings\n",
    "        self.labels = labels\n",
    "\n",
    "    def __getitem__(self, idx):\n",
    "        item = {key: torch.tensor(val[idx]) for key, val in self.encodings.items()}\n",
    "        item['labels'] = torch.tensor(self.labels[idx])\n",
    "        return item\n",
    "\n",
    "    def __len__(self):\n",
    "        return len(self.labels)\n",
    "\n",
    "train_dataset = ViolenceDataset(train_encodings, train_labels)\n",
    "val_dataset = ViolenceDataset(val_encodings, val_labels)"
   ]
  },
  {
   "cell_type": "code",
   "execution_count": 16,
   "id": "90548bcc",
   "metadata": {
    "execution": {
     "iopub.execute_input": "2024-06-03T04:08:37.084564Z",
     "iopub.status.busy": "2024-06-03T04:08:37.084280Z",
     "iopub.status.idle": "2024-06-03T04:08:37.088021Z",
     "shell.execute_reply": "2024-06-03T04:08:37.087168Z"
    },
    "id": "1-gIRiI6uDie",
    "papermill": {
     "duration": 0.013388,
     "end_time": "2024-06-03T04:08:37.089828",
     "exception": false,
     "start_time": "2024-06-03T04:08:37.076440",
     "status": "completed"
    },
    "tags": []
   },
   "outputs": [],
   "source": [
    "# print(train_dataset[:2])\n",
    "# model(input_ids=train_dataset[:1]['input_ids'],attention_mask=train_dataset[:1]['attention_mask'])"
   ]
  },
  {
   "cell_type": "code",
   "execution_count": 17,
   "id": "97f50132",
   "metadata": {
    "execution": {
     "iopub.execute_input": "2024-06-03T04:08:37.105075Z",
     "iopub.status.busy": "2024-06-03T04:08:37.104803Z",
     "iopub.status.idle": "2024-06-03T04:08:37.111814Z",
     "shell.execute_reply": "2024-06-03T04:08:37.110919Z"
    },
    "id": "hAgNaVkqZ5Dl",
    "papermill": {
     "duration": 0.016717,
     "end_time": "2024-06-03T04:08:37.113652",
     "exception": false,
     "start_time": "2024-06-03T04:08:37.096935",
     "status": "completed"
    },
    "tags": []
   },
   "outputs": [],
   "source": [
    "from sklearn.metrics import accuracy_score, recall_score, precision_score, f1_score, classification_report\n",
    "import numpy as np\n",
    "\n",
    "def compute_metrics(p):\n",
    "    pred, labels = p\n",
    "    pred = np.argmax(pred, axis=1)\n",
    "    accuracy = accuracy_score(y_true=labels, y_pred=pred)\n",
    "    recall = recall_score(y_true=labels, y_pred=pred, average='macro')\n",
    "    precision = precision_score(y_true=labels, y_pred=pred, average='macro')\n",
    "    f1 = f1_score(y_true=labels, y_pred=pred, average='macro')\n",
    "    print(\"\\nAfter iteration multiple of 2514\\n\")\n",
    "    print({\n",
    "    \"accuracy\": accuracy,\n",
    "    \"precision\": precision,\n",
    "    \"recall\": recall,\n",
    "    \"f1\": f1\n",
    "    })\n",
    "    return {\"accuracy\": accuracy, \"precision\": precision, \"recall\": recall, \"f1\": f1}"
   ]
  },
  {
   "cell_type": "code",
   "execution_count": 18,
   "id": "45b091fe",
   "metadata": {
    "execution": {
     "iopub.execute_input": "2024-06-03T04:08:37.129006Z",
     "iopub.status.busy": "2024-06-03T04:08:37.128752Z",
     "iopub.status.idle": "2024-06-03T14:09:28.990432Z",
     "shell.execute_reply": "2024-06-03T14:09:28.989495Z"
    },
    "id": "jxskXvs8Akk4",
    "outputId": "86b698b0-2767-410f-e95e-9ec50e223f92",
    "papermill": {
     "duration": 36051.871534,
     "end_time": "2024-06-03T14:09:28.992391",
     "exception": false,
     "start_time": "2024-06-03T04:08:37.120857",
     "status": "completed"
    },
    "tags": []
   },
   "outputs": [
    {
     "name": "stderr",
     "output_type": "stream",
     "text": [
      "`use_cache=True` is incompatible with gradient checkpointing. Setting `use_cache=False`...\n"
     ]
    },
    {
     "data": {
      "text/html": [
       "\n",
       "    <div>\n",
       "      \n",
       "      <progress value='12316' max='12316' style='width:300px; height:20px; vertical-align: middle;'></progress>\n",
       "      [12316/12316 10:00:40, Epoch 2/2]\n",
       "    </div>\n",
       "    <table border=\"1\" class=\"dataframe\">\n",
       "  <thead>\n",
       " <tr style=\"text-align: left;\">\n",
       "      <th>Step</th>\n",
       "      <th>Training Loss</th>\n",
       "      <th>Validation Loss</th>\n",
       "      <th>Accuracy</th>\n",
       "      <th>Precision</th>\n",
       "      <th>Recall</th>\n",
       "      <th>F1</th>\n",
       "    </tr>\n",
       "  </thead>\n",
       "  <tbody>\n",
       "    <tr>\n",
       "      <td>3079</td>\n",
       "      <td>0.683500</td>\n",
       "      <td>0.565901</td>\n",
       "      <td>0.923439</td>\n",
       "      <td>0.949411</td>\n",
       "      <td>0.820878</td>\n",
       "      <td>0.866400</td>\n",
       "    </tr>\n",
       "    <tr>\n",
       "      <td>6158</td>\n",
       "      <td>0.395700</td>\n",
       "      <td>0.342468</td>\n",
       "      <td>0.932451</td>\n",
       "      <td>0.944123</td>\n",
       "      <td>0.849357</td>\n",
       "      <td>0.886462</td>\n",
       "    </tr>\n",
       "    <tr>\n",
       "      <td>9237</td>\n",
       "      <td>0.364700</td>\n",
       "      <td>0.433950</td>\n",
       "      <td>0.934562</td>\n",
       "      <td>0.954810</td>\n",
       "      <td>0.848130</td>\n",
       "      <td>0.888808</td>\n",
       "    </tr>\n",
       "    <tr>\n",
       "      <td>12316</td>\n",
       "      <td>0.368300</td>\n",
       "      <td>0.379139</td>\n",
       "      <td>0.934887</td>\n",
       "      <td>0.955898</td>\n",
       "      <td>0.848335</td>\n",
       "      <td>0.889282</td>\n",
       "    </tr>\n",
       "  </tbody>\n",
       "</table><p>"
      ],
      "text/plain": [
       "<IPython.core.display.HTML object>"
      ]
     },
     "metadata": {},
     "output_type": "display_data"
    },
    {
     "name": "stdout",
     "output_type": "stream",
     "text": [
      "\n",
      "After iteration multiple of 2514\n",
      "\n",
      "{'accuracy': 0.9234391491434603, 'precision': 0.9494110441388333, 'recall': 0.8208780579081634, 'f1': 0.8664001209595071}\n",
      "\n",
      "After iteration multiple of 2514\n",
      "\n",
      "{'accuracy': 0.9324510838678249, 'precision': 0.944123158396377, 'recall': 0.8493573621404378, 'f1': 0.8864623688689588}\n",
      "\n",
      "After iteration multiple of 2514\n",
      "\n",
      "{'accuracy': 0.9345619874969554, 'precision': 0.9548097764066283, 'recall': 0.8481299964948328, 'f1': 0.888808208820953}\n",
      "\n",
      "After iteration multiple of 2514\n",
      "\n",
      "{'accuracy': 0.9348867419014371, 'precision': 0.9558983380404842, 'recall': 0.8483354196665667, 'f1': 0.8892816258120537}\n"
     ]
    },
    {
     "data": {
      "text/plain": [
       "TrainOutput(global_step=12316, training_loss=0.4530691783046444, metrics={'train_runtime': 36043.2132, 'train_samples_per_second': 2.734, 'train_steps_per_second': 0.342, 'total_flos': 9.1742917361664e+16, 'train_loss': 0.4530691783046444, 'epoch': 2.0})"
      ]
     },
     "execution_count": 18,
     "metadata": {},
     "output_type": "execute_result"
    }
   ],
   "source": [
    "import transformers\n",
    "\n",
    "tokenizer.pad_token = tokenizer.eos_token\n",
    "\n",
    "trainer = transformers.Trainer(\n",
    "    model=model,\n",
    "    # train_dataset=data[\"train\"],\n",
    "    args=transformers.TrainingArguments(\n",
    "        per_device_train_batch_size=1,\n",
    "        gradient_accumulation_steps=8,\n",
    "        save_total_limit = 1,\n",
    "        warmup_steps=0,\n",
    "        # max_steps=20,\n",
    "        num_train_epochs=2,\n",
    "        learning_rate=8e-5,\n",
    "        fp16=True,\n",
    "        output_dir=\"outputs\",\n",
    "        optim=\"paged_adamw_8bit\",\n",
    "        metric_for_best_model = 'f1',\n",
    "        eval_strategy = IntervalStrategy.STEPS,\n",
    "        save_strategy = IntervalStrategy.STEPS,\n",
    "        weight_decay=0.005,\n",
    "        eval_steps = 3079,\n",
    "        logging_steps=3079,\n",
    "        save_steps = 3079,\n",
    "        load_best_model_at_end=True,\n",
    "        report_to=\"none\"\n",
    "    ),\n",
    "    # data_collator=transformers.DataCollatorForLanguageModeling(tokenizer, mlm=False),\n",
    "    train_dataset=train_dataset,         # training dataset\n",
    "    eval_dataset=val_dataset,            # evaluation dataset\n",
    "    compute_metrics=compute_metrics,\n",
    "    tokenizer=tokenizer,\n",
    "    callbacks = [EarlyStoppingCallback(early_stopping_patience=2)]\n",
    ")\n",
    "\n",
    "trainer.train()"
   ]
  },
  {
   "cell_type": "code",
   "execution_count": 19,
   "id": "559f6f1a",
   "metadata": {
    "execution": {
     "iopub.execute_input": "2024-06-03T14:09:29.010358Z",
     "iopub.status.busy": "2024-06-03T14:09:29.009736Z",
     "iopub.status.idle": "2024-06-03T14:09:29.474255Z",
     "shell.execute_reply": "2024-06-03T14:09:29.473281Z"
    },
    "papermill": {
     "duration": 0.475879,
     "end_time": "2024-06-03T14:09:29.476605",
     "exception": false,
     "start_time": "2024-06-03T14:09:29.000726",
     "status": "completed"
    },
    "tags": []
   },
   "outputs": [],
   "source": [
    "import os\n",
    "\n",
    "# Specify the directory where you want to save the model\n",
    "output_dir = \"./finalModel\"\n",
    "\n",
    "# Create the directory if it doesn't exist\n",
    "os.makedirs(output_dir, exist_ok=True)\n",
    "\n",
    "# Save the trained model\n",
    "trainer.save_model(output_dir)\n"
   ]
  },
  {
   "cell_type": "code",
   "execution_count": 20,
   "id": "6d50d0bb",
   "metadata": {
    "execution": {
     "iopub.execute_input": "2024-06-03T14:09:29.494379Z",
     "iopub.status.busy": "2024-06-03T14:09:29.493772Z",
     "iopub.status.idle": "2024-06-03T14:10:41.149729Z",
     "shell.execute_reply": "2024-06-03T14:10:41.148596Z"
    },
    "id": "7qR8D9FByqEH",
    "outputId": "86a7fa69-6701-4d96-ca2f-58e8da3d609f",
    "papermill": {
     "duration": 71.667016,
     "end_time": "2024-06-03T14:10:41.151863",
     "exception": false,
     "start_time": "2024-06-03T14:09:29.484847",
     "status": "completed"
    },
    "tags": []
   },
   "outputs": [
    {
     "data": {
      "text/html": [],
      "text/plain": [
       "<IPython.core.display.HTML object>"
      ]
     },
     "metadata": {},
     "output_type": "display_data"
    },
    {
     "name": "stdout",
     "output_type": "stream",
     "text": [
      "\n",
      "After iteration multiple of 2514\n",
      "\n",
      "{'accuracy': 0.6945652173913044, 'precision': 0.7515903910436998, 'recall': 0.6945652173913043, 'f1': 0.6762182208033425}\n",
      "              precision    recall  f1-score   support\n",
      "\n",
      "           0    0.63181   0.93261   0.75329       460\n",
      "           1    0.87137   0.45652   0.59914       460\n",
      "\n",
      "    accuracy                        0.69457       920\n",
      "   macro avg    0.75159   0.69457   0.67622       920\n",
      "weighted avg    0.75159   0.69457   0.67622       920\n",
      "\n"
     ]
    }
   ],
   "source": [
    "from sklearn.metrics import classification_report\n",
    "\n",
    "test_df = pd.read_csv('/kaggle/input/newnewssep2023/new_fake_real_merged.csv')[ ['Headline','Content','Label']]\n",
    "test_texts, test_labels = pandaToList(test_df)\n",
    "test_encodings = tokenizer(test_texts, truncation=True, padding=True, max_length=max_length)\n",
    "test_dataset = ViolenceDataset(test_encodings, test_labels)\n",
    "\n",
    "predictions = trainer.predict(test_dataset)\n",
    "\n",
    "# Get predicted labels and true labels\n",
    "predicted_labels = predictions.predictions.argmax(axis=1)\n",
    "true_labels = predictions.label_ids\n",
    "\n",
    "# Generate the classification report\n",
    "class_report = classification_report(true_labels, predicted_labels, digits=5)\n",
    "\n",
    "print(class_report)"
   ]
  },
  {
   "cell_type": "code",
   "execution_count": 21,
   "id": "5423b6da",
   "metadata": {
    "execution": {
     "iopub.execute_input": "2024-06-03T14:10:41.172228Z",
     "iopub.status.busy": "2024-06-03T14:10:41.171949Z",
     "iopub.status.idle": "2024-06-03T14:10:41.176080Z",
     "shell.execute_reply": "2024-06-03T14:10:41.175347Z"
    },
    "id": "3ClqYj3NAzx7",
    "outputId": "00d695a1-a37f-49a9-90ca-d994aa645f09",
    "papermill": {
     "duration": 0.016301,
     "end_time": "2024-06-03T14:10:41.177991",
     "exception": false,
     "start_time": "2024-06-03T14:10:41.161690",
     "status": "completed"
    },
    "tags": []
   },
   "outputs": [],
   "source": [
    "# text = \"Ask not what your country\"\n",
    "# device = \"cuda:0\"\n",
    "# inputs = tokenizer(text, return_tensors=\"pt\").to(device)\n",
    "\n",
    "# print(inputs)\n",
    "\n",
    "# # outputs = model.generate(**inputs, max_new_tokens=20)\n",
    "# outputs = model.generate(input_ids=inputs[\"input_ids\"], attention_mask=inputs[\"attention_mask\"])\n",
    "# print(tokenizer.decode(outputs[0], skip_special_tokens=True))"
   ]
  },
  {
   "cell_type": "code",
   "execution_count": null,
   "id": "abd58c8c",
   "metadata": {
    "id": "ZcrF2p3BN4LY",
    "papermill": {
     "duration": 0.008303,
     "end_time": "2024-06-03T14:10:41.194718",
     "exception": false,
     "start_time": "2024-06-03T14:10:41.186415",
     "status": "completed"
    },
    "tags": []
   },
   "outputs": [],
   "source": []
  }
 ],
 "metadata": {
  "kaggle": {
   "accelerator": "gpu",
   "dataSources": [
    {
     "datasetId": 618408,
     "sourceId": 2009678,
     "sourceType": "datasetVersion"
    },
    {
     "datasetId": 3872710,
     "sourceId": 6721982,
     "sourceType": "datasetVersion"
    },
    {
     "datasetId": 5057190,
     "sourceId": 8514897,
     "sourceType": "datasetVersion"
    }
   ],
   "dockerImageVersionId": 30559,
   "isGpuEnabled": true,
   "isInternetEnabled": true,
   "language": "python",
   "sourceType": "notebook"
  },
  "kernelspec": {
   "display_name": "Python 3",
   "language": "python",
   "name": "python3"
  },
  "language_info": {
   "codemirror_mode": {
    "name": "ipython",
    "version": 3
   },
   "file_extension": ".py",
   "mimetype": "text/x-python",
   "name": "python",
   "nbconvert_exporter": "python",
   "pygments_lexer": "ipython3",
   "version": "3.10.12"
  },
  "papermill": {
   "default_parameters": {},
   "duration": 36334.372728,
   "end_time": "2024-06-03T14:10:44.298381",
   "environment_variables": {},
   "exception": null,
   "input_path": "__notebook__.ipynb",
   "output_path": "__notebook__.ipynb",
   "parameters": {},
   "start_time": "2024-06-03T04:05:09.925653",
   "version": "2.4.0"
  },
  "widgets": {
   "application/vnd.jupyter.widget-state+json": {
    "state": {
     "02ff72cd46d34858915fa56dd1f2f3a1": {
      "model_module": "@jupyter-widgets/controls",
      "model_module_version": "1.5.0",
      "model_name": "HBoxModel",
      "state": {
       "_dom_classes": [],
       "_model_module": "@jupyter-widgets/controls",
       "_model_module_version": "1.5.0",
       "_model_name": "HBoxModel",
       "_view_count": null,
       "_view_module": "@jupyter-widgets/controls",
       "_view_module_version": "1.5.0",
       "_view_name": "HBoxView",
       "box_style": "",
       "children": [
        "IPY_MODEL_f8bd2bb22dc94e7f981972e4bdce273c",
        "IPY_MODEL_4147f4f4a3804b66a783fc8ac80313f2",
        "IPY_MODEL_5b06a5a0f4114c9299f1094aa1f9ab21"
       ],
       "layout": "IPY_MODEL_b6552fdc151b433f8db0380a8172474c"
      }
     },
     "06609a81d01d450eb03fc227f13f1162": {
      "model_module": "@jupyter-widgets/base",
      "model_module_version": "1.2.0",
      "model_name": "LayoutModel",
      "state": {
       "_model_module": "@jupyter-widgets/base",
       "_model_module_version": "1.2.0",
       "_model_name": "LayoutModel",
       "_view_count": null,
       "_view_module": "@jupyter-widgets/base",
       "_view_module_version": "1.2.0",
       "_view_name": "LayoutView",
       "align_content": null,
       "align_items": null,
       "align_self": null,
       "border": null,
       "bottom": null,
       "display": null,
       "flex": null,
       "flex_flow": null,
       "grid_area": null,
       "grid_auto_columns": null,
       "grid_auto_flow": null,
       "grid_auto_rows": null,
       "grid_column": null,
       "grid_gap": null,
       "grid_row": null,
       "grid_template_areas": null,
       "grid_template_columns": null,
       "grid_template_rows": null,
       "height": null,
       "justify_content": null,
       "justify_items": null,
       "left": null,
       "margin": null,
       "max_height": null,
       "max_width": null,
       "min_height": null,
       "min_width": null,
       "object_fit": null,
       "object_position": null,
       "order": null,
       "overflow": null,
       "overflow_x": null,
       "overflow_y": null,
       "padding": null,
       "right": null,
       "top": null,
       "visibility": null,
       "width": null
      }
     },
     "0b3b4dae222b4b8abe3680dd6bb3f763": {
      "model_module": "@jupyter-widgets/base",
      "model_module_version": "1.2.0",
      "model_name": "LayoutModel",
      "state": {
       "_model_module": "@jupyter-widgets/base",
       "_model_module_version": "1.2.0",
       "_model_name": "LayoutModel",
       "_view_count": null,
       "_view_module": "@jupyter-widgets/base",
       "_view_module_version": "1.2.0",
       "_view_name": "LayoutView",
       "align_content": null,
       "align_items": null,
       "align_self": null,
       "border": null,
       "bottom": null,
       "display": null,
       "flex": null,
       "flex_flow": null,
       "grid_area": null,
       "grid_auto_columns": null,
       "grid_auto_flow": null,
       "grid_auto_rows": null,
       "grid_column": null,
       "grid_gap": null,
       "grid_row": null,
       "grid_template_areas": null,
       "grid_template_columns": null,
       "grid_template_rows": null,
       "height": null,
       "justify_content": null,
       "justify_items": null,
       "left": null,
       "margin": null,
       "max_height": null,
       "max_width": null,
       "min_height": null,
       "min_width": null,
       "object_fit": null,
       "object_position": null,
       "order": null,
       "overflow": null,
       "overflow_x": null,
       "overflow_y": null,
       "padding": null,
       "right": null,
       "top": null,
       "visibility": null,
       "width": null
      }
     },
     "0e8fe71273f84a29816a62bfc5f32465": {
      "model_module": "@jupyter-widgets/controls",
      "model_module_version": "1.5.0",
      "model_name": "HTMLModel",
      "state": {
       "_dom_classes": [],
       "_model_module": "@jupyter-widgets/controls",
       "_model_module_version": "1.5.0",
       "_model_name": "HTMLModel",
       "_view_count": null,
       "_view_module": "@jupyter-widgets/controls",
       "_view_module_version": "1.5.0",
       "_view_name": "HTMLView",
       "description": "",
       "description_tooltip": null,
       "layout": "IPY_MODEL_06609a81d01d450eb03fc227f13f1162",
       "placeholder": "​",
       "style": "IPY_MODEL_688799aadf55498290c13f13c4c75107",
       "value": " 1.12G/1.12G [00:02&lt;00:00, 442MB/s]"
      }
     },
     "1010d1613a444dc7a90efa3ba510b1ba": {
      "model_module": "@jupyter-widgets/base",
      "model_module_version": "1.2.0",
      "model_name": "LayoutModel",
      "state": {
       "_model_module": "@jupyter-widgets/base",
       "_model_module_version": "1.2.0",
       "_model_name": "LayoutModel",
       "_view_count": null,
       "_view_module": "@jupyter-widgets/base",
       "_view_module_version": "1.2.0",
       "_view_name": "LayoutView",
       "align_content": null,
       "align_items": null,
       "align_self": null,
       "border": null,
       "bottom": null,
       "display": null,
       "flex": null,
       "flex_flow": null,
       "grid_area": null,
       "grid_auto_columns": null,
       "grid_auto_flow": null,
       "grid_auto_rows": null,
       "grid_column": null,
       "grid_gap": null,
       "grid_row": null,
       "grid_template_areas": null,
       "grid_template_columns": null,
       "grid_template_rows": null,
       "height": null,
       "justify_content": null,
       "justify_items": null,
       "left": null,
       "margin": null,
       "max_height": null,
       "max_width": null,
       "min_height": null,
       "min_width": null,
       "object_fit": null,
       "object_position": null,
       "order": null,
       "overflow": null,
       "overflow_x": null,
       "overflow_y": null,
       "padding": null,
       "right": null,
       "top": null,
       "visibility": null,
       "width": null
      }
     },
     "10274ee629864cceba950aacfcdba3fd": {
      "model_module": "@jupyter-widgets/controls",
      "model_module_version": "1.5.0",
      "model_name": "HBoxModel",
      "state": {
       "_dom_classes": [],
       "_model_module": "@jupyter-widgets/controls",
       "_model_module_version": "1.5.0",
       "_model_name": "HBoxModel",
       "_view_count": null,
       "_view_module": "@jupyter-widgets/controls",
       "_view_module_version": "1.5.0",
       "_view_name": "HBoxView",
       "box_style": "",
       "children": [
        "IPY_MODEL_e2182b72afbf4285ad6f1f40055c9546",
        "IPY_MODEL_35940a6ff18d476482ef2d2a799feab4",
        "IPY_MODEL_f740a80ecc6a44fcb9b5c93c471a7f09"
       ],
       "layout": "IPY_MODEL_1ae72b3a1ffb40649d2958f585fb4e8e"
      }
     },
     "138e6677f2004f4c96f67059181d6bba": {
      "model_module": "@jupyter-widgets/controls",
      "model_module_version": "1.5.0",
      "model_name": "ProgressStyleModel",
      "state": {
       "_model_module": "@jupyter-widgets/controls",
       "_model_module_version": "1.5.0",
       "_model_name": "ProgressStyleModel",
       "_view_count": null,
       "_view_module": "@jupyter-widgets/base",
       "_view_module_version": "1.2.0",
       "_view_name": "StyleView",
       "bar_color": null,
       "description_width": ""
      }
     },
     "146a073e2ee5420cb57a14c3954549e1": {
      "model_module": "@jupyter-widgets/base",
      "model_module_version": "1.2.0",
      "model_name": "LayoutModel",
      "state": {
       "_model_module": "@jupyter-widgets/base",
       "_model_module_version": "1.2.0",
       "_model_name": "LayoutModel",
       "_view_count": null,
       "_view_module": "@jupyter-widgets/base",
       "_view_module_version": "1.2.0",
       "_view_name": "LayoutView",
       "align_content": null,
       "align_items": null,
       "align_self": null,
       "border": null,
       "bottom": null,
       "display": null,
       "flex": null,
       "flex_flow": null,
       "grid_area": null,
       "grid_auto_columns": null,
       "grid_auto_flow": null,
       "grid_auto_rows": null,
       "grid_column": null,
       "grid_gap": null,
       "grid_row": null,
       "grid_template_areas": null,
       "grid_template_columns": null,
       "grid_template_rows": null,
       "height": null,
       "justify_content": null,
       "justify_items": null,
       "left": null,
       "margin": null,
       "max_height": null,
       "max_width": null,
       "min_height": null,
       "min_width": null,
       "object_fit": null,
       "object_position": null,
       "order": null,
       "overflow": null,
       "overflow_x": null,
       "overflow_y": null,
       "padding": null,
       "right": null,
       "top": null,
       "visibility": null,
       "width": null
      }
     },
     "1ae72b3a1ffb40649d2958f585fb4e8e": {
      "model_module": "@jupyter-widgets/base",
      "model_module_version": "1.2.0",
      "model_name": "LayoutModel",
      "state": {
       "_model_module": "@jupyter-widgets/base",
       "_model_module_version": "1.2.0",
       "_model_name": "LayoutModel",
       "_view_count": null,
       "_view_module": "@jupyter-widgets/base",
       "_view_module_version": "1.2.0",
       "_view_name": "LayoutView",
       "align_content": null,
       "align_items": null,
       "align_self": null,
       "border": null,
       "bottom": null,
       "display": null,
       "flex": null,
       "flex_flow": null,
       "grid_area": null,
       "grid_auto_columns": null,
       "grid_auto_flow": null,
       "grid_auto_rows": null,
       "grid_column": null,
       "grid_gap": null,
       "grid_row": null,
       "grid_template_areas": null,
       "grid_template_columns": null,
       "grid_template_rows": null,
       "height": null,
       "justify_content": null,
       "justify_items": null,
       "left": null,
       "margin": null,
       "max_height": null,
       "max_width": null,
       "min_height": null,
       "min_width": null,
       "object_fit": null,
       "object_position": null,
       "order": null,
       "overflow": null,
       "overflow_x": null,
       "overflow_y": null,
       "padding": null,
       "right": null,
       "top": null,
       "visibility": null,
       "width": null
      }
     },
     "1aeb3563ab0346a68be3bf56189755a0": {
      "model_module": "@jupyter-widgets/controls",
      "model_module_version": "1.5.0",
      "model_name": "DescriptionStyleModel",
      "state": {
       "_model_module": "@jupyter-widgets/controls",
       "_model_module_version": "1.5.0",
       "_model_name": "DescriptionStyleModel",
       "_view_count": null,
       "_view_module": "@jupyter-widgets/base",
       "_view_module_version": "1.2.0",
       "_view_name": "StyleView",
       "description_width": ""
      }
     },
     "1ecf010d8eb94c82bb52dc8bb3a5519e": {
      "model_module": "@jupyter-widgets/controls",
      "model_module_version": "1.5.0",
      "model_name": "ProgressStyleModel",
      "state": {
       "_model_module": "@jupyter-widgets/controls",
       "_model_module_version": "1.5.0",
       "_model_name": "ProgressStyleModel",
       "_view_count": null,
       "_view_module": "@jupyter-widgets/base",
       "_view_module_version": "1.2.0",
       "_view_name": "StyleView",
       "bar_color": null,
       "description_width": ""
      }
     },
     "228eb98f01644fd7bfbd11230e93bb4d": {
      "model_module": "@jupyter-widgets/base",
      "model_module_version": "1.2.0",
      "model_name": "LayoutModel",
      "state": {
       "_model_module": "@jupyter-widgets/base",
       "_model_module_version": "1.2.0",
       "_model_name": "LayoutModel",
       "_view_count": null,
       "_view_module": "@jupyter-widgets/base",
       "_view_module_version": "1.2.0",
       "_view_name": "LayoutView",
       "align_content": null,
       "align_items": null,
       "align_self": null,
       "border": null,
       "bottom": null,
       "display": null,
       "flex": null,
       "flex_flow": null,
       "grid_area": null,
       "grid_auto_columns": null,
       "grid_auto_flow": null,
       "grid_auto_rows": null,
       "grid_column": null,
       "grid_gap": null,
       "grid_row": null,
       "grid_template_areas": null,
       "grid_template_columns": null,
       "grid_template_rows": null,
       "height": null,
       "justify_content": null,
       "justify_items": null,
       "left": null,
       "margin": null,
       "max_height": null,
       "max_width": null,
       "min_height": null,
       "min_width": null,
       "object_fit": null,
       "object_position": null,
       "order": null,
       "overflow": null,
       "overflow_x": null,
       "overflow_y": null,
       "padding": null,
       "right": null,
       "top": null,
       "visibility": null,
       "width": null
      }
     },
     "24c3303ff4714decbe991b6140504f2a": {
      "model_module": "@jupyter-widgets/base",
      "model_module_version": "1.2.0",
      "model_name": "LayoutModel",
      "state": {
       "_model_module": "@jupyter-widgets/base",
       "_model_module_version": "1.2.0",
       "_model_name": "LayoutModel",
       "_view_count": null,
       "_view_module": "@jupyter-widgets/base",
       "_view_module_version": "1.2.0",
       "_view_name": "LayoutView",
       "align_content": null,
       "align_items": null,
       "align_self": null,
       "border": null,
       "bottom": null,
       "display": null,
       "flex": null,
       "flex_flow": null,
       "grid_area": null,
       "grid_auto_columns": null,
       "grid_auto_flow": null,
       "grid_auto_rows": null,
       "grid_column": null,
       "grid_gap": null,
       "grid_row": null,
       "grid_template_areas": null,
       "grid_template_columns": null,
       "grid_template_rows": null,
       "height": null,
       "justify_content": null,
       "justify_items": null,
       "left": null,
       "margin": null,
       "max_height": null,
       "max_width": null,
       "min_height": null,
       "min_width": null,
       "object_fit": null,
       "object_position": null,
       "order": null,
       "overflow": null,
       "overflow_x": null,
       "overflow_y": null,
       "padding": null,
       "right": null,
       "top": null,
       "visibility": null,
       "width": null
      }
     },
     "26e505d25f9d42749a05f32761dfa745": {
      "model_module": "@jupyter-widgets/base",
      "model_module_version": "1.2.0",
      "model_name": "LayoutModel",
      "state": {
       "_model_module": "@jupyter-widgets/base",
       "_model_module_version": "1.2.0",
       "_model_name": "LayoutModel",
       "_view_count": null,
       "_view_module": "@jupyter-widgets/base",
       "_view_module_version": "1.2.0",
       "_view_name": "LayoutView",
       "align_content": null,
       "align_items": null,
       "align_self": null,
       "border": null,
       "bottom": null,
       "display": null,
       "flex": null,
       "flex_flow": null,
       "grid_area": null,
       "grid_auto_columns": null,
       "grid_auto_flow": null,
       "grid_auto_rows": null,
       "grid_column": null,
       "grid_gap": null,
       "grid_row": null,
       "grid_template_areas": null,
       "grid_template_columns": null,
       "grid_template_rows": null,
       "height": null,
       "justify_content": null,
       "justify_items": null,
       "left": null,
       "margin": null,
       "max_height": null,
       "max_width": null,
       "min_height": null,
       "min_width": null,
       "object_fit": null,
       "object_position": null,
       "order": null,
       "overflow": null,
       "overflow_x": null,
       "overflow_y": null,
       "padding": null,
       "right": null,
       "top": null,
       "visibility": null,
       "width": null
      }
     },
     "2ffa1e1ec7e94991a14ceaa9860a51a5": {
      "model_module": "@jupyter-widgets/controls",
      "model_module_version": "1.5.0",
      "model_name": "HBoxModel",
      "state": {
       "_dom_classes": [],
       "_model_module": "@jupyter-widgets/controls",
       "_model_module_version": "1.5.0",
       "_model_name": "HBoxModel",
       "_view_count": null,
       "_view_module": "@jupyter-widgets/controls",
       "_view_module_version": "1.5.0",
       "_view_name": "HBoxView",
       "box_style": "",
       "children": [
        "IPY_MODEL_9adb487efdb04cd889a7c3f53f7b7e18",
        "IPY_MODEL_76ce56c915ee45998b7dde6473556c2c",
        "IPY_MODEL_5a37b1f8d3e946a49f6cae2d59f9d90d"
       ],
       "layout": "IPY_MODEL_467eb1decfdc4ead8321ad11389bbe4c"
      }
     },
     "35940a6ff18d476482ef2d2a799feab4": {
      "model_module": "@jupyter-widgets/controls",
      "model_module_version": "1.5.0",
      "model_name": "FloatProgressModel",
      "state": {
       "_dom_classes": [],
       "_model_module": "@jupyter-widgets/controls",
       "_model_module_version": "1.5.0",
       "_model_name": "FloatProgressModel",
       "_view_count": null,
       "_view_module": "@jupyter-widgets/controls",
       "_view_module_version": "1.5.0",
       "_view_name": "ProgressView",
       "bar_style": "success",
       "description": "",
       "description_tooltip": null,
       "layout": "IPY_MODEL_4ae10922ea074041a7e1f9b5cf9a20bd",
       "max": 85.0,
       "min": 0.0,
       "orientation": "horizontal",
       "style": "IPY_MODEL_93b1070c9c36494ab7dce6aff61274ea",
       "value": 85.0
      }
     },
     "400e5b30a416470fb532fe967b259ee1": {
      "model_module": "@jupyter-widgets/base",
      "model_module_version": "1.2.0",
      "model_name": "LayoutModel",
      "state": {
       "_model_module": "@jupyter-widgets/base",
       "_model_module_version": "1.2.0",
       "_model_name": "LayoutModel",
       "_view_count": null,
       "_view_module": "@jupyter-widgets/base",
       "_view_module_version": "1.2.0",
       "_view_name": "LayoutView",
       "align_content": null,
       "align_items": null,
       "align_self": null,
       "border": null,
       "bottom": null,
       "display": null,
       "flex": null,
       "flex_flow": null,
       "grid_area": null,
       "grid_auto_columns": null,
       "grid_auto_flow": null,
       "grid_auto_rows": null,
       "grid_column": null,
       "grid_gap": null,
       "grid_row": null,
       "grid_template_areas": null,
       "grid_template_columns": null,
       "grid_template_rows": null,
       "height": null,
       "justify_content": null,
       "justify_items": null,
       "left": null,
       "margin": null,
       "max_height": null,
       "max_width": null,
       "min_height": null,
       "min_width": null,
       "object_fit": null,
       "object_position": null,
       "order": null,
       "overflow": null,
       "overflow_x": null,
       "overflow_y": null,
       "padding": null,
       "right": null,
       "top": null,
       "visibility": null,
       "width": null
      }
     },
     "4147f4f4a3804b66a783fc8ac80313f2": {
      "model_module": "@jupyter-widgets/controls",
      "model_module_version": "1.5.0",
      "model_name": "FloatProgressModel",
      "state": {
       "_dom_classes": [],
       "_model_module": "@jupyter-widgets/controls",
       "_model_module_version": "1.5.0",
       "_model_name": "FloatProgressModel",
       "_view_count": null,
       "_view_module": "@jupyter-widgets/controls",
       "_view_module_version": "1.5.0",
       "_view_name": "ProgressView",
       "bar_style": "success",
       "description": "",
       "description_tooltip": null,
       "layout": "IPY_MODEL_24c3303ff4714decbe991b6140504f2a",
       "max": 222.0,
       "min": 0.0,
       "orientation": "horizontal",
       "style": "IPY_MODEL_8e15641ddb2e4fca8d012ee230560c19",
       "value": 222.0
      }
     },
     "467eb1decfdc4ead8321ad11389bbe4c": {
      "model_module": "@jupyter-widgets/base",
      "model_module_version": "1.2.0",
      "model_name": "LayoutModel",
      "state": {
       "_model_module": "@jupyter-widgets/base",
       "_model_module_version": "1.2.0",
       "_model_name": "LayoutModel",
       "_view_count": null,
       "_view_module": "@jupyter-widgets/base",
       "_view_module_version": "1.2.0",
       "_view_name": "LayoutView",
       "align_content": null,
       "align_items": null,
       "align_self": null,
       "border": null,
       "bottom": null,
       "display": null,
       "flex": null,
       "flex_flow": null,
       "grid_area": null,
       "grid_auto_columns": null,
       "grid_auto_flow": null,
       "grid_auto_rows": null,
       "grid_column": null,
       "grid_gap": null,
       "grid_row": null,
       "grid_template_areas": null,
       "grid_template_columns": null,
       "grid_template_rows": null,
       "height": null,
       "justify_content": null,
       "justify_items": null,
       "left": null,
       "margin": null,
       "max_height": null,
       "max_width": null,
       "min_height": null,
       "min_width": null,
       "object_fit": null,
       "object_position": null,
       "order": null,
       "overflow": null,
       "overflow_x": null,
       "overflow_y": null,
       "padding": null,
       "right": null,
       "top": null,
       "visibility": null,
       "width": null
      }
     },
     "4802916fe07f4c33853abeb412937364": {
      "model_module": "@jupyter-widgets/base",
      "model_module_version": "1.2.0",
      "model_name": "LayoutModel",
      "state": {
       "_model_module": "@jupyter-widgets/base",
       "_model_module_version": "1.2.0",
       "_model_name": "LayoutModel",
       "_view_count": null,
       "_view_module": "@jupyter-widgets/base",
       "_view_module_version": "1.2.0",
       "_view_name": "LayoutView",
       "align_content": null,
       "align_items": null,
       "align_self": null,
       "border": null,
       "bottom": null,
       "display": null,
       "flex": null,
       "flex_flow": null,
       "grid_area": null,
       "grid_auto_columns": null,
       "grid_auto_flow": null,
       "grid_auto_rows": null,
       "grid_column": null,
       "grid_gap": null,
       "grid_row": null,
       "grid_template_areas": null,
       "grid_template_columns": null,
       "grid_template_rows": null,
       "height": null,
       "justify_content": null,
       "justify_items": null,
       "left": null,
       "margin": null,
       "max_height": null,
       "max_width": null,
       "min_height": null,
       "min_width": null,
       "object_fit": null,
       "object_position": null,
       "order": null,
       "overflow": null,
       "overflow_x": null,
       "overflow_y": null,
       "padding": null,
       "right": null,
       "top": null,
       "visibility": null,
       "width": null
      }
     },
     "4ae10922ea074041a7e1f9b5cf9a20bd": {
      "model_module": "@jupyter-widgets/base",
      "model_module_version": "1.2.0",
      "model_name": "LayoutModel",
      "state": {
       "_model_module": "@jupyter-widgets/base",
       "_model_module_version": "1.2.0",
       "_model_name": "LayoutModel",
       "_view_count": null,
       "_view_module": "@jupyter-widgets/base",
       "_view_module_version": "1.2.0",
       "_view_name": "LayoutView",
       "align_content": null,
       "align_items": null,
       "align_self": null,
       "border": null,
       "bottom": null,
       "display": null,
       "flex": null,
       "flex_flow": null,
       "grid_area": null,
       "grid_auto_columns": null,
       "grid_auto_flow": null,
       "grid_auto_rows": null,
       "grid_column": null,
       "grid_gap": null,
       "grid_row": null,
       "grid_template_areas": null,
       "grid_template_columns": null,
       "grid_template_rows": null,
       "height": null,
       "justify_content": null,
       "justify_items": null,
       "left": null,
       "margin": null,
       "max_height": null,
       "max_width": null,
       "min_height": null,
       "min_width": null,
       "object_fit": null,
       "object_position": null,
       "order": null,
       "overflow": null,
       "overflow_x": null,
       "overflow_y": null,
       "padding": null,
       "right": null,
       "top": null,
       "visibility": null,
       "width": null
      }
     },
     "4b9c0100d4fc4a0a8dbc9fc77ef1739a": {
      "model_module": "@jupyter-widgets/base",
      "model_module_version": "1.2.0",
      "model_name": "LayoutModel",
      "state": {
       "_model_module": "@jupyter-widgets/base",
       "_model_module_version": "1.2.0",
       "_model_name": "LayoutModel",
       "_view_count": null,
       "_view_module": "@jupyter-widgets/base",
       "_view_module_version": "1.2.0",
       "_view_name": "LayoutView",
       "align_content": null,
       "align_items": null,
       "align_self": null,
       "border": null,
       "bottom": null,
       "display": null,
       "flex": null,
       "flex_flow": null,
       "grid_area": null,
       "grid_auto_columns": null,
       "grid_auto_flow": null,
       "grid_auto_rows": null,
       "grid_column": null,
       "grid_gap": null,
       "grid_row": null,
       "grid_template_areas": null,
       "grid_template_columns": null,
       "grid_template_rows": null,
       "height": null,
       "justify_content": null,
       "justify_items": null,
       "left": null,
       "margin": null,
       "max_height": null,
       "max_width": null,
       "min_height": null,
       "min_width": null,
       "object_fit": null,
       "object_position": null,
       "order": null,
       "overflow": null,
       "overflow_x": null,
       "overflow_y": null,
       "padding": null,
       "right": null,
       "top": null,
       "visibility": null,
       "width": null
      }
     },
     "4e8f13b18dcd472faedec98272465cef": {
      "model_module": "@jupyter-widgets/base",
      "model_module_version": "1.2.0",
      "model_name": "LayoutModel",
      "state": {
       "_model_module": "@jupyter-widgets/base",
       "_model_module_version": "1.2.0",
       "_model_name": "LayoutModel",
       "_view_count": null,
       "_view_module": "@jupyter-widgets/base",
       "_view_module_version": "1.2.0",
       "_view_name": "LayoutView",
       "align_content": null,
       "align_items": null,
       "align_self": null,
       "border": null,
       "bottom": null,
       "display": null,
       "flex": null,
       "flex_flow": null,
       "grid_area": null,
       "grid_auto_columns": null,
       "grid_auto_flow": null,
       "grid_auto_rows": null,
       "grid_column": null,
       "grid_gap": null,
       "grid_row": null,
       "grid_template_areas": null,
       "grid_template_columns": null,
       "grid_template_rows": null,
       "height": null,
       "justify_content": null,
       "justify_items": null,
       "left": null,
       "margin": null,
       "max_height": null,
       "max_width": null,
       "min_height": null,
       "min_width": null,
       "object_fit": null,
       "object_position": null,
       "order": null,
       "overflow": null,
       "overflow_x": null,
       "overflow_y": null,
       "padding": null,
       "right": null,
       "top": null,
       "visibility": null,
       "width": null
      }
     },
     "4ef5099599454a3ea0ff7b830d311939": {
      "model_module": "@jupyter-widgets/controls",
      "model_module_version": "1.5.0",
      "model_name": "HTMLModel",
      "state": {
       "_dom_classes": [],
       "_model_module": "@jupyter-widgets/controls",
       "_model_module_version": "1.5.0",
       "_model_name": "HTMLModel",
       "_view_count": null,
       "_view_module": "@jupyter-widgets/controls",
       "_view_module_version": "1.5.0",
       "_view_name": "HTMLView",
       "description": "",
       "description_tooltip": null,
       "layout": "IPY_MODEL_1010d1613a444dc7a90efa3ba510b1ba",
       "placeholder": "​",
       "style": "IPY_MODEL_ee69bd43db23499fb3563f09ecb8238f",
       "value": "model.safetensors: 100%"
      }
     },
     "4f632b9a826c4fb3878d6d637109bc65": {
      "model_module": "@jupyter-widgets/controls",
      "model_module_version": "1.5.0",
      "model_name": "DescriptionStyleModel",
      "state": {
       "_model_module": "@jupyter-widgets/controls",
       "_model_module_version": "1.5.0",
       "_model_name": "DescriptionStyleModel",
       "_view_count": null,
       "_view_module": "@jupyter-widgets/base",
       "_view_module_version": "1.2.0",
       "_view_name": "StyleView",
       "description_width": ""
      }
     },
     "537b825dea794c40852ae6d928d56cc6": {
      "model_module": "@jupyter-widgets/controls",
      "model_module_version": "1.5.0",
      "model_name": "FloatProgressModel",
      "state": {
       "_dom_classes": [],
       "_model_module": "@jupyter-widgets/controls",
       "_model_module_version": "1.5.0",
       "_model_name": "FloatProgressModel",
       "_view_count": null,
       "_view_module": "@jupyter-widgets/controls",
       "_view_module_version": "1.5.0",
       "_view_name": "ProgressView",
       "bar_style": "success",
       "description": "",
       "description_tooltip": null,
       "layout": "IPY_MODEL_400e5b30a416470fb532fe967b259ee1",
       "max": 1118459525.0,
       "min": 0.0,
       "orientation": "horizontal",
       "style": "IPY_MODEL_138e6677f2004f4c96f67059181d6bba",
       "value": 1118459525.0
      }
     },
     "5a37b1f8d3e946a49f6cae2d59f9d90d": {
      "model_module": "@jupyter-widgets/controls",
      "model_module_version": "1.5.0",
      "model_name": "HTMLModel",
      "state": {
       "_dom_classes": [],
       "_model_module": "@jupyter-widgets/controls",
       "_model_module_version": "1.5.0",
       "_model_name": "HTMLModel",
       "_view_count": null,
       "_view_module": "@jupyter-widgets/controls",
       "_view_module_version": "1.5.0",
       "_view_name": "HTMLView",
       "description": "",
       "description_tooltip": null,
       "layout": "IPY_MODEL_146a073e2ee5420cb57a14c3954549e1",
       "placeholder": "​",
       "style": "IPY_MODEL_8b19e8c4569c4940bdeb79de9259eaa6",
       "value": " 693/693 [00:00&lt;00:00, 58.7kB/s]"
      }
     },
     "5b06a5a0f4114c9299f1094aa1f9ab21": {
      "model_module": "@jupyter-widgets/controls",
      "model_module_version": "1.5.0",
      "model_name": "HTMLModel",
      "state": {
       "_dom_classes": [],
       "_model_module": "@jupyter-widgets/controls",
       "_model_module_version": "1.5.0",
       "_model_name": "HTMLModel",
       "_view_count": null,
       "_view_module": "@jupyter-widgets/controls",
       "_view_module_version": "1.5.0",
       "_view_name": "HTMLView",
       "description": "",
       "description_tooltip": null,
       "layout": "IPY_MODEL_0b3b4dae222b4b8abe3680dd6bb3f763",
       "placeholder": "​",
       "style": "IPY_MODEL_d794fb94a26b46cdb7b0950eaff3fb9b",
       "value": " 222/222 [00:00&lt;00:00, 20.2kB/s]"
      }
     },
     "60977d15d622401ba978022f1a8afbce": {
      "model_module": "@jupyter-widgets/controls",
      "model_module_version": "1.5.0",
      "model_name": "HTMLModel",
      "state": {
       "_dom_classes": [],
       "_model_module": "@jupyter-widgets/controls",
       "_model_module_version": "1.5.0",
       "_model_name": "HTMLModel",
       "_view_count": null,
       "_view_module": "@jupyter-widgets/controls",
       "_view_module_version": "1.5.0",
       "_view_name": "HTMLView",
       "description": "",
       "description_tooltip": null,
       "layout": "IPY_MODEL_c2fea36084fe47c4b7c532df954d9860",
       "placeholder": "​",
       "style": "IPY_MODEL_f0feeb50b876445ba9dbbab0c8e2101c",
       "value": " 14.5M/14.5M [00:00&lt;00:00, 68.2MB/s]"
      }
     },
     "63ceb7079f6d48a995c03adca70cf273": {
      "model_module": "@jupyter-widgets/controls",
      "model_module_version": "1.5.0",
      "model_name": "HBoxModel",
      "state": {
       "_dom_classes": [],
       "_model_module": "@jupyter-widgets/controls",
       "_model_module_version": "1.5.0",
       "_model_name": "HBoxModel",
       "_view_count": null,
       "_view_module": "@jupyter-widgets/controls",
       "_view_module_version": "1.5.0",
       "_view_name": "HBoxView",
       "box_style": "",
       "children": [
        "IPY_MODEL_4ef5099599454a3ea0ff7b830d311939",
        "IPY_MODEL_537b825dea794c40852ae6d928d56cc6",
        "IPY_MODEL_0e8fe71273f84a29816a62bfc5f32465"
       ],
       "layout": "IPY_MODEL_893c5033e47c4b74a6d78840a69ab5fe"
      }
     },
     "688799aadf55498290c13f13c4c75107": {
      "model_module": "@jupyter-widgets/controls",
      "model_module_version": "1.5.0",
      "model_name": "DescriptionStyleModel",
      "state": {
       "_model_module": "@jupyter-widgets/controls",
       "_model_module_version": "1.5.0",
       "_model_name": "DescriptionStyleModel",
       "_view_count": null,
       "_view_module": "@jupyter-widgets/base",
       "_view_module_version": "1.2.0",
       "_view_name": "StyleView",
       "description_width": ""
      }
     },
     "714c074e913c4ef799fb1bdb528ce6d0": {
      "model_module": "@jupyter-widgets/controls",
      "model_module_version": "1.5.0",
      "model_name": "HTMLModel",
      "state": {
       "_dom_classes": [],
       "_model_module": "@jupyter-widgets/controls",
       "_model_module_version": "1.5.0",
       "_model_name": "HTMLModel",
       "_view_count": null,
       "_view_module": "@jupyter-widgets/controls",
       "_view_module_version": "1.5.0",
       "_view_name": "HTMLView",
       "description": "",
       "description_tooltip": null,
       "layout": "IPY_MODEL_fa534968ade94e758cc000e02c3994d1",
       "placeholder": "​",
       "style": "IPY_MODEL_f4a61307bf614c57aea5c5d89786022e",
       "value": "tokenizer.json: 100%"
      }
     },
     "71b70b7b0a8c41fdac6504635a6a840e": {
      "model_module": "@jupyter-widgets/base",
      "model_module_version": "1.2.0",
      "model_name": "LayoutModel",
      "state": {
       "_model_module": "@jupyter-widgets/base",
       "_model_module_version": "1.2.0",
       "_model_name": "LayoutModel",
       "_view_count": null,
       "_view_module": "@jupyter-widgets/base",
       "_view_module_version": "1.2.0",
       "_view_name": "LayoutView",
       "align_content": null,
       "align_items": null,
       "align_self": null,
       "border": null,
       "bottom": null,
       "display": null,
       "flex": null,
       "flex_flow": null,
       "grid_area": null,
       "grid_auto_columns": null,
       "grid_auto_flow": null,
       "grid_auto_rows": null,
       "grid_column": null,
       "grid_gap": null,
       "grid_row": null,
       "grid_template_areas": null,
       "grid_template_columns": null,
       "grid_template_rows": null,
       "height": null,
       "justify_content": null,
       "justify_items": null,
       "left": null,
       "margin": null,
       "max_height": null,
       "max_width": null,
       "min_height": null,
       "min_width": null,
       "object_fit": null,
       "object_position": null,
       "order": null,
       "overflow": null,
       "overflow_x": null,
       "overflow_y": null,
       "padding": null,
       "right": null,
       "top": null,
       "visibility": null,
       "width": null
      }
     },
     "76ce56c915ee45998b7dde6473556c2c": {
      "model_module": "@jupyter-widgets/controls",
      "model_module_version": "1.5.0",
      "model_name": "FloatProgressModel",
      "state": {
       "_dom_classes": [],
       "_model_module": "@jupyter-widgets/controls",
       "_model_module_version": "1.5.0",
       "_model_name": "FloatProgressModel",
       "_view_count": null,
       "_view_module": "@jupyter-widgets/controls",
       "_view_module_version": "1.5.0",
       "_view_name": "ProgressView",
       "bar_style": "success",
       "description": "",
       "description_tooltip": null,
       "layout": "IPY_MODEL_71b70b7b0a8c41fdac6504635a6a840e",
       "max": 693.0,
       "min": 0.0,
       "orientation": "horizontal",
       "style": "IPY_MODEL_c552a7e0c95947eba266f653b7d68cd8",
       "value": 693.0
      }
     },
     "84ce35f80f8b4f9fb76cd7089e7274d5": {
      "model_module": "@jupyter-widgets/controls",
      "model_module_version": "1.5.0",
      "model_name": "DescriptionStyleModel",
      "state": {
       "_model_module": "@jupyter-widgets/controls",
       "_model_module_version": "1.5.0",
       "_model_name": "DescriptionStyleModel",
       "_view_count": null,
       "_view_module": "@jupyter-widgets/base",
       "_view_module_version": "1.2.0",
       "_view_name": "StyleView",
       "description_width": ""
      }
     },
     "893c5033e47c4b74a6d78840a69ab5fe": {
      "model_module": "@jupyter-widgets/base",
      "model_module_version": "1.2.0",
      "model_name": "LayoutModel",
      "state": {
       "_model_module": "@jupyter-widgets/base",
       "_model_module_version": "1.2.0",
       "_model_name": "LayoutModel",
       "_view_count": null,
       "_view_module": "@jupyter-widgets/base",
       "_view_module_version": "1.2.0",
       "_view_name": "LayoutView",
       "align_content": null,
       "align_items": null,
       "align_self": null,
       "border": null,
       "bottom": null,
       "display": null,
       "flex": null,
       "flex_flow": null,
       "grid_area": null,
       "grid_auto_columns": null,
       "grid_auto_flow": null,
       "grid_auto_rows": null,
       "grid_column": null,
       "grid_gap": null,
       "grid_row": null,
       "grid_template_areas": null,
       "grid_template_columns": null,
       "grid_template_rows": null,
       "height": null,
       "justify_content": null,
       "justify_items": null,
       "left": null,
       "margin": null,
       "max_height": null,
       "max_width": null,
       "min_height": null,
       "min_width": null,
       "object_fit": null,
       "object_position": null,
       "order": null,
       "overflow": null,
       "overflow_x": null,
       "overflow_y": null,
       "padding": null,
       "right": null,
       "top": null,
       "visibility": null,
       "width": null
      }
     },
     "8b19e8c4569c4940bdeb79de9259eaa6": {
      "model_module": "@jupyter-widgets/controls",
      "model_module_version": "1.5.0",
      "model_name": "DescriptionStyleModel",
      "state": {
       "_model_module": "@jupyter-widgets/controls",
       "_model_module_version": "1.5.0",
       "_model_name": "DescriptionStyleModel",
       "_view_count": null,
       "_view_module": "@jupyter-widgets/base",
       "_view_module_version": "1.2.0",
       "_view_name": "StyleView",
       "description_width": ""
      }
     },
     "8e15641ddb2e4fca8d012ee230560c19": {
      "model_module": "@jupyter-widgets/controls",
      "model_module_version": "1.5.0",
      "model_name": "ProgressStyleModel",
      "state": {
       "_model_module": "@jupyter-widgets/controls",
       "_model_module_version": "1.5.0",
       "_model_name": "ProgressStyleModel",
       "_view_count": null,
       "_view_module": "@jupyter-widgets/base",
       "_view_module_version": "1.2.0",
       "_view_name": "StyleView",
       "bar_color": null,
       "description_width": ""
      }
     },
     "93b1070c9c36494ab7dce6aff61274ea": {
      "model_module": "@jupyter-widgets/controls",
      "model_module_version": "1.5.0",
      "model_name": "ProgressStyleModel",
      "state": {
       "_model_module": "@jupyter-widgets/controls",
       "_model_module_version": "1.5.0",
       "_model_name": "ProgressStyleModel",
       "_view_count": null,
       "_view_module": "@jupyter-widgets/base",
       "_view_module_version": "1.2.0",
       "_view_name": "StyleView",
       "bar_color": null,
       "description_width": ""
      }
     },
     "9adb487efdb04cd889a7c3f53f7b7e18": {
      "model_module": "@jupyter-widgets/controls",
      "model_module_version": "1.5.0",
      "model_name": "HTMLModel",
      "state": {
       "_dom_classes": [],
       "_model_module": "@jupyter-widgets/controls",
       "_model_module_version": "1.5.0",
       "_model_name": "HTMLModel",
       "_view_count": null,
       "_view_module": "@jupyter-widgets/controls",
       "_view_module_version": "1.5.0",
       "_view_name": "HTMLView",
       "description": "",
       "description_tooltip": null,
       "layout": "IPY_MODEL_26e505d25f9d42749a05f32761dfa745",
       "placeholder": "​",
       "style": "IPY_MODEL_9b495323f8b34712a8203bdd65a4e849",
       "value": "config.json: 100%"
      }
     },
     "9b495323f8b34712a8203bdd65a4e849": {
      "model_module": "@jupyter-widgets/controls",
      "model_module_version": "1.5.0",
      "model_name": "DescriptionStyleModel",
      "state": {
       "_model_module": "@jupyter-widgets/controls",
       "_model_module_version": "1.5.0",
       "_model_name": "DescriptionStyleModel",
       "_view_count": null,
       "_view_module": "@jupyter-widgets/base",
       "_view_module_version": "1.2.0",
       "_view_name": "StyleView",
       "description_width": ""
      }
     },
     "b6552fdc151b433f8db0380a8172474c": {
      "model_module": "@jupyter-widgets/base",
      "model_module_version": "1.2.0",
      "model_name": "LayoutModel",
      "state": {
       "_model_module": "@jupyter-widgets/base",
       "_model_module_version": "1.2.0",
       "_model_name": "LayoutModel",
       "_view_count": null,
       "_view_module": "@jupyter-widgets/base",
       "_view_module_version": "1.2.0",
       "_view_name": "LayoutView",
       "align_content": null,
       "align_items": null,
       "align_self": null,
       "border": null,
       "bottom": null,
       "display": null,
       "flex": null,
       "flex_flow": null,
       "grid_area": null,
       "grid_auto_columns": null,
       "grid_auto_flow": null,
       "grid_auto_rows": null,
       "grid_column": null,
       "grid_gap": null,
       "grid_row": null,
       "grid_template_areas": null,
       "grid_template_columns": null,
       "grid_template_rows": null,
       "height": null,
       "justify_content": null,
       "justify_items": null,
       "left": null,
       "margin": null,
       "max_height": null,
       "max_width": null,
       "min_height": null,
       "min_width": null,
       "object_fit": null,
       "object_position": null,
       "order": null,
       "overflow": null,
       "overflow_x": null,
       "overflow_y": null,
       "padding": null,
       "right": null,
       "top": null,
       "visibility": null,
       "width": null
      }
     },
     "bb45554e0dee430c91d3ef650745f30f": {
      "model_module": "@jupyter-widgets/base",
      "model_module_version": "1.2.0",
      "model_name": "LayoutModel",
      "state": {
       "_model_module": "@jupyter-widgets/base",
       "_model_module_version": "1.2.0",
       "_model_name": "LayoutModel",
       "_view_count": null,
       "_view_module": "@jupyter-widgets/base",
       "_view_module_version": "1.2.0",
       "_view_name": "LayoutView",
       "align_content": null,
       "align_items": null,
       "align_self": null,
       "border": null,
       "bottom": null,
       "display": null,
       "flex": null,
       "flex_flow": null,
       "grid_area": null,
       "grid_auto_columns": null,
       "grid_auto_flow": null,
       "grid_auto_rows": null,
       "grid_column": null,
       "grid_gap": null,
       "grid_row": null,
       "grid_template_areas": null,
       "grid_template_columns": null,
       "grid_template_rows": null,
       "height": null,
       "justify_content": null,
       "justify_items": null,
       "left": null,
       "margin": null,
       "max_height": null,
       "max_width": null,
       "min_height": null,
       "min_width": null,
       "object_fit": null,
       "object_position": null,
       "order": null,
       "overflow": null,
       "overflow_x": null,
       "overflow_y": null,
       "padding": null,
       "right": null,
       "top": null,
       "visibility": null,
       "width": null
      }
     },
     "c2fea36084fe47c4b7c532df954d9860": {
      "model_module": "@jupyter-widgets/base",
      "model_module_version": "1.2.0",
      "model_name": "LayoutModel",
      "state": {
       "_model_module": "@jupyter-widgets/base",
       "_model_module_version": "1.2.0",
       "_model_name": "LayoutModel",
       "_view_count": null,
       "_view_module": "@jupyter-widgets/base",
       "_view_module_version": "1.2.0",
       "_view_name": "LayoutView",
       "align_content": null,
       "align_items": null,
       "align_self": null,
       "border": null,
       "bottom": null,
       "display": null,
       "flex": null,
       "flex_flow": null,
       "grid_area": null,
       "grid_auto_columns": null,
       "grid_auto_flow": null,
       "grid_auto_rows": null,
       "grid_column": null,
       "grid_gap": null,
       "grid_row": null,
       "grid_template_areas": null,
       "grid_template_columns": null,
       "grid_template_rows": null,
       "height": null,
       "justify_content": null,
       "justify_items": null,
       "left": null,
       "margin": null,
       "max_height": null,
       "max_width": null,
       "min_height": null,
       "min_width": null,
       "object_fit": null,
       "object_position": null,
       "order": null,
       "overflow": null,
       "overflow_x": null,
       "overflow_y": null,
       "padding": null,
       "right": null,
       "top": null,
       "visibility": null,
       "width": null
      }
     },
     "c552a7e0c95947eba266f653b7d68cd8": {
      "model_module": "@jupyter-widgets/controls",
      "model_module_version": "1.5.0",
      "model_name": "ProgressStyleModel",
      "state": {
       "_model_module": "@jupyter-widgets/controls",
       "_model_module_version": "1.5.0",
       "_model_name": "ProgressStyleModel",
       "_view_count": null,
       "_view_module": "@jupyter-widgets/base",
       "_view_module_version": "1.2.0",
       "_view_name": "StyleView",
       "bar_color": null,
       "description_width": ""
      }
     },
     "c72f491a50064889abf9599e94523c8c": {
      "model_module": "@jupyter-widgets/controls",
      "model_module_version": "1.5.0",
      "model_name": "FloatProgressModel",
      "state": {
       "_dom_classes": [],
       "_model_module": "@jupyter-widgets/controls",
       "_model_module_version": "1.5.0",
       "_model_name": "FloatProgressModel",
       "_view_count": null,
       "_view_module": "@jupyter-widgets/controls",
       "_view_module_version": "1.5.0",
       "_view_name": "ProgressView",
       "bar_style": "success",
       "description": "",
       "description_tooltip": null,
       "layout": "IPY_MODEL_4b9c0100d4fc4a0a8dbc9fc77ef1739a",
       "max": 14500438.0,
       "min": 0.0,
       "orientation": "horizontal",
       "style": "IPY_MODEL_1ecf010d8eb94c82bb52dc8bb3a5519e",
       "value": 14500438.0
      }
     },
     "d794fb94a26b46cdb7b0950eaff3fb9b": {
      "model_module": "@jupyter-widgets/controls",
      "model_module_version": "1.5.0",
      "model_name": "DescriptionStyleModel",
      "state": {
       "_model_module": "@jupyter-widgets/controls",
       "_model_module_version": "1.5.0",
       "_model_name": "DescriptionStyleModel",
       "_view_count": null,
       "_view_module": "@jupyter-widgets/base",
       "_view_module_version": "1.2.0",
       "_view_name": "StyleView",
       "description_width": ""
      }
     },
     "e2182b72afbf4285ad6f1f40055c9546": {
      "model_module": "@jupyter-widgets/controls",
      "model_module_version": "1.5.0",
      "model_name": "HTMLModel",
      "state": {
       "_dom_classes": [],
       "_model_module": "@jupyter-widgets/controls",
       "_model_module_version": "1.5.0",
       "_model_name": "HTMLModel",
       "_view_count": null,
       "_view_module": "@jupyter-widgets/controls",
       "_view_module_version": "1.5.0",
       "_view_name": "HTMLView",
       "description": "",
       "description_tooltip": null,
       "layout": "IPY_MODEL_4e8f13b18dcd472faedec98272465cef",
       "placeholder": "​",
       "style": "IPY_MODEL_84ce35f80f8b4f9fb76cd7089e7274d5",
       "value": "special_tokens_map.json: 100%"
      }
     },
     "ee69bd43db23499fb3563f09ecb8238f": {
      "model_module": "@jupyter-widgets/controls",
      "model_module_version": "1.5.0",
      "model_name": "DescriptionStyleModel",
      "state": {
       "_model_module": "@jupyter-widgets/controls",
       "_model_module_version": "1.5.0",
       "_model_name": "DescriptionStyleModel",
       "_view_count": null,
       "_view_module": "@jupyter-widgets/base",
       "_view_module_version": "1.2.0",
       "_view_name": "StyleView",
       "description_width": ""
      }
     },
     "ef16db71fb4446119670f4d9ef15ea0c": {
      "model_module": "@jupyter-widgets/controls",
      "model_module_version": "1.5.0",
      "model_name": "HBoxModel",
      "state": {
       "_dom_classes": [],
       "_model_module": "@jupyter-widgets/controls",
       "_model_module_version": "1.5.0",
       "_model_name": "HBoxModel",
       "_view_count": null,
       "_view_module": "@jupyter-widgets/controls",
       "_view_module_version": "1.5.0",
       "_view_name": "HBoxView",
       "box_style": "",
       "children": [
        "IPY_MODEL_714c074e913c4ef799fb1bdb528ce6d0",
        "IPY_MODEL_c72f491a50064889abf9599e94523c8c",
        "IPY_MODEL_60977d15d622401ba978022f1a8afbce"
       ],
       "layout": "IPY_MODEL_4802916fe07f4c33853abeb412937364"
      }
     },
     "f0feeb50b876445ba9dbbab0c8e2101c": {
      "model_module": "@jupyter-widgets/controls",
      "model_module_version": "1.5.0",
      "model_name": "DescriptionStyleModel",
      "state": {
       "_model_module": "@jupyter-widgets/controls",
       "_model_module_version": "1.5.0",
       "_model_name": "DescriptionStyleModel",
       "_view_count": null,
       "_view_module": "@jupyter-widgets/base",
       "_view_module_version": "1.2.0",
       "_view_name": "StyleView",
       "description_width": ""
      }
     },
     "f4a61307bf614c57aea5c5d89786022e": {
      "model_module": "@jupyter-widgets/controls",
      "model_module_version": "1.5.0",
      "model_name": "DescriptionStyleModel",
      "state": {
       "_model_module": "@jupyter-widgets/controls",
       "_model_module_version": "1.5.0",
       "_model_name": "DescriptionStyleModel",
       "_view_count": null,
       "_view_module": "@jupyter-widgets/base",
       "_view_module_version": "1.2.0",
       "_view_name": "StyleView",
       "description_width": ""
      }
     },
     "f740a80ecc6a44fcb9b5c93c471a7f09": {
      "model_module": "@jupyter-widgets/controls",
      "model_module_version": "1.5.0",
      "model_name": "HTMLModel",
      "state": {
       "_dom_classes": [],
       "_model_module": "@jupyter-widgets/controls",
       "_model_module_version": "1.5.0",
       "_model_name": "HTMLModel",
       "_view_count": null,
       "_view_module": "@jupyter-widgets/controls",
       "_view_module_version": "1.5.0",
       "_view_name": "HTMLView",
       "description": "",
       "description_tooltip": null,
       "layout": "IPY_MODEL_228eb98f01644fd7bfbd11230e93bb4d",
       "placeholder": "​",
       "style": "IPY_MODEL_1aeb3563ab0346a68be3bf56189755a0",
       "value": " 85.0/85.0 [00:00&lt;00:00, 7.24kB/s]"
      }
     },
     "f8bd2bb22dc94e7f981972e4bdce273c": {
      "model_module": "@jupyter-widgets/controls",
      "model_module_version": "1.5.0",
      "model_name": "HTMLModel",
      "state": {
       "_dom_classes": [],
       "_model_module": "@jupyter-widgets/controls",
       "_model_module_version": "1.5.0",
       "_model_name": "HTMLModel",
       "_view_count": null,
       "_view_module": "@jupyter-widgets/controls",
       "_view_module_version": "1.5.0",
       "_view_name": "HTMLView",
       "description": "",
       "description_tooltip": null,
       "layout": "IPY_MODEL_bb45554e0dee430c91d3ef650745f30f",
       "placeholder": "​",
       "style": "IPY_MODEL_4f632b9a826c4fb3878d6d637109bc65",
       "value": "tokenizer_config.json: 100%"
      }
     },
     "fa534968ade94e758cc000e02c3994d1": {
      "model_module": "@jupyter-widgets/base",
      "model_module_version": "1.2.0",
      "model_name": "LayoutModel",
      "state": {
       "_model_module": "@jupyter-widgets/base",
       "_model_module_version": "1.2.0",
       "_model_name": "LayoutModel",
       "_view_count": null,
       "_view_module": "@jupyter-widgets/base",
       "_view_module_version": "1.2.0",
       "_view_name": "LayoutView",
       "align_content": null,
       "align_items": null,
       "align_self": null,
       "border": null,
       "bottom": null,
       "display": null,
       "flex": null,
       "flex_flow": null,
       "grid_area": null,
       "grid_auto_columns": null,
       "grid_auto_flow": null,
       "grid_auto_rows": null,
       "grid_column": null,
       "grid_gap": null,
       "grid_row": null,
       "grid_template_areas": null,
       "grid_template_columns": null,
       "grid_template_rows": null,
       "height": null,
       "justify_content": null,
       "justify_items": null,
       "left": null,
       "margin": null,
       "max_height": null,
       "max_width": null,
       "min_height": null,
       "min_width": null,
       "object_fit": null,
       "object_position": null,
       "order": null,
       "overflow": null,
       "overflow_x": null,
       "overflow_y": null,
       "padding": null,
       "right": null,
       "top": null,
       "visibility": null,
       "width": null
      }
     }
    },
    "version_major": 2,
    "version_minor": 0
   }
  }
 },
 "nbformat": 4,
 "nbformat_minor": 5
}
