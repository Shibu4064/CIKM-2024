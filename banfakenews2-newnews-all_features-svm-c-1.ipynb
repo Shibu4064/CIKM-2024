{
 "cells": [
  {
   "cell_type": "code",
   "execution_count": 1,
   "id": "ee04fd7c",
   "metadata": {
    "execution": {
     "iopub.execute_input": "2024-06-02T15:30:29.863546Z",
     "iopub.status.busy": "2024-06-02T15:30:29.863145Z",
     "iopub.status.idle": "2024-06-02T15:30:32.707561Z",
     "shell.execute_reply": "2024-06-02T15:30:32.706607Z"
    },
    "id": "MgxGHrEJ0ert",
    "papermill": {
     "duration": 2.856376,
     "end_time": "2024-06-02T15:30:32.710179",
     "exception": false,
     "start_time": "2024-06-02T15:30:29.853803",
     "status": "completed"
    },
    "tags": []
   },
   "outputs": [],
   "source": [
    "#all imports\n",
    "import pandas as pd\n",
    "import re\n",
    "from nltk.util import ngrams\n",
    "from sklearn.feature_extraction.text import TfidfVectorizer\n",
    "from sklearn import metrics\n",
    "from sklearn import svm\n",
    "from scipy import sparse, hstack\n",
    "import string\n",
    "import numpy as np\n",
    "from sklearn.metrics import classification_report\n",
    "from sklearn.metrics import f1_score\n",
    "from sklearn.model_selection import train_test_split"
   ]
  },
  {
   "cell_type": "code",
   "execution_count": 2,
   "id": "2d4c8c45",
   "metadata": {
    "execution": {
     "iopub.execute_input": "2024-06-02T15:30:32.726966Z",
     "iopub.status.busy": "2024-06-02T15:30:32.726436Z",
     "iopub.status.idle": "2024-06-02T15:30:42.899402Z",
     "shell.execute_reply": "2024-06-02T15:30:42.898358Z"
    },
    "id": "LtgSWhwn3e7Y",
    "outputId": "b9cc0b9a-6845-4985-ba40-49d54eeed482",
    "papermill": {
     "duration": 10.18414,
     "end_time": "2024-06-02T15:30:42.902106",
     "exception": false,
     "start_time": "2024-06-02T15:30:32.717966",
     "status": "completed"
    },
    "tags": []
   },
   "outputs": [],
   "source": [
    "#load data\n",
    "df_train = pd.read_csv(\"/kaggle/input/banglafakenews/train.csv\")[[\"Headline\", \"Content\", \"Label\"]]\n",
    "df_val = pd.read_csv(\"/kaggle/input/banglafakenews/val.csv\")[[\"Headline\", \"Content\", \"Label\"]]\n",
    "df_test = pd.read_csv(\"/kaggle/input/banglafakenews/test.csv\")[[\"Headline\", \"Content\", \"Label\"]]\n",
    "\n",
    "# Concatenate the DataFrames\n",
    "combined_df = pd.concat([df_train, df_val, df_test], ignore_index=True)\n",
    "\n",
    "# Splitting the dataset into train and validation sets\n",
    "df_train, df_val = train_test_split(combined_df, test_size=0.2, stratify=combined_df['Label'])\n",
    "\n",
    "df_test = pd.read_csv(\"/kaggle/input/newnewssep2023/new_fake_real_merged.csv\")[[\"Headline\", \"Content\", \"Label\"]]"
   ]
  },
  {
   "cell_type": "code",
   "execution_count": 3,
   "id": "31b8220b",
   "metadata": {
    "execution": {
     "iopub.execute_input": "2024-06-02T15:30:42.918665Z",
     "iopub.status.busy": "2024-06-02T15:30:42.918252Z",
     "iopub.status.idle": "2024-06-02T15:30:42.925960Z",
     "shell.execute_reply": "2024-06-02T15:30:42.924870Z"
    },
    "id": "gfGkvR645Bzz",
    "papermill": {
     "duration": 0.018521,
     "end_time": "2024-06-02T15:30:42.928232",
     "exception": false,
     "start_time": "2024-06-02T15:30:42.909711",
     "status": "completed"
    },
    "tags": []
   },
   "outputs": [],
   "source": [
    "def tokenizer(doc):\n",
    "    puncList = [\"।\", \"”\", \"“\", \"’\"]\n",
    "    for p in string.punctuation.lstrip():\n",
    "        puncList.append(p)\n",
    "    # remove punctuation\n",
    "    tokens = []\n",
    "    def cleanword(word):\n",
    "        for p in puncList:\n",
    "            word = word.replace(p, \"\")\n",
    "        word = re.sub(r'[\\u09E6-\\u09EF]', \"\", word, re.DEBUG)  # replace digits\n",
    "\n",
    "        return word\n",
    "\n",
    "    for word in doc.split(\" \"):\n",
    "        word = cleanword(word)\n",
    "        if word != \"\":\n",
    "            tokens.append(word)\n",
    "\n",
    "    return tokens"
   ]
  },
  {
   "cell_type": "code",
   "execution_count": 4,
   "id": "d47bf87d",
   "metadata": {
    "execution": {
     "iopub.execute_input": "2024-06-02T15:30:42.944750Z",
     "iopub.status.busy": "2024-06-02T15:30:42.944335Z",
     "iopub.status.idle": "2024-06-02T15:30:42.951378Z",
     "shell.execute_reply": "2024-06-02T15:30:42.950341Z"
    },
    "id": "MWv1athZ4RSu",
    "papermill": {
     "duration": 0.018005,
     "end_time": "2024-06-02T15:30:42.953614",
     "exception": false,
     "start_time": "2024-06-02T15:30:42.935609",
     "status": "completed"
    },
    "tags": []
   },
   "outputs": [],
   "source": [
    "def tfidf_charF(X, X_ret, a, b, save_model=False):\n",
    "\n",
    "    tfidf_char = TfidfVectorizer(sublinear_tf=True, min_df=5, norm='l2', ngram_range=(a, b),\n",
    "                                 decode_error='replace', encoding='utf-8', analyzer='char')\n",
    "\n",
    "    tfidf_char.fit(X.values.astype('U'))\n",
    "    x_char = tfidf_char.transform(X_ret.values.astype('U'))\n",
    "    return x_char"
   ]
  },
  {
   "cell_type": "code",
   "execution_count": 5,
   "id": "8b904177",
   "metadata": {
    "execution": {
     "iopub.execute_input": "2024-06-02T15:30:42.969745Z",
     "iopub.status.busy": "2024-06-02T15:30:42.969359Z",
     "iopub.status.idle": "2024-06-02T15:30:42.975672Z",
     "shell.execute_reply": "2024-06-02T15:30:42.974711Z"
    },
    "id": "6-eSApeD4aUn",
    "papermill": {
     "duration": 0.017119,
     "end_time": "2024-06-02T15:30:42.978031",
     "exception": false,
     "start_time": "2024-06-02T15:30:42.960912",
     "status": "completed"
    },
    "tags": []
   },
   "outputs": [],
   "source": [
    "def tfidf_wordF(X, X_ret, a, b):\n",
    "\n",
    "    tfidf_word = TfidfVectorizer(sublinear_tf=True, min_df=5, norm='l2', ngram_range=(a, b),\n",
    "                                 decode_error='replace', encoding='utf-8', analyzer='word', tokenizer=tokenizer)\n",
    "\n",
    "    tfidf_word.fit(X.values.astype('U'))\n",
    "    x_word = tfidf_word.transform(X_ret.values.astype('U'))\n",
    "    return x_word"
   ]
  },
  {
   "cell_type": "code",
   "execution_count": 6,
   "id": "ca7f1533",
   "metadata": {
    "execution": {
     "iopub.execute_input": "2024-06-02T15:30:42.994728Z",
     "iopub.status.busy": "2024-06-02T15:30:42.993969Z",
     "iopub.status.idle": "2024-06-02T15:31:57.683114Z",
     "shell.execute_reply": "2024-06-02T15:31:57.681311Z"
    },
    "id": "r7AwX9FZ6Oy3",
    "outputId": "4b51af41-6fd9-4411-dff2-1a3df8d594a3",
    "papermill": {
     "duration": 74.702674,
     "end_time": "2024-06-02T15:31:57.688090",
     "exception": false,
     "start_time": "2024-06-02T15:30:42.985416",
     "status": "completed"
    },
    "tags": []
   },
   "outputs": [
    {
     "name": "stdout",
     "output_type": "stream",
     "text": [
      "--2024-06-02 15:30:44--  https://dl.fbaipublicfiles.com/fasttext/vectors-crawl/cc.bn.300.bin.gz\r\n",
      "Resolving dl.fbaipublicfiles.com (dl.fbaipublicfiles.com)... 3.163.189.108, 3.163.189.51, 3.163.189.14, ...\r\n",
      "Connecting to dl.fbaipublicfiles.com (dl.fbaipublicfiles.com)|3.163.189.108|:443... connected.\r\n",
      "HTTP request sent, awaiting response... 200 OK\r\n",
      "Length: 3934298272 (3.7G) [application/octet-stream]\r\n",
      "Saving to: 'cc.bn.300.bin.gz'\r\n",
      "\r\n",
      "cc.bn.300.bin.gz    100%[===================>]   3.66G   281MB/s    in 13s     \r\n",
      "\r\n",
      "2024-06-02 15:30:57 (288 MB/s) - 'cc.bn.300.bin.gz' saved [3934298272/3934298272]\r\n",
      "\r\n"
     ]
    }
   ],
   "source": [
    "#load fasttext\n",
    "!wget https://dl.fbaipublicfiles.com/fasttext/vectors-crawl/cc.bn.300.bin.gz\n",
    "# !pip install fasttext\n",
    "!gunzip /kaggle/working/cc.bn.300.bin.gz"
   ]
  },
  {
   "cell_type": "code",
   "execution_count": 7,
   "id": "06d790dc",
   "metadata": {
    "execution": {
     "iopub.execute_input": "2024-06-02T15:31:57.720770Z",
     "iopub.status.busy": "2024-06-02T15:31:57.720342Z",
     "iopub.status.idle": "2024-06-02T15:32:07.101605Z",
     "shell.execute_reply": "2024-06-02T15:32:07.100431Z"
    },
    "id": "BjUgy6GXMJsZ",
    "outputId": "902f7dc9-d538-44c9-d3f9-396b3ab4b10d",
    "papermill": {
     "duration": 9.400845,
     "end_time": "2024-06-02T15:32:07.104829",
     "exception": false,
     "start_time": "2024-06-02T15:31:57.703984",
     "status": "completed"
    },
    "tags": []
   },
   "outputs": [
    {
     "name": "stderr",
     "output_type": "stream",
     "text": [
      "Warning : `load_model` does not return WordVectorModel or SupervisedModel any more, but a `FastText` object which is very similar.\n"
     ]
    }
   ],
   "source": [
    "import fasttext\n",
    "import fasttext.util\n",
    "ft = fasttext.load_model('/kaggle/working/cc.bn.300.bin')"
   ]
  },
  {
   "cell_type": "code",
   "execution_count": 8,
   "id": "c23017f3",
   "metadata": {
    "execution": {
     "iopub.execute_input": "2024-06-02T15:32:07.134333Z",
     "iopub.status.busy": "2024-06-02T15:32:07.133536Z",
     "iopub.status.idle": "2024-06-02T15:32:07.141072Z",
     "shell.execute_reply": "2024-06-02T15:32:07.140038Z"
    },
    "id": "_E1biVqu5-JT",
    "papermill": {
     "duration": 0.02469,
     "end_time": "2024-06-02T15:32:07.143316",
     "exception": false,
     "start_time": "2024-06-02T15:32:07.118626",
     "status": "completed"
    },
    "tags": []
   },
   "outputs": [],
   "source": [
    "from scipy import sparse\n",
    "def get_sentence_vectors(texts):\n",
    "    vectors = []\n",
    "    for text in texts:\n",
    "        words = text.split()  # Split text into words\n",
    "        word_vectors = [ft.get_word_vector(word) for word in words]  # Get word vectors for each word\n",
    "        if word_vectors:  # If there are words in the text\n",
    "            sentence_vector = np.mean(word_vectors, axis=0)  # Calculate mean of word vectors\n",
    "        else:  # If no words found\n",
    "            sentence_vector = np.zeros(ft.get_dimension())  # Use zero vector\n",
    "        vectors.append(sentence_vector)\n",
    "#     df = pd.DataFrame(vectors)\n",
    "#     df = df.fillna(0)\n",
    "    return np.array(vectors)\n",
    "#     return sparse.csr.csr_matrix(df.values)"
   ]
  },
  {
   "cell_type": "code",
   "execution_count": 9,
   "id": "a970ff4e",
   "metadata": {
    "execution": {
     "iopub.execute_input": "2024-06-02T15:32:07.172949Z",
     "iopub.status.busy": "2024-06-02T15:32:07.172540Z",
     "iopub.status.idle": "2024-06-02T15:54:15.073805Z",
     "shell.execute_reply": "2024-06-02T15:54:15.071953Z"
    },
    "id": "4bdbU9H_6i4d",
    "papermill": {
     "duration": 1327.920193,
     "end_time": "2024-06-02T15:54:15.077628",
     "exception": false,
     "start_time": "2024-06-02T15:32:07.157435",
     "status": "completed"
    },
    "tags": []
   },
   "outputs": [],
   "source": [
    "# Get sentence vectors tfidf_charF\n",
    "\n",
    "X_train_char = tfidf_charF(df_train['Headline']+\" \\\\\\ \"+ df_train['Content'], df_train['Headline']+\" \\\\\\ \"+ df_train['Content'], 3, 5)\n",
    "\n",
    "X_val_char = tfidf_charF(df_train['Headline']+\" \\\\\\ \"+ df_train['Content'], df_val['Headline']+\" \\\\\\ \"+ df_val['Content'], 3, 5)\n",
    "\n",
    "X_test_char = tfidf_charF(df_train['Headline']+\" \\\\\\ \"+ df_train['Content'], df_test['Headline']+\" \\\\\\ \"+ df_test['Content'], 3, 5)"
   ]
  },
  {
   "cell_type": "code",
   "execution_count": 10,
   "id": "c534bf7f",
   "metadata": {
    "execution": {
     "iopub.execute_input": "2024-06-02T15:54:15.110129Z",
     "iopub.status.busy": "2024-06-02T15:54:15.109663Z",
     "iopub.status.idle": "2024-06-02T16:09:32.868334Z",
     "shell.execute_reply": "2024-06-02T16:09:32.866727Z"
    },
    "id": "ejR2o4qZ6rJG",
    "papermill": {
     "duration": 917.778227,
     "end_time": "2024-06-02T16:09:32.871969",
     "exception": false,
     "start_time": "2024-06-02T15:54:15.093742",
     "status": "completed"
    },
    "tags": []
   },
   "outputs": [
    {
     "name": "stderr",
     "output_type": "stream",
     "text": [
      "/opt/conda/lib/python3.10/site-packages/sklearn/feature_extraction/text.py:528: UserWarning: The parameter 'token_pattern' will not be used since 'tokenizer' is not None'\n",
      "  warnings.warn(\n"
     ]
    }
   ],
   "source": [
    "# Get sentence vectors tfidf_wordF\n",
    "\n",
    "X_train_word = tfidf_wordF(df_train['Headline']+\" \\\\\\ \"+ df_train['Content'], df_train['Headline']+\" \\\\\\ \"+ df_train['Content'], 1, 3)\n",
    "\n",
    "X_val_word = tfidf_wordF(df_train['Headline']+\" \\\\\\ \"+ df_train['Content'], df_val['Headline']+\" \\\\\\ \"+ df_val['Content'], 1, 3)\n",
    "\n",
    "X_test_word = tfidf_wordF(df_train['Headline']+\" \\\\\\ \"+ df_train['Content'], df_test['Headline']+\" \\\\\\ \"+ df_test['Content'], 1, 3)"
   ]
  },
  {
   "cell_type": "code",
   "execution_count": 11,
   "id": "c4af0b5d",
   "metadata": {
    "execution": {
     "iopub.execute_input": "2024-06-02T16:09:32.903298Z",
     "iopub.status.busy": "2024-06-02T16:09:32.902816Z",
     "iopub.status.idle": "2024-06-02T16:13:33.160421Z",
     "shell.execute_reply": "2024-06-02T16:13:33.159196Z"
    },
    "id": "XvQMNb6b547v",
    "papermill": {
     "duration": 240.276769,
     "end_time": "2024-06-02T16:13:33.163558",
     "exception": false,
     "start_time": "2024-06-02T16:09:32.886789",
     "status": "completed"
    },
    "tags": []
   },
   "outputs": [],
   "source": [
    "# Get sentence vectors embedding\n",
    "\n",
    "X_train_emb = get_sentence_vectors(df_train['Headline']+\" \\\\\\ \"+ df_train['Content'])\n",
    "\n",
    "X_val_emb = get_sentence_vectors(df_val['Headline']+\" \\\\\\ \"+ df_val['Content'])\n",
    "\n",
    "X_test_emb = get_sentence_vectors(df_test['Headline']+\" \\\\\\ \"+ df_test['Content'])\n"
   ]
  },
  {
   "cell_type": "code",
   "execution_count": 12,
   "id": "80956eff",
   "metadata": {
    "execution": {
     "iopub.execute_input": "2024-06-02T16:13:33.194222Z",
     "iopub.status.busy": "2024-06-02T16:13:33.193094Z",
     "iopub.status.idle": "2024-06-02T16:13:46.367225Z",
     "shell.execute_reply": "2024-06-02T16:13:46.366165Z"
    },
    "papermill": {
     "duration": 13.191706,
     "end_time": "2024-06-02T16:13:46.369649",
     "exception": false,
     "start_time": "2024-06-02T16:13:33.177943",
     "status": "completed"
    },
    "tags": []
   },
   "outputs": [
    {
     "name": "stderr",
     "output_type": "stream",
     "text": [
      "2024-06-02 16:13:35.259068: E external/local_xla/xla/stream_executor/cuda/cuda_dnn.cc:9261] Unable to register cuDNN factory: Attempting to register factory for plugin cuDNN when one has already been registered\n",
      "2024-06-02 16:13:35.259268: E external/local_xla/xla/stream_executor/cuda/cuda_fft.cc:607] Unable to register cuFFT factory: Attempting to register factory for plugin cuFFT when one has already been registered\n",
      "2024-06-02 16:13:35.401834: E external/local_xla/xla/stream_executor/cuda/cuda_blas.cc:1515] Unable to register cuBLAS factory: Attempting to register factory for plugin cuBLAS when one has already been registered\n"
     ]
    },
    {
     "name": "stdout",
     "output_type": "stream",
     "text": [
      "Shape of X_train_word: (49264, 778980)\n",
      "Type of X_train_word: <class 'scipy.sparse._csr.csr_matrix'>\n",
      "Shape of X_train_char: (49264, 882022)\n",
      "Type of X_train_char: <class 'scipy.sparse._csr.csr_matrix'>\n",
      "Shape of X_train_emb: (49264, 300)\n",
      "Type of X_train_emb: <class 'numpy.ndarray'>\n",
      "Validation Data:\n",
      "Shape of X_val_word: (12317, 778980)\n",
      "Type of X_val_word: <class 'scipy.sparse._csr.csr_matrix'>\n",
      "Shape of X_val_char: (12317, 882022)\n",
      "Type of X_val_char: <class 'scipy.sparse._csr.csr_matrix'>\n",
      "Shape of X_val_emb: (12317, 300)\n",
      "Type of X_val_emb: <class 'numpy.ndarray'>\n",
      "\n",
      "Test Data:\n",
      "Shape of X_test_word: (920, 778980)\n",
      "Type of X_test_word: <class 'scipy.sparse._csr.csr_matrix'>\n",
      "Shape of X_test_char: (920, 882022)\n",
      "Type of X_test_char: <class 'scipy.sparse._csr.csr_matrix'>\n",
      "Shape of X_test_emb: (920, 300)\n",
      "Type of X_test_emb: <class 'numpy.ndarray'>\n"
     ]
    }
   ],
   "source": [
    "import tensorflow as tf\n",
    "\n",
    "# Assuming X_train_word is already defined\n",
    "print(\"Shape of X_train_word:\", X_train_word.shape)\n",
    "print(\"Type of X_train_word:\", type(X_train_word))\n",
    "import tensorflow as tf\n",
    "\n",
    "# Assuming X_train_char is already defined\n",
    "print(\"Shape of X_train_char:\", X_train_char.shape)\n",
    "print(\"Type of X_train_char:\", type(X_train_char))\n",
    "# Assuming X_train_emb is already defined\n",
    "print(\"Shape of X_train_emb:\", X_train_emb.shape)\n",
    "print(\"Type of X_train_emb:\", type(X_train_emb))\n",
    "\n",
    "# Assuming X_val_word, X_val_char, X_val_emb, X_test_word, X_test_char, X_test_emb are defined\n",
    "\n",
    "# For validation data\n",
    "print(\"Validation Data:\")\n",
    "print(\"Shape of X_val_word:\", X_val_word.shape)\n",
    "print(\"Type of X_val_word:\", type(X_val_word))\n",
    "\n",
    "print(\"Shape of X_val_char:\", X_val_char.shape)\n",
    "print(\"Type of X_val_char:\", type(X_val_char))\n",
    "\n",
    "print(\"Shape of X_val_emb:\", X_val_emb.shape)\n",
    "print(\"Type of X_val_emb:\", type(X_val_emb))\n",
    "\n",
    "# For test data\n",
    "print(\"\\nTest Data:\")\n",
    "print(\"Shape of X_test_word:\", X_test_word.shape)\n",
    "print(\"Type of X_test_word:\", type(X_test_word))\n",
    "\n",
    "print(\"Shape of X_test_char:\", X_test_char.shape)\n",
    "print(\"Type of X_test_char:\", type(X_test_char))\n",
    "\n",
    "print(\"Shape of X_test_emb:\", X_test_emb.shape)\n",
    "print(\"Type of X_test_emb:\", type(X_test_emb))\n",
    "\n"
   ]
  },
  {
   "cell_type": "code",
   "execution_count": 13,
   "id": "8ac775a2",
   "metadata": {
    "execution": {
     "iopub.execute_input": "2024-06-02T16:13:46.401266Z",
     "iopub.status.busy": "2024-06-02T16:13:46.400533Z",
     "iopub.status.idle": "2024-06-02T16:13:54.440814Z",
     "shell.execute_reply": "2024-06-02T16:13:54.435829Z"
    },
    "id": "ONNYgTdB_nlD",
    "papermill": {
     "duration": 8.066125,
     "end_time": "2024-06-02T16:13:54.450885",
     "exception": false,
     "start_time": "2024-06-02T16:13:46.384760",
     "status": "completed"
    },
    "tags": []
   },
   "outputs": [
    {
     "name": "stdout",
     "output_type": "stream",
     "text": [
      "(49264, 1661302)\n",
      "(12317, 1661302)\n",
      "(920, 1661302)\n"
     ]
    }
   ],
   "source": [
    "#final_train_set\n",
    "\n",
    "X_train = sparse.hstack([X_train_char, X_train_word, X_train_emb])\n",
    "X_val = sparse.hstack([X_val_char, X_val_word, X_val_emb])\n",
    "X_test = sparse.hstack([X_test_char, X_test_word, X_test_emb])\n",
    "print(X_train.shape)\n",
    "print(X_val.shape)\n",
    "print(X_test.shape)"
   ]
  },
  {
   "cell_type": "code",
   "execution_count": 14,
   "id": "6e5c0333",
   "metadata": {
    "execution": {
     "iopub.execute_input": "2024-06-02T16:13:54.571631Z",
     "iopub.status.busy": "2024-06-02T16:13:54.569932Z",
     "iopub.status.idle": "2024-06-02T16:13:54.592513Z",
     "shell.execute_reply": "2024-06-02T16:13:54.587909Z"
    },
    "id": "FkEc0D_p98tj",
    "papermill": {
     "duration": 0.089961,
     "end_time": "2024-06-02T16:13:54.599613",
     "exception": false,
     "start_time": "2024-06-02T16:13:54.509652",
     "status": "completed"
    },
    "tags": []
   },
   "outputs": [],
   "source": [
    "#y_set\n",
    "\n",
    "y_train = df_train['Label']\n",
    "y_val = df_val['Label']\n",
    "y_test = df_test['Label']"
   ]
  },
  {
   "cell_type": "code",
   "execution_count": 15,
   "id": "b00abf37",
   "metadata": {
    "execution": {
     "iopub.execute_input": "2024-06-02T16:13:54.694177Z",
     "iopub.status.busy": "2024-06-02T16:13:54.692678Z",
     "iopub.status.idle": "2024-06-02T16:13:54.706462Z",
     "shell.execute_reply": "2024-06-02T16:13:54.703212Z"
    },
    "id": "rF01MHWy_TB-",
    "papermill": {
     "duration": 0.07034,
     "end_time": "2024-06-02T16:13:54.713341",
     "exception": false,
     "start_time": "2024-06-02T16:13:54.643001",
     "status": "completed"
    },
    "tags": []
   },
   "outputs": [],
   "source": [
    "#define param_grid\n",
    "\n",
    "param_grid = {\n",
    "    'C': [1],\n",
    "    'degree': [3],\n",
    "}\n",
    "\n",
    "best_f1_score = 0\n",
    "best_params = None\n",
    "best_model = None"
   ]
  },
  {
   "cell_type": "code",
   "execution_count": 16,
   "id": "2f7e1e25",
   "metadata": {
    "execution": {
     "iopub.execute_input": "2024-06-02T16:13:54.827917Z",
     "iopub.status.busy": "2024-06-02T16:13:54.826955Z",
     "iopub.status.idle": "2024-06-03T00:00:46.683116Z",
     "shell.execute_reply": "2024-06-03T00:00:46.679234Z"
    },
    "id": "evx7X7lD_kZr",
    "papermill": {
     "duration": 28011.932933,
     "end_time": "2024-06-03T00:00:46.701921",
     "exception": false,
     "start_time": "2024-06-02T16:13:54.768988",
     "status": "completed"
    },
    "tags": []
   },
   "outputs": [
    {
     "name": "stdout",
     "output_type": "stream",
     "text": [
      "Best Parameters: {'C': 1, 'degree': 3}\n"
     ]
    }
   ],
   "source": [
    "#Find best model\n",
    "from sklearn.svm import SVC\n",
    "\n",
    "for C in param_grid['C']:\n",
    "    for kernel in param_grid['degree']:\n",
    "        # Initialize SVM model\n",
    "        svm_model = SVC(kernel='linear', C=C, cache_size=7000, degree=kernel)\n",
    "\n",
    "        # Train SVM model\n",
    "        svm_model.fit(X_train, y_train)\n",
    "\n",
    "        # Predictions on validation set\n",
    "        val_predictions = svm_model.predict(X_val)\n",
    "\n",
    "        # Calculate F1 score\n",
    "        f1 = f1_score(y_val, val_predictions, average='macro')\n",
    "\n",
    "        # Update best parameters if current F1 score is higher\n",
    "        if f1 > best_f1_score:\n",
    "            best_f1_score = f1\n",
    "            best_params = {'C': C, 'degree': kernel}\n",
    "            best_model = svm_model\n",
    "\n",
    "print(\"Best Parameters:\", best_params)"
   ]
  },
  {
   "cell_type": "code",
   "execution_count": 17,
   "id": "152bab04",
   "metadata": {
    "execution": {
     "iopub.execute_input": "2024-06-03T00:00:46.737200Z",
     "iopub.status.busy": "2024-06-03T00:00:46.736506Z",
     "iopub.status.idle": "2024-06-03T00:00:46.748902Z",
     "shell.execute_reply": "2024-06-03T00:00:46.747773Z"
    },
    "id": "mNca5PqzAWrS",
    "papermill": {
     "duration": 0.03441,
     "end_time": "2024-06-03T00:00:46.751718",
     "exception": false,
     "start_time": "2024-06-03T00:00:46.717308",
     "status": "completed"
    },
    "tags": []
   },
   "outputs": [],
   "source": [
    "#train model\n",
    "# best_model.fit(X_train, y_train)"
   ]
  },
  {
   "cell_type": "code",
   "execution_count": 18,
   "id": "af380512",
   "metadata": {
    "execution": {
     "iopub.execute_input": "2024-06-03T00:00:46.783434Z",
     "iopub.status.busy": "2024-06-03T00:00:46.782963Z",
     "iopub.status.idle": "2024-06-03T00:07:59.883165Z",
     "shell.execute_reply": "2024-06-03T00:07:59.881850Z"
    },
    "id": "Q2FE9YkbAehA",
    "papermill": {
     "duration": 433.119611,
     "end_time": "2024-06-03T00:07:59.886278",
     "exception": false,
     "start_time": "2024-06-03T00:00:46.766667",
     "status": "completed"
    },
    "tags": []
   },
   "outputs": [],
   "source": [
    "#test model\n",
    "test_predictions = best_model.predict(X_test)"
   ]
  },
  {
   "cell_type": "code",
   "execution_count": 19,
   "id": "e04efd3c",
   "metadata": {
    "execution": {
     "iopub.execute_input": "2024-06-03T00:07:59.918791Z",
     "iopub.status.busy": "2024-06-03T00:07:59.918323Z",
     "iopub.status.idle": "2024-06-03T00:07:59.937403Z",
     "shell.execute_reply": "2024-06-03T00:07:59.936141Z"
    },
    "id": "Fm5J2XadBJPR",
    "papermill": {
     "duration": 0.038028,
     "end_time": "2024-06-03T00:07:59.940164",
     "exception": false,
     "start_time": "2024-06-03T00:07:59.902136",
     "status": "completed"
    },
    "tags": []
   },
   "outputs": [
    {
     "name": "stdout",
     "output_type": "stream",
     "text": [
      "Test Set:\n",
      "              precision    recall  f1-score   support\n",
      "\n",
      "           0    0.86914   0.96739   0.91564       460\n",
      "           1    0.96324   0.85435   0.90553       460\n",
      "\n",
      "    accuracy                        0.91087       920\n",
      "   macro avg    0.91619   0.91087   0.91058       920\n",
      "weighted avg    0.91619   0.91087   0.91058       920\n",
      "\n"
     ]
    }
   ],
   "source": [
    "#get results\n",
    "print(\"Test Set:\")\n",
    "print(classification_report(y_test, test_predictions, digits=5))"
   ]
  },
  {
   "cell_type": "code",
   "execution_count": null,
   "id": "616d069f",
   "metadata": {
    "papermill": {
     "duration": 0.014313,
     "end_time": "2024-06-03T00:07:59.969031",
     "exception": false,
     "start_time": "2024-06-03T00:07:59.954718",
     "status": "completed"
    },
    "tags": []
   },
   "outputs": [],
   "source": []
  },
  {
   "cell_type": "code",
   "execution_count": null,
   "id": "ac59fac9",
   "metadata": {
    "papermill": {
     "duration": 0.014221,
     "end_time": "2024-06-03T00:07:59.997931",
     "exception": false,
     "start_time": "2024-06-03T00:07:59.983710",
     "status": "completed"
    },
    "tags": []
   },
   "outputs": [],
   "source": []
  }
 ],
 "metadata": {
  "accelerator": "GPU",
  "colab": {
   "gpuType": "T4",
   "provenance": []
  },
  "kaggle": {
   "accelerator": "none",
   "dataSources": [
    {
     "datasetId": 3872710,
     "sourceId": 6721982,
     "sourceType": "datasetVersion"
    },
    {
     "datasetId": 5057190,
     "sourceId": 8514897,
     "sourceType": "datasetVersion"
    }
   ],
   "isGpuEnabled": false,
   "isInternetEnabled": true,
   "language": "python",
   "sourceType": "notebook"
  },
  "kernelspec": {
   "display_name": "Python 3",
   "language": "python",
   "name": "python3"
  },
  "language_info": {
   "codemirror_mode": {
    "name": "ipython",
    "version": 3
   },
   "file_extension": ".py",
   "mimetype": "text/x-python",
   "name": "python",
   "nbconvert_exporter": "python",
   "pygments_lexer": "ipython3",
   "version": "3.10.13"
  },
  "papermill": {
   "default_parameters": {},
   "duration": 31055.895628,
   "end_time": "2024-06-03T00:08:02.815198",
   "environment_variables": {},
   "exception": null,
   "input_path": "__notebook__.ipynb",
   "output_path": "__notebook__.ipynb",
   "parameters": {},
   "start_time": "2024-06-02T15:30:26.919570",
   "version": "2.5.0"
  }
 },
 "nbformat": 4,
 "nbformat_minor": 5
}
