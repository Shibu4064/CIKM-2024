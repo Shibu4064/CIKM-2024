{
 "cells": [
  {
   "cell_type": "code",
   "execution_count": 1,
   "id": "985e7985",
   "metadata": {
    "execution": {
     "iopub.execute_input": "2024-06-02T06:41:43.066844Z",
     "iopub.status.busy": "2024-06-02T06:41:43.066228Z",
     "iopub.status.idle": "2024-06-02T06:41:46.220230Z",
     "shell.execute_reply": "2024-06-02T06:41:46.219008Z"
    },
    "id": "MgxGHrEJ0ert",
    "papermill": {
     "duration": 3.168037,
     "end_time": "2024-06-02T06:41:46.223254",
     "exception": false,
     "start_time": "2024-06-02T06:41:43.055217",
     "status": "completed"
    },
    "tags": []
   },
   "outputs": [],
   "source": [
    "#all imports\n",
    "import pandas as pd\n",
    "import re\n",
    "from nltk.util import ngrams\n",
    "from sklearn.feature_extraction.text import TfidfVectorizer\n",
    "from sklearn import metrics\n",
    "from sklearn import svm\n",
    "from scipy import sparse, hstack\n",
    "import string\n",
    "import numpy as np\n",
    "from sklearn.metrics import classification_report\n",
    "from sklearn.metrics import f1_score"
   ]
  },
  {
   "cell_type": "code",
   "execution_count": 2,
   "id": "568b2825",
   "metadata": {
    "execution": {
     "iopub.execute_input": "2024-06-02T06:41:46.242432Z",
     "iopub.status.busy": "2024-06-02T06:41:46.241834Z",
     "iopub.status.idle": "2024-06-02T06:41:54.146426Z",
     "shell.execute_reply": "2024-06-02T06:41:54.145021Z"
    },
    "id": "LtgSWhwn3e7Y",
    "outputId": "b9cc0b9a-6845-4985-ba40-49d54eeed482",
    "papermill": {
     "duration": 7.918538,
     "end_time": "2024-06-02T06:41:54.149424",
     "exception": false,
     "start_time": "2024-06-02T06:41:46.230886",
     "status": "completed"
    },
    "tags": []
   },
   "outputs": [],
   "source": [
    "#load data\n",
    "df_train = pd.read_csv(\"/kaggle/input/banglafakenews/train.csv\")[[\"Headline\", \"Content\", \"Label\"]]\n",
    "df_val = pd.read_csv(\"/kaggle/input/banglafakenews/val.csv\")[[\"Headline\", \"Content\", \"Label\"]]\n",
    "df_test = pd.read_csv(\"/kaggle/input/banglafakenews/test.csv\")[[\"Headline\", \"Content\", \"Label\"]]"
   ]
  },
  {
   "cell_type": "code",
   "execution_count": 3,
   "id": "acfd0dd0",
   "metadata": {
    "execution": {
     "iopub.execute_input": "2024-06-02T06:41:54.166812Z",
     "iopub.status.busy": "2024-06-02T06:41:54.166350Z",
     "iopub.status.idle": "2024-06-02T06:41:54.174385Z",
     "shell.execute_reply": "2024-06-02T06:41:54.173199Z"
    },
    "id": "gfGkvR645Bzz",
    "papermill": {
     "duration": 0.019779,
     "end_time": "2024-06-02T06:41:54.177008",
     "exception": false,
     "start_time": "2024-06-02T06:41:54.157229",
     "status": "completed"
    },
    "tags": []
   },
   "outputs": [],
   "source": [
    "def tokenizer(doc):\n",
    "    puncList = [\"।\", \"”\", \"“\", \"’\"]\n",
    "    for p in string.punctuation.lstrip():\n",
    "        puncList.append(p)\n",
    "    # remove punctuation\n",
    "    tokens = []\n",
    "    def cleanword(word):\n",
    "        for p in puncList:\n",
    "            word = word.replace(p, \"\")\n",
    "        word = re.sub(r'[\\u09E6-\\u09EF]', \"\", word, re.DEBUG)  # replace digits\n",
    "\n",
    "        return word\n",
    "\n",
    "    for word in doc.split(\" \"):\n",
    "        word = cleanword(word)\n",
    "        if word != \"\":\n",
    "            tokens.append(word)\n",
    "\n",
    "    return tokens"
   ]
  },
  {
   "cell_type": "code",
   "execution_count": 4,
   "id": "f3be9040",
   "metadata": {
    "execution": {
     "iopub.execute_input": "2024-06-02T06:41:54.194598Z",
     "iopub.status.busy": "2024-06-02T06:41:54.193289Z",
     "iopub.status.idle": "2024-06-02T06:41:54.200214Z",
     "shell.execute_reply": "2024-06-02T06:41:54.199346Z"
    },
    "id": "MWv1athZ4RSu",
    "papermill": {
     "duration": 0.018737,
     "end_time": "2024-06-02T06:41:54.203302",
     "exception": false,
     "start_time": "2024-06-02T06:41:54.184565",
     "status": "completed"
    },
    "tags": []
   },
   "outputs": [],
   "source": [
    "def tfidf_charF(X, X_ret, a, b, save_model=False):\n",
    "\n",
    "    tfidf_char = TfidfVectorizer(sublinear_tf=True, min_df=5, norm='l2', ngram_range=(a, b),\n",
    "                                 decode_error='replace', encoding='utf-8', analyzer='char')\n",
    "\n",
    "    tfidf_char.fit(X.values.astype('U'))\n",
    "    x_char = tfidf_char.transform(X_ret.values.astype('U'))\n",
    "    return x_char"
   ]
  },
  {
   "cell_type": "code",
   "execution_count": 5,
   "id": "607da650",
   "metadata": {
    "execution": {
     "iopub.execute_input": "2024-06-02T06:41:54.220644Z",
     "iopub.status.busy": "2024-06-02T06:41:54.219375Z",
     "iopub.status.idle": "2024-06-02T06:41:54.226321Z",
     "shell.execute_reply": "2024-06-02T06:41:54.225368Z"
    },
    "id": "6-eSApeD4aUn",
    "papermill": {
     "duration": 0.017914,
     "end_time": "2024-06-02T06:41:54.228696",
     "exception": false,
     "start_time": "2024-06-02T06:41:54.210782",
     "status": "completed"
    },
    "tags": []
   },
   "outputs": [],
   "source": [
    "def tfidf_wordF(X, X_ret, a, b):\n",
    "\n",
    "    tfidf_word = TfidfVectorizer(sublinear_tf=True, min_df=5, norm='l2', ngram_range=(a, b),\n",
    "                                 decode_error='replace', encoding='utf-8', analyzer='word', tokenizer=tokenizer)\n",
    "\n",
    "    tfidf_word.fit(X.values.astype('U'))\n",
    "    x_word = tfidf_word.transform(X_ret.values.astype('U'))\n",
    "    return x_word"
   ]
  },
  {
   "cell_type": "code",
   "execution_count": 6,
   "id": "80bf7f0a",
   "metadata": {
    "execution": {
     "iopub.execute_input": "2024-06-02T06:41:54.245813Z",
     "iopub.status.busy": "2024-06-02T06:41:54.244664Z",
     "iopub.status.idle": "2024-06-02T06:43:13.323846Z",
     "shell.execute_reply": "2024-06-02T06:43:13.322543Z"
    },
    "id": "r7AwX9FZ6Oy3",
    "outputId": "4b51af41-6fd9-4411-dff2-1a3df8d594a3",
    "papermill": {
     "duration": 79.090611,
     "end_time": "2024-06-02T06:43:13.326684",
     "exception": false,
     "start_time": "2024-06-02T06:41:54.236073",
     "status": "completed"
    },
    "tags": []
   },
   "outputs": [
    {
     "name": "stdout",
     "output_type": "stream",
     "text": [
      "--2024-06-02 06:41:55--  https://dl.fbaipublicfiles.com/fasttext/vectors-crawl/cc.bn.300.bin.gz\r\n",
      "Resolving dl.fbaipublicfiles.com (dl.fbaipublicfiles.com)... 13.227.219.59, 13.227.219.70, 13.227.219.33, ...\r\n",
      "Connecting to dl.fbaipublicfiles.com (dl.fbaipublicfiles.com)|13.227.219.59|:443... connected.\r\n",
      "HTTP request sent, awaiting response... 200 OK\r\n",
      "Length: 3934298272 (3.7G) [application/octet-stream]\r\n",
      "Saving to: 'cc.bn.300.bin.gz'\r\n",
      "\r\n",
      "cc.bn.300.bin.gz    100%[===================>]   3.66G   220MB/s    in 16s     \r\n",
      "\r\n",
      "2024-06-02 06:42:11 (229 MB/s) - 'cc.bn.300.bin.gz' saved [3934298272/3934298272]\r\n",
      "\r\n"
     ]
    }
   ],
   "source": [
    "#load fasttext\n",
    "!wget https://dl.fbaipublicfiles.com/fasttext/vectors-crawl/cc.bn.300.bin.gz\n",
    "# !pip install fasttext\n",
    "!gunzip /kaggle/working/cc.bn.300.bin.gz"
   ]
  },
  {
   "cell_type": "code",
   "execution_count": 7,
   "id": "bff2fb13",
   "metadata": {
    "execution": {
     "iopub.execute_input": "2024-06-02T06:43:13.360366Z",
     "iopub.status.busy": "2024-06-02T06:43:13.359899Z",
     "iopub.status.idle": "2024-06-02T06:43:23.497970Z",
     "shell.execute_reply": "2024-06-02T06:43:23.496606Z"
    },
    "id": "BjUgy6GXMJsZ",
    "outputId": "902f7dc9-d538-44c9-d3f9-396b3ab4b10d",
    "papermill": {
     "duration": 10.158262,
     "end_time": "2024-06-02T06:43:23.500953",
     "exception": false,
     "start_time": "2024-06-02T06:43:13.342691",
     "status": "completed"
    },
    "tags": []
   },
   "outputs": [
    {
     "name": "stderr",
     "output_type": "stream",
     "text": [
      "Warning : `load_model` does not return WordVectorModel or SupervisedModel any more, but a `FastText` object which is very similar.\n"
     ]
    }
   ],
   "source": [
    "import fasttext\n",
    "import fasttext.util\n",
    "ft = fasttext.load_model('/kaggle/working/cc.bn.300.bin')"
   ]
  },
  {
   "cell_type": "code",
   "execution_count": 8,
   "id": "1a12bc0a",
   "metadata": {
    "execution": {
     "iopub.execute_input": "2024-06-02T06:43:23.534287Z",
     "iopub.status.busy": "2024-06-02T06:43:23.533883Z",
     "iopub.status.idle": "2024-06-02T06:43:23.541791Z",
     "shell.execute_reply": "2024-06-02T06:43:23.540500Z"
    },
    "id": "_E1biVqu5-JT",
    "papermill": {
     "duration": 0.027342,
     "end_time": "2024-06-02T06:43:23.544228",
     "exception": false,
     "start_time": "2024-06-02T06:43:23.516886",
     "status": "completed"
    },
    "tags": []
   },
   "outputs": [],
   "source": [
    "from scipy import sparse\n",
    "def get_sentence_vectors(texts):\n",
    "    vectors = []\n",
    "    for text in texts:\n",
    "        words = text.split()  # Split text into words\n",
    "        word_vectors = [ft.get_word_vector(word) for word in words]  # Get word vectors for each word\n",
    "        if word_vectors:  # If there are words in the text\n",
    "            sentence_vector = np.mean(word_vectors, axis=0)  # Calculate mean of word vectors\n",
    "        else:  # If no words found\n",
    "            sentence_vector = np.zeros(ft.get_dimension())  # Use zero vector\n",
    "        vectors.append(sentence_vector)\n",
    "#     df = pd.DataFrame(vectors)\n",
    "#     df = df.fillna(0)\n",
    "    return np.array(vectors)\n",
    "#     return sparse.csr.csr_matrix(df.values)"
   ]
  },
  {
   "cell_type": "code",
   "execution_count": 9,
   "id": "f5d0e0cd",
   "metadata": {
    "execution": {
     "iopub.execute_input": "2024-06-02T06:43:23.584968Z",
     "iopub.status.busy": "2024-06-02T06:43:23.584284Z",
     "iopub.status.idle": "2024-06-02T07:06:10.913478Z",
     "shell.execute_reply": "2024-06-02T07:06:10.910314Z"
    },
    "id": "4bdbU9H_6i4d",
    "papermill": {
     "duration": 1367.361178,
     "end_time": "2024-06-02T07:06:10.922096",
     "exception": false,
     "start_time": "2024-06-02T06:43:23.560918",
     "status": "completed"
    },
    "tags": []
   },
   "outputs": [],
   "source": [
    "# Get sentence vectors tfidf_charF\n",
    "\n",
    "X_train_char = tfidf_charF(df_train['Headline']+\" \\\\\\ \"+ df_train['Content'], df_train['Headline']+\" \\\\\\ \"+ df_train['Content'], 3, 5)\n",
    "\n",
    "X_val_char = tfidf_charF(df_train['Headline']+\" \\\\\\ \"+ df_train['Content'], df_val['Headline']+\" \\\\\\ \"+ df_val['Content'], 3, 5)\n",
    "\n",
    "X_test_char = tfidf_charF(df_train['Headline']+\" \\\\\\ \"+ df_train['Content'], df_test['Headline']+\" \\\\\\ \"+ df_test['Content'], 3, 5)"
   ]
  },
  {
   "cell_type": "code",
   "execution_count": 10,
   "id": "7b78ceeb",
   "metadata": {
    "execution": {
     "iopub.execute_input": "2024-06-02T07:06:10.965418Z",
     "iopub.status.busy": "2024-06-02T07:06:10.964917Z",
     "iopub.status.idle": "2024-06-02T07:20:34.276385Z",
     "shell.execute_reply": "2024-06-02T07:20:34.274656Z"
    },
    "id": "ejR2o4qZ6rJG",
    "papermill": {
     "duration": 863.33432,
     "end_time": "2024-06-02T07:20:34.280083",
     "exception": false,
     "start_time": "2024-06-02T07:06:10.945763",
     "status": "completed"
    },
    "tags": []
   },
   "outputs": [
    {
     "name": "stderr",
     "output_type": "stream",
     "text": [
      "/opt/conda/lib/python3.10/site-packages/sklearn/feature_extraction/text.py:528: UserWarning: The parameter 'token_pattern' will not be used since 'tokenizer' is not None'\n",
      "  warnings.warn(\n"
     ]
    }
   ],
   "source": [
    "# Get sentence vectors tfidf_wordF\n",
    "\n",
    "X_train_word = tfidf_wordF(df_train['Headline']+\" \\\\\\ \"+ df_train['Content'], df_train['Headline']+\" \\\\\\ \"+ df_train['Content'], 1, 3)\n",
    "\n",
    "X_val_word = tfidf_wordF(df_train['Headline']+\" \\\\\\ \"+ df_train['Content'], df_val['Headline']+\" \\\\\\ \"+ df_val['Content'], 1, 3)\n",
    "\n",
    "X_test_word = tfidf_wordF(df_train['Headline']+\" \\\\\\ \"+ df_train['Content'], df_test['Headline']+\" \\\\\\ \"+ df_test['Content'], 1, 3)"
   ]
  },
  {
   "cell_type": "code",
   "execution_count": 11,
   "id": "d8fc066f",
   "metadata": {
    "execution": {
     "iopub.execute_input": "2024-06-02T07:20:34.314339Z",
     "iopub.status.busy": "2024-06-02T07:20:34.313937Z",
     "iopub.status.idle": "2024-06-02T07:25:07.835570Z",
     "shell.execute_reply": "2024-06-02T07:25:07.833941Z"
    },
    "id": "XvQMNb6b547v",
    "papermill": {
     "duration": 273.542423,
     "end_time": "2024-06-02T07:25:07.839086",
     "exception": false,
     "start_time": "2024-06-02T07:20:34.296663",
     "status": "completed"
    },
    "tags": []
   },
   "outputs": [],
   "source": [
    "# Get sentence vectors embedding\n",
    "\n",
    "X_train_emb = get_sentence_vectors(df_train['Headline']+\" \\\\\\ \"+ df_train['Content'])\n",
    "\n",
    "X_val_emb = get_sentence_vectors(df_val['Headline']+\" \\\\\\ \"+ df_val['Content'])\n",
    "\n",
    "X_test_emb = get_sentence_vectors(df_test['Headline']+\" \\\\\\ \"+ df_test['Content'])\n"
   ]
  },
  {
   "cell_type": "code",
   "execution_count": 12,
   "id": "b80a0080",
   "metadata": {
    "execution": {
     "iopub.execute_input": "2024-06-02T07:25:07.876087Z",
     "iopub.status.busy": "2024-06-02T07:25:07.875600Z",
     "iopub.status.idle": "2024-06-02T07:25:23.775979Z",
     "shell.execute_reply": "2024-06-02T07:25:23.774571Z"
    },
    "papermill": {
     "duration": 15.922884,
     "end_time": "2024-06-02T07:25:23.779038",
     "exception": false,
     "start_time": "2024-06-02T07:25:07.856154",
     "status": "completed"
    },
    "tags": []
   },
   "outputs": [
    {
     "name": "stderr",
     "output_type": "stream",
     "text": [
      "2024-06-02 07:25:10.584884: E external/local_xla/xla/stream_executor/cuda/cuda_dnn.cc:9261] Unable to register cuDNN factory: Attempting to register factory for plugin cuDNN when one has already been registered\n",
      "2024-06-02 07:25:10.585166: E external/local_xla/xla/stream_executor/cuda/cuda_fft.cc:607] Unable to register cuFFT factory: Attempting to register factory for plugin cuFFT when one has already been registered\n",
      "2024-06-02 07:25:10.756436: E external/local_xla/xla/stream_executor/cuda/cuda_blas.cc:1515] Unable to register cuBLAS factory: Attempting to register factory for plugin cuBLAS when one has already been registered\n"
     ]
    },
    {
     "name": "stdout",
     "output_type": "stream",
     "text": [
      "Shape of X_train_word: (43106, 661914)\n",
      "Type of X_train_word: <class 'scipy.sparse._csr.csr_matrix'>\n",
      "Shape of X_train_char: (43106, 825990)\n",
      "Type of X_train_char: <class 'scipy.sparse._csr.csr_matrix'>\n",
      "Shape of X_train_emb: (43106, 300)\n",
      "Type of X_train_emb: <class 'numpy.ndarray'>\n",
      "Validation Data:\n",
      "Shape of X_val_word: (9237, 661914)\n",
      "Type of X_val_word: <class 'scipy.sparse._csr.csr_matrix'>\n",
      "Shape of X_val_char: (9237, 825990)\n",
      "Type of X_val_char: <class 'scipy.sparse._csr.csr_matrix'>\n",
      "Shape of X_val_emb: (9237, 300)\n",
      "Type of X_val_emb: <class 'numpy.ndarray'>\n",
      "\n",
      "Test Data:\n",
      "Shape of X_test_word: (9238, 661914)\n",
      "Type of X_test_word: <class 'scipy.sparse._csr.csr_matrix'>\n",
      "Shape of X_test_char: (9238, 825990)\n",
      "Type of X_test_char: <class 'scipy.sparse._csr.csr_matrix'>\n",
      "Shape of X_test_emb: (9238, 300)\n",
      "Type of X_test_emb: <class 'numpy.ndarray'>\n"
     ]
    }
   ],
   "source": [
    "import tensorflow as tf\n",
    "\n",
    "# Assuming X_train_word is already defined\n",
    "print(\"Shape of X_train_word:\", X_train_word.shape)\n",
    "print(\"Type of X_train_word:\", type(X_train_word))\n",
    "import tensorflow as tf\n",
    "\n",
    "# Assuming X_train_char is already defined\n",
    "print(\"Shape of X_train_char:\", X_train_char.shape)\n",
    "print(\"Type of X_train_char:\", type(X_train_char))\n",
    "# Assuming X_train_emb is already defined\n",
    "print(\"Shape of X_train_emb:\", X_train_emb.shape)\n",
    "print(\"Type of X_train_emb:\", type(X_train_emb))\n",
    "\n",
    "# Assuming X_val_word, X_val_char, X_val_emb, X_test_word, X_test_char, X_test_emb are defined\n",
    "\n",
    "# For validation data\n",
    "print(\"Validation Data:\")\n",
    "print(\"Shape of X_val_word:\", X_val_word.shape)\n",
    "print(\"Type of X_val_word:\", type(X_val_word))\n",
    "\n",
    "print(\"Shape of X_val_char:\", X_val_char.shape)\n",
    "print(\"Type of X_val_char:\", type(X_val_char))\n",
    "\n",
    "print(\"Shape of X_val_emb:\", X_val_emb.shape)\n",
    "print(\"Type of X_val_emb:\", type(X_val_emb))\n",
    "\n",
    "# For test data\n",
    "print(\"\\nTest Data:\")\n",
    "print(\"Shape of X_test_word:\", X_test_word.shape)\n",
    "print(\"Type of X_test_word:\", type(X_test_word))\n",
    "\n",
    "print(\"Shape of X_test_char:\", X_test_char.shape)\n",
    "print(\"Type of X_test_char:\", type(X_test_char))\n",
    "\n",
    "print(\"Shape of X_test_emb:\", X_test_emb.shape)\n",
    "print(\"Type of X_test_emb:\", type(X_test_emb))\n",
    "\n"
   ]
  },
  {
   "cell_type": "code",
   "execution_count": 13,
   "id": "ec196d60",
   "metadata": {
    "execution": {
     "iopub.execute_input": "2024-06-02T07:25:23.815615Z",
     "iopub.status.busy": "2024-06-02T07:25:23.814225Z",
     "iopub.status.idle": "2024-06-02T07:25:29.758193Z",
     "shell.execute_reply": "2024-06-02T07:25:29.756829Z"
    },
    "id": "ONNYgTdB_nlD",
    "papermill": {
     "duration": 5.965134,
     "end_time": "2024-06-02T07:25:29.760742",
     "exception": false,
     "start_time": "2024-06-02T07:25:23.795608",
     "status": "completed"
    },
    "tags": []
   },
   "outputs": [
    {
     "name": "stdout",
     "output_type": "stream",
     "text": [
      "(43106, 1488204)\n",
      "(9237, 1488204)\n",
      "(9238, 1488204)\n"
     ]
    }
   ],
   "source": [
    "#final_train_set\n",
    "\n",
    "X_train = sparse.hstack([X_train_char, X_train_word, X_train_emb])\n",
    "X_val = sparse.hstack([X_val_char, X_val_word, X_val_emb])\n",
    "X_test = sparse.hstack([X_test_char, X_test_word, X_test_emb])\n",
    "print(X_train.shape)\n",
    "print(X_val.shape)\n",
    "print(X_test.shape)"
   ]
  },
  {
   "cell_type": "code",
   "execution_count": 14,
   "id": "a418f50a",
   "metadata": {
    "execution": {
     "iopub.execute_input": "2024-06-02T07:25:29.796929Z",
     "iopub.status.busy": "2024-06-02T07:25:29.796504Z",
     "iopub.status.idle": "2024-06-02T07:25:29.802334Z",
     "shell.execute_reply": "2024-06-02T07:25:29.801168Z"
    },
    "id": "FkEc0D_p98tj",
    "papermill": {
     "duration": 0.027645,
     "end_time": "2024-06-02T07:25:29.804858",
     "exception": false,
     "start_time": "2024-06-02T07:25:29.777213",
     "status": "completed"
    },
    "tags": []
   },
   "outputs": [],
   "source": [
    "#y_set\n",
    "\n",
    "y_train = df_train['Label']\n",
    "y_val = df_val['Label']\n",
    "y_test = df_test['Label']"
   ]
  },
  {
   "cell_type": "code",
   "execution_count": 15,
   "id": "2a30b0a8",
   "metadata": {
    "execution": {
     "iopub.execute_input": "2024-06-02T07:25:29.839821Z",
     "iopub.status.busy": "2024-06-02T07:25:29.839356Z",
     "iopub.status.idle": "2024-06-02T07:25:29.845586Z",
     "shell.execute_reply": "2024-06-02T07:25:29.843976Z"
    },
    "id": "rF01MHWy_TB-",
    "papermill": {
     "duration": 0.027555,
     "end_time": "2024-06-02T07:25:29.848442",
     "exception": false,
     "start_time": "2024-06-02T07:25:29.820887",
     "status": "completed"
    },
    "tags": []
   },
   "outputs": [],
   "source": [
    "#define param_grid\n",
    "\n",
    "param_grid = {\n",
    "    'C': [1],\n",
    "    'degree': [3],\n",
    "}\n",
    "\n",
    "best_f1_score = 0\n",
    "best_params = None\n",
    "best_model = None"
   ]
  },
  {
   "cell_type": "code",
   "execution_count": 16,
   "id": "bac2c8b8",
   "metadata": {
    "execution": {
     "iopub.execute_input": "2024-06-02T07:25:29.886226Z",
     "iopub.status.busy": "2024-06-02T07:25:29.885738Z",
     "iopub.status.idle": "2024-06-02T13:35:33.044438Z",
     "shell.execute_reply": "2024-06-02T13:35:33.039356Z"
    },
    "id": "evx7X7lD_kZr",
    "papermill": {
     "duration": 22203.232072,
     "end_time": "2024-06-02T13:35:33.098361",
     "exception": false,
     "start_time": "2024-06-02T07:25:29.866289",
     "status": "completed"
    },
    "tags": []
   },
   "outputs": [
    {
     "name": "stdout",
     "output_type": "stream",
     "text": [
      "Best Parameters: {'C': 1, 'degree': 3}\n"
     ]
    }
   ],
   "source": [
    "#Find best model\n",
    "from sklearn.svm import SVC\n",
    "\n",
    "for C in param_grid['C']:\n",
    "    for kernel in param_grid['degree']:\n",
    "        # Initialize SVM model\n",
    "        svm_model = SVC(kernel='linear', C=C, cache_size=7000, degree=kernel)\n",
    "\n",
    "        # Train SVM model\n",
    "        svm_model.fit(X_train, y_train)\n",
    "\n",
    "        # Predictions on validation set\n",
    "        val_predictions = svm_model.predict(X_val)\n",
    "\n",
    "        # Calculate F1 score\n",
    "        f1 = f1_score(y_val, val_predictions, average='macro')\n",
    "\n",
    "        # Update best parameters if current F1 score is higher\n",
    "        if f1 > best_f1_score:\n",
    "            best_f1_score = f1\n",
    "            best_params = {'C': C, 'degree': kernel}\n",
    "            best_model = svm_model\n",
    "\n",
    "print(\"Best Parameters:\", best_params)"
   ]
  },
  {
   "cell_type": "code",
   "execution_count": 17,
   "id": "e5441b47",
   "metadata": {
    "execution": {
     "iopub.execute_input": "2024-06-02T13:35:33.139490Z",
     "iopub.status.busy": "2024-06-02T13:35:33.138724Z",
     "iopub.status.idle": "2024-06-02T13:35:33.150396Z",
     "shell.execute_reply": "2024-06-02T13:35:33.149115Z"
    },
    "id": "mNca5PqzAWrS",
    "papermill": {
     "duration": 0.037766,
     "end_time": "2024-06-02T13:35:33.153330",
     "exception": false,
     "start_time": "2024-06-02T13:35:33.115564",
     "status": "completed"
    },
    "tags": []
   },
   "outputs": [],
   "source": [
    "#train model\n",
    "# best_model.fit(X_train, y_train)"
   ]
  },
  {
   "cell_type": "code",
   "execution_count": 18,
   "id": "ea890866",
   "metadata": {
    "execution": {
     "iopub.execute_input": "2024-06-02T13:35:33.188306Z",
     "iopub.status.busy": "2024-06-02T13:35:33.187837Z",
     "iopub.status.idle": "2024-06-02T14:37:30.815257Z",
     "shell.execute_reply": "2024-06-02T14:37:30.808978Z"
    },
    "id": "Q2FE9YkbAehA",
    "papermill": {
     "duration": 3717.663261,
     "end_time": "2024-06-02T14:37:30.833019",
     "exception": false,
     "start_time": "2024-06-02T13:35:33.169758",
     "status": "completed"
    },
    "tags": []
   },
   "outputs": [],
   "source": [
    "#test model\n",
    "test_predictions = best_model.predict(X_test)"
   ]
  },
  {
   "cell_type": "code",
   "execution_count": 19,
   "id": "4fb8a761",
   "metadata": {
    "execution": {
     "iopub.execute_input": "2024-06-02T14:37:30.880357Z",
     "iopub.status.busy": "2024-06-02T14:37:30.879482Z",
     "iopub.status.idle": "2024-06-02T14:37:30.993432Z",
     "shell.execute_reply": "2024-06-02T14:37:30.992122Z"
    },
    "id": "Fm5J2XadBJPR",
    "papermill": {
     "duration": 0.141836,
     "end_time": "2024-06-02T14:37:31.001422",
     "exception": false,
     "start_time": "2024-06-02T14:37:30.859586",
     "status": "completed"
    },
    "tags": []
   },
   "outputs": [
    {
     "name": "stdout",
     "output_type": "stream",
     "text": [
      "Test Set:\n",
      "              precision    recall  f1-score   support\n",
      "\n",
      "           0    0.85829   0.71952   0.78280      1936\n",
      "           1    0.92869   0.96850   0.94818      7302\n",
      "\n",
      "    accuracy                        0.91632      9238\n",
      "   macro avg    0.89349   0.84401   0.86549      9238\n",
      "weighted avg    0.91394   0.91632   0.91352      9238\n",
      "\n"
     ]
    }
   ],
   "source": [
    "#get results\n",
    "print(\"Test Set:\")\n",
    "print(classification_report(y_test, test_predictions, digits=5))"
   ]
  },
  {
   "cell_type": "code",
   "execution_count": null,
   "id": "d4c48621",
   "metadata": {
    "papermill": {
     "duration": 0.347082,
     "end_time": "2024-06-02T14:37:31.364907",
     "exception": false,
     "start_time": "2024-06-02T14:37:31.017825",
     "status": "completed"
    },
    "tags": []
   },
   "outputs": [],
   "source": []
  },
  {
   "cell_type": "code",
   "execution_count": null,
   "id": "2968a48f",
   "metadata": {
    "papermill": {
     "duration": 0.011257,
     "end_time": "2024-06-02T14:37:31.387784",
     "exception": false,
     "start_time": "2024-06-02T14:37:31.376527",
     "status": "completed"
    },
    "tags": []
   },
   "outputs": [],
   "source": []
  }
 ],
 "metadata": {
  "accelerator": "GPU",
  "colab": {
   "gpuType": "T4",
   "provenance": []
  },
  "kaggle": {
   "accelerator": "none",
   "dataSources": [
    {
     "datasetId": 3872710,
     "sourceId": 6721982,
     "sourceType": "datasetVersion"
    }
   ],
   "isGpuEnabled": false,
   "isInternetEnabled": true,
   "language": "python",
   "sourceType": "notebook"
  },
  "kernelspec": {
   "display_name": "Python 3",
   "language": "python",
   "name": "python3"
  },
  "language_info": {
   "codemirror_mode": {
    "name": "ipython",
    "version": 3
   },
   "file_extension": ".py",
   "mimetype": "text/x-python",
   "name": "python",
   "nbconvert_exporter": "python",
   "pygments_lexer": "ipython3",
   "version": "3.10.13"
  },
  "papermill": {
   "default_parameters": {},
   "duration": 28554.381135,
   "end_time": "2024-06-02T14:37:34.366607",
   "environment_variables": {},
   "exception": null,
   "input_path": "__notebook__.ipynb",
   "output_path": "__notebook__.ipynb",
   "parameters": {},
   "start_time": "2024-06-02T06:41:39.985472",
   "version": "2.5.0"
  }
 },
 "nbformat": 4,
 "nbformat_minor": 5
}
