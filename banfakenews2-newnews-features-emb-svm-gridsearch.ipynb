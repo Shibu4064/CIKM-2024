{
 "cells": [
  {
   "cell_type": "code",
   "execution_count": 1,
   "id": "8ffde757",
   "metadata": {
    "execution": {
     "iopub.execute_input": "2024-06-03T05:45:53.455250Z",
     "iopub.status.busy": "2024-06-03T05:45:53.454549Z",
     "iopub.status.idle": "2024-06-03T05:45:56.930338Z",
     "shell.execute_reply": "2024-06-03T05:45:56.928905Z"
    },
    "id": "MgxGHrEJ0ert",
    "papermill": {
     "duration": 3.489399,
     "end_time": "2024-06-03T05:45:56.933255",
     "exception": false,
     "start_time": "2024-06-03T05:45:53.443856",
     "status": "completed"
    },
    "tags": []
   },
   "outputs": [],
   "source": [
    "#all imports\n",
    "import pandas as pd\n",
    "import re\n",
    "from nltk.util import ngrams\n",
    "from sklearn.feature_extraction.text import TfidfVectorizer\n",
    "from sklearn import metrics\n",
    "from sklearn import svm\n",
    "from scipy import sparse, hstack\n",
    "import string\n",
    "import numpy as np\n",
    "from sklearn.metrics import classification_report\n",
    "from sklearn.metrics import f1_score\n",
    "from sklearn.model_selection import train_test_split"
   ]
  },
  {
   "cell_type": "code",
   "execution_count": 2,
   "id": "9346a372",
   "metadata": {
    "execution": {
     "iopub.execute_input": "2024-06-03T05:45:56.951162Z",
     "iopub.status.busy": "2024-06-03T05:45:56.950009Z",
     "iopub.status.idle": "2024-06-03T05:46:05.771009Z",
     "shell.execute_reply": "2024-06-03T05:46:05.769671Z"
    },
    "id": "LtgSWhwn3e7Y",
    "outputId": "b9cc0b9a-6845-4985-ba40-49d54eeed482",
    "papermill": {
     "duration": 8.832904,
     "end_time": "2024-06-03T05:46:05.773920",
     "exception": false,
     "start_time": "2024-06-03T05:45:56.941016",
     "status": "completed"
    },
    "tags": []
   },
   "outputs": [],
   "source": [
    "#load data\n",
    "df_train = pd.read_csv(\"/kaggle/input/banglafakenews/train.csv\")[[\"Headline\", \"Content\", \"Label\"]]\n",
    "df_val = pd.read_csv(\"/kaggle/input/banglafakenews/val.csv\")[[\"Headline\", \"Content\", \"Label\"]]\n",
    "df_test = pd.read_csv(\"/kaggle/input/banglafakenews/test.csv\")[[\"Headline\", \"Content\", \"Label\"]]\n",
    "\n",
    "# Concatenate the DataFrames\n",
    "combined_df = pd.concat([df_train, df_val, df_test], ignore_index=True)\n",
    "\n",
    "# Splitting the dataset into train and validation sets\n",
    "df_train, df_val = train_test_split(combined_df, test_size=0.2, stratify=combined_df['Label'])\n",
    "\n",
    "df_test = pd.read_csv(\"/kaggle/input/newnewssep2023/new_fake_real_merged.csv\")[[\"Headline\", \"Content\", \"Label\"]]"
   ]
  },
  {
   "cell_type": "code",
   "execution_count": 3,
   "id": "bcd16263",
   "metadata": {
    "execution": {
     "iopub.execute_input": "2024-06-03T05:46:05.791661Z",
     "iopub.status.busy": "2024-06-03T05:46:05.791244Z",
     "iopub.status.idle": "2024-06-03T05:46:05.799814Z",
     "shell.execute_reply": "2024-06-03T05:46:05.798335Z"
    },
    "id": "gfGkvR645Bzz",
    "papermill": {
     "duration": 0.020606,
     "end_time": "2024-06-03T05:46:05.802420",
     "exception": false,
     "start_time": "2024-06-03T05:46:05.781814",
     "status": "completed"
    },
    "tags": []
   },
   "outputs": [],
   "source": [
    "def tokenizer(doc):\n",
    "    puncList = [\"।\", \"”\", \"“\", \"’\"]\n",
    "    for p in string.punctuation.lstrip():\n",
    "        puncList.append(p)\n",
    "    # remove punctuation\n",
    "    tokens = []\n",
    "    def cleanword(word):\n",
    "        for p in puncList:\n",
    "            word = word.replace(p, \"\")\n",
    "        word = re.sub(r'[\\u09E6-\\u09EF]', \"\", word, re.DEBUG)  # replace digits\n",
    "\n",
    "        return word\n",
    "\n",
    "    for word in doc.split(\" \"):\n",
    "        word = cleanword(word)\n",
    "        if word != \"\":\n",
    "            tokens.append(word)\n",
    "\n",
    "    return tokens"
   ]
  },
  {
   "cell_type": "code",
   "execution_count": 4,
   "id": "6cb441f0",
   "metadata": {
    "execution": {
     "iopub.execute_input": "2024-06-03T05:46:05.819280Z",
     "iopub.status.busy": "2024-06-03T05:46:05.818876Z",
     "iopub.status.idle": "2024-06-03T05:46:05.827011Z",
     "shell.execute_reply": "2024-06-03T05:46:05.825435Z"
    },
    "id": "MWv1athZ4RSu",
    "papermill": {
     "duration": 0.020641,
     "end_time": "2024-06-03T05:46:05.830604",
     "exception": false,
     "start_time": "2024-06-03T05:46:05.809963",
     "status": "completed"
    },
    "tags": []
   },
   "outputs": [],
   "source": [
    "def tfidf_charF(X, X_ret, a, b, save_model=False):\n",
    "\n",
    "    tfidf_char = TfidfVectorizer(sublinear_tf=True, min_df=5, norm='l2', ngram_range=(a, b),\n",
    "                                 decode_error='replace', encoding='utf-8', analyzer='char')\n",
    "\n",
    "    tfidf_char.fit(X.values.astype('U'))\n",
    "    x_char = tfidf_char.transform(X_ret.values.astype('U'))\n",
    "    return x_char"
   ]
  },
  {
   "cell_type": "code",
   "execution_count": 5,
   "id": "3b9e3f6c",
   "metadata": {
    "execution": {
     "iopub.execute_input": "2024-06-03T05:46:05.849378Z",
     "iopub.status.busy": "2024-06-03T05:46:05.848957Z",
     "iopub.status.idle": "2024-06-03T05:46:05.855991Z",
     "shell.execute_reply": "2024-06-03T05:46:05.854711Z"
    },
    "id": "6-eSApeD4aUn",
    "papermill": {
     "duration": 0.018663,
     "end_time": "2024-06-03T05:46:05.858400",
     "exception": false,
     "start_time": "2024-06-03T05:46:05.839737",
     "status": "completed"
    },
    "tags": []
   },
   "outputs": [],
   "source": [
    "def tfidf_wordF(X, X_ret, a, b):\n",
    "\n",
    "    tfidf_word = TfidfVectorizer(sublinear_tf=True, min_df=5, norm='l2', ngram_range=(a, b),\n",
    "                                 decode_error='replace', encoding='utf-8', analyzer='word', tokenizer=tokenizer)\n",
    "\n",
    "    tfidf_word.fit(X.values.astype('U'))\n",
    "    x_word = tfidf_word.transform(X_ret.values.astype('U'))\n",
    "    return x_word"
   ]
  },
  {
   "cell_type": "code",
   "execution_count": 6,
   "id": "d3cf5824",
   "metadata": {
    "execution": {
     "iopub.execute_input": "2024-06-03T05:46:05.875220Z",
     "iopub.status.busy": "2024-06-03T05:46:05.874812Z",
     "iopub.status.idle": "2024-06-03T05:47:28.019361Z",
     "shell.execute_reply": "2024-06-03T05:47:28.017137Z"
    },
    "id": "r7AwX9FZ6Oy3",
    "outputId": "4b51af41-6fd9-4411-dff2-1a3df8d594a3",
    "papermill": {
     "duration": 82.156684,
     "end_time": "2024-06-03T05:47:28.022584",
     "exception": false,
     "start_time": "2024-06-03T05:46:05.865900",
     "status": "completed"
    },
    "tags": []
   },
   "outputs": [
    {
     "name": "stdout",
     "output_type": "stream",
     "text": [
      "--2024-06-03 05:46:06--  https://dl.fbaipublicfiles.com/fasttext/vectors-crawl/cc.bn.300.bin.gz\r\n",
      "Resolving dl.fbaipublicfiles.com (dl.fbaipublicfiles.com)... 3.163.189.14, 3.163.189.96, 3.163.189.51, ...\r\n",
      "Connecting to dl.fbaipublicfiles.com (dl.fbaipublicfiles.com)|3.163.189.14|:443... connected.\r\n",
      "HTTP request sent, awaiting response... 200 OK\r\n",
      "Length: 3934298272 (3.7G) [application/octet-stream]\r\n",
      "Saving to: 'cc.bn.300.bin.gz'\r\n",
      "\r\n",
      "cc.bn.300.bin.gz    100%[===================>]   3.66G   214MB/s    in 17s     \r\n",
      "\r\n",
      "2024-06-03 05:46:24 (216 MB/s) - 'cc.bn.300.bin.gz' saved [3934298272/3934298272]\r\n",
      "\r\n"
     ]
    }
   ],
   "source": [
    "#load fasttext\n",
    "!wget https://dl.fbaipublicfiles.com/fasttext/vectors-crawl/cc.bn.300.bin.gz\n",
    "# !pip install fasttext\n",
    "!gunzip /kaggle/working/cc.bn.300.bin.gz"
   ]
  },
  {
   "cell_type": "code",
   "execution_count": 7,
   "id": "63c9b875",
   "metadata": {
    "execution": {
     "iopub.execute_input": "2024-06-03T05:47:28.058748Z",
     "iopub.status.busy": "2024-06-03T05:47:28.058224Z",
     "iopub.status.idle": "2024-06-03T05:47:39.852281Z",
     "shell.execute_reply": "2024-06-03T05:47:39.850931Z"
    },
    "id": "BjUgy6GXMJsZ",
    "outputId": "902f7dc9-d538-44c9-d3f9-396b3ab4b10d",
    "papermill": {
     "duration": 11.816055,
     "end_time": "2024-06-03T05:47:39.855302",
     "exception": false,
     "start_time": "2024-06-03T05:47:28.039247",
     "status": "completed"
    },
    "tags": []
   },
   "outputs": [
    {
     "name": "stderr",
     "output_type": "stream",
     "text": [
      "Warning : `load_model` does not return WordVectorModel or SupervisedModel any more, but a `FastText` object which is very similar.\n"
     ]
    }
   ],
   "source": [
    "import fasttext\n",
    "import fasttext.util\n",
    "ft = fasttext.load_model('/kaggle/working/cc.bn.300.bin')"
   ]
  },
  {
   "cell_type": "code",
   "execution_count": 8,
   "id": "6d51accb",
   "metadata": {
    "execution": {
     "iopub.execute_input": "2024-06-03T05:47:39.892649Z",
     "iopub.status.busy": "2024-06-03T05:47:39.892231Z",
     "iopub.status.idle": "2024-06-03T05:47:39.900301Z",
     "shell.execute_reply": "2024-06-03T05:47:39.898896Z"
    },
    "id": "_E1biVqu5-JT",
    "papermill": {
     "duration": 0.030327,
     "end_time": "2024-06-03T05:47:39.902949",
     "exception": false,
     "start_time": "2024-06-03T05:47:39.872622",
     "status": "completed"
    },
    "tags": []
   },
   "outputs": [],
   "source": [
    "from scipy import sparse\n",
    "def get_sentence_vectors(texts):\n",
    "    vectors = []\n",
    "    for text in texts:\n",
    "        words = text.split()  # Split text into words\n",
    "        word_vectors = [ft.get_word_vector(word) for word in words]  # Get word vectors for each word\n",
    "        if word_vectors:  # If there are words in the text\n",
    "            sentence_vector = np.mean(word_vectors, axis=0)  # Calculate mean of word vectors\n",
    "        else:  # If no words found\n",
    "            sentence_vector = np.zeros(ft.get_dimension())  # Use zero vector\n",
    "        vectors.append(sentence_vector)\n",
    "#     df = pd.DataFrame(vectors)\n",
    "#     df = df.fillna(0)\n",
    "    return np.array(vectors)\n",
    "#     return sparse.csr.csr_matrix(df.values)"
   ]
  },
  {
   "cell_type": "code",
   "execution_count": 9,
   "id": "b8cf6028",
   "metadata": {
    "execution": {
     "iopub.execute_input": "2024-06-03T05:47:39.941489Z",
     "iopub.status.busy": "2024-06-03T05:47:39.941100Z",
     "iopub.status.idle": "2024-06-03T05:47:39.945554Z",
     "shell.execute_reply": "2024-06-03T05:47:39.944545Z"
    },
    "id": "4bdbU9H_6i4d",
    "papermill": {
     "duration": 0.026818,
     "end_time": "2024-06-03T05:47:39.948415",
     "exception": false,
     "start_time": "2024-06-03T05:47:39.921597",
     "status": "completed"
    },
    "tags": []
   },
   "outputs": [],
   "source": [
    "# Get sentence vectors tfidf_charF\n",
    "\n",
    "# X_train_char = tfidf_charF(df_train['Headline']+\" \\\\\\ \"+ df_train['Content'], df_train['Headline']+\" \\\\\\ \"+ df_train['Content'], 3, 5)\n",
    "\n",
    "# X_val_char = tfidf_charF(df_train['Headline']+\" \\\\\\ \"+ df_train['Content'], df_val['Headline']+\" \\\\\\ \"+ df_val['Content'], 3, 5)\n",
    "\n",
    "# X_test_char = tfidf_charF(df_train['Headline']+\" \\\\\\ \"+ df_train['Content'], df_test['Headline']+\" \\\\\\ \"+ df_test['Content'], 3, 5)"
   ]
  },
  {
   "cell_type": "code",
   "execution_count": 10,
   "id": "646caaa8",
   "metadata": {
    "execution": {
     "iopub.execute_input": "2024-06-03T05:47:39.987082Z",
     "iopub.status.busy": "2024-06-03T05:47:39.986641Z",
     "iopub.status.idle": "2024-06-03T05:47:39.991270Z",
     "shell.execute_reply": "2024-06-03T05:47:39.989940Z"
    },
    "id": "ejR2o4qZ6rJG",
    "papermill": {
     "duration": 0.027018,
     "end_time": "2024-06-03T05:47:39.993951",
     "exception": false,
     "start_time": "2024-06-03T05:47:39.966933",
     "status": "completed"
    },
    "tags": []
   },
   "outputs": [],
   "source": [
    "# Get sentence vectors tfidf_wordF\n",
    "\n",
    "# X_train_word = tfidf_wordF(df_train['Headline']+\" \\\\\\ \"+ df_train['Content'], df_train['Headline']+\" \\\\\\ \"+ df_train['Content'], 1, 3)\n",
    "\n",
    "# X_val_word = tfidf_wordF(df_train['Headline']+\" \\\\\\ \"+ df_train['Content'], df_val['Headline']+\" \\\\\\ \"+ df_val['Content'], 1, 3)\n",
    "\n",
    "# X_test_word = tfidf_wordF(df_train['Headline']+\" \\\\\\ \"+ df_train['Content'], df_test['Headline']+\" \\\\\\ \"+ df_test['Content'], 1, 3)"
   ]
  },
  {
   "cell_type": "code",
   "execution_count": 11,
   "id": "820e76ea",
   "metadata": {
    "execution": {
     "iopub.execute_input": "2024-06-03T05:47:40.033703Z",
     "iopub.status.busy": "2024-06-03T05:47:40.033286Z",
     "iopub.status.idle": "2024-06-03T05:52:11.420221Z",
     "shell.execute_reply": "2024-06-03T05:52:11.417511Z"
    },
    "id": "XvQMNb6b547v",
    "papermill": {
     "duration": 271.413293,
     "end_time": "2024-06-03T05:52:11.425880",
     "exception": false,
     "start_time": "2024-06-03T05:47:40.012587",
     "status": "completed"
    },
    "tags": []
   },
   "outputs": [],
   "source": [
    "# Get sentence vectors embedding\n",
    "\n",
    "X_train_emb = get_sentence_vectors(df_train['Headline']+\" \\\\\\ \"+ df_train['Content'])\n",
    "\n",
    "X_val_emb = get_sentence_vectors(df_val['Headline']+\" \\\\\\ \"+ df_val['Content'])\n",
    "\n",
    "X_test_emb = get_sentence_vectors(df_test['Headline']+\" \\\\\\ \"+ df_test['Content'])\n"
   ]
  },
  {
   "cell_type": "code",
   "execution_count": 12,
   "id": "09751bbc",
   "metadata": {
    "execution": {
     "iopub.execute_input": "2024-06-03T05:52:11.466274Z",
     "iopub.status.busy": "2024-06-03T05:52:11.465700Z",
     "iopub.status.idle": "2024-06-03T05:52:28.541755Z",
     "shell.execute_reply": "2024-06-03T05:52:28.540489Z"
    },
    "papermill": {
     "duration": 17.099387,
     "end_time": "2024-06-03T05:52:28.544896",
     "exception": false,
     "start_time": "2024-06-03T05:52:11.445509",
     "status": "completed"
    },
    "tags": []
   },
   "outputs": [
    {
     "name": "stderr",
     "output_type": "stream",
     "text": [
      "2024-06-03 05:52:14.375613: E external/local_xla/xla/stream_executor/cuda/cuda_dnn.cc:9261] Unable to register cuDNN factory: Attempting to register factory for plugin cuDNN when one has already been registered\n",
      "2024-06-03 05:52:14.375851: E external/local_xla/xla/stream_executor/cuda/cuda_fft.cc:607] Unable to register cuFFT factory: Attempting to register factory for plugin cuFFT when one has already been registered\n",
      "2024-06-03 05:52:14.575600: E external/local_xla/xla/stream_executor/cuda/cuda_blas.cc:1515] Unable to register cuBLAS factory: Attempting to register factory for plugin cuBLAS when one has already been registered\n"
     ]
    }
   ],
   "source": [
    "import tensorflow as tf\n",
    "\n",
    "# Assuming X_train_word is already defined\n",
    "# print(\"Shape of X_train_word:\", X_train_word.shape)\n",
    "# print(\"Type of X_train_word:\", type(X_train_word))\n",
    "# import tensorflow as tf\n",
    "\n",
    "# # Assuming X_train_char is already defined\n",
    "# print(\"Shape of X_train_char:\", X_train_char.shape)\n",
    "# print(\"Type of X_train_char:\", type(X_train_char))\n",
    "# # Assuming X_train_emb is already defined\n",
    "# print(\"Shape of X_train_emb:\", X_train_emb.shape)\n",
    "# print(\"Type of X_train_emb:\", type(X_train_emb))\n",
    "\n",
    "# Assuming X_val_word, X_val_char, X_val_emb, X_test_word, X_test_char, X_test_emb are defined\n",
    "\n",
    "# For validation data\n",
    "# print(\"Validation Data:\")\n",
    "# print(\"Shape of X_val_word:\", X_val_word.shape)\n",
    "# print(\"Type of X_val_word:\", type(X_val_word))\n",
    "\n",
    "# print(\"Shape of X_val_char:\", X_val_char.shape)\n",
    "# print(\"Type of X_val_char:\", type(X_val_char))\n",
    "\n",
    "# print(\"Shape of X_val_emb:\", X_val_emb.shape)\n",
    "# print(\"Type of X_val_emb:\", type(X_val_emb))\n",
    "\n",
    "# # For test data\n",
    "# print(\"\\nTest Data:\")\n",
    "# print(\"Shape of X_test_word:\", X_test_word.shape)\n",
    "# print(\"Type of X_test_word:\", type(X_test_word))\n",
    "\n",
    "# print(\"Shape of X_test_char:\", X_test_char.shape)\n",
    "# print(\"Type of X_test_char:\", type(X_test_char))\n",
    "\n",
    "# print(\"Shape of X_test_emb:\", X_test_emb.shape)\n",
    "# print(\"Type of X_test_emb:\", type(X_test_emb))\n",
    "\n"
   ]
  },
  {
   "cell_type": "code",
   "execution_count": 13,
   "id": "e4e51bf3",
   "metadata": {
    "execution": {
     "iopub.execute_input": "2024-06-03T05:52:28.597400Z",
     "iopub.status.busy": "2024-06-03T05:52:28.596613Z",
     "iopub.status.idle": "2024-06-03T05:52:28.606231Z",
     "shell.execute_reply": "2024-06-03T05:52:28.603725Z"
    },
    "id": "ONNYgTdB_nlD",
    "papermill": {
     "duration": 0.041523,
     "end_time": "2024-06-03T05:52:28.610499",
     "exception": false,
     "start_time": "2024-06-03T05:52:28.568976",
     "status": "completed"
    },
    "tags": []
   },
   "outputs": [
    {
     "name": "stdout",
     "output_type": "stream",
     "text": [
      "(49264, 300)\n",
      "(12317, 300)\n",
      "(920, 300)\n"
     ]
    }
   ],
   "source": [
    "#final_train_set\n",
    "\n",
    "X_train = X_train_emb#sparse.hstack([X_train_char, X_train_word, X_train_emb])\n",
    "X_val = X_val_emb#sparse.hstack([X_val_char, X_val_word, X_val_emb])\n",
    "X_test = X_test_emb#sparse.hstack([X_test_char, X_test_word, X_test_emb])\n",
    "print(X_train.shape)\n",
    "print(X_val.shape)\n",
    "print(X_test.shape)"
   ]
  },
  {
   "cell_type": "code",
   "execution_count": 14,
   "id": "b5eaacc8",
   "metadata": {
    "execution": {
     "iopub.execute_input": "2024-06-03T05:52:28.651284Z",
     "iopub.status.busy": "2024-06-03T05:52:28.650848Z",
     "iopub.status.idle": "2024-06-03T05:52:28.656746Z",
     "shell.execute_reply": "2024-06-03T05:52:28.655786Z"
    },
    "id": "FkEc0D_p98tj",
    "papermill": {
     "duration": 0.026214,
     "end_time": "2024-06-03T05:52:28.659354",
     "exception": false,
     "start_time": "2024-06-03T05:52:28.633140",
     "status": "completed"
    },
    "tags": []
   },
   "outputs": [],
   "source": [
    "#y_set\n",
    "\n",
    "y_train = df_train['Label']\n",
    "y_val = df_val['Label']\n",
    "y_test = df_test['Label']"
   ]
  },
  {
   "cell_type": "code",
   "execution_count": 15,
   "id": "01fe11e0",
   "metadata": {
    "execution": {
     "iopub.execute_input": "2024-06-03T05:52:28.695096Z",
     "iopub.status.busy": "2024-06-03T05:52:28.694688Z",
     "iopub.status.idle": "2024-06-03T05:52:28.700896Z",
     "shell.execute_reply": "2024-06-03T05:52:28.699623Z"
    },
    "id": "rF01MHWy_TB-",
    "papermill": {
     "duration": 0.027521,
     "end_time": "2024-06-03T05:52:28.703638",
     "exception": false,
     "start_time": "2024-06-03T05:52:28.676117",
     "status": "completed"
    },
    "tags": []
   },
   "outputs": [],
   "source": [
    "#define param_grid\n",
    "\n",
    "param_grid = {\n",
    "    'C': [1,10,100],\n",
    "    'degree': [2,3,4,5],\n",
    "}\n",
    "\n",
    "best_f1_score = 0\n",
    "best_params = None\n",
    "best_model = None"
   ]
  },
  {
   "cell_type": "code",
   "execution_count": 16,
   "id": "e04496aa",
   "metadata": {
    "execution": {
     "iopub.execute_input": "2024-06-03T05:52:28.739280Z",
     "iopub.status.busy": "2024-06-03T05:52:28.738817Z",
     "iopub.status.idle": "2024-06-03T07:10:51.690162Z",
     "shell.execute_reply": "2024-06-03T07:10:51.688147Z"
    },
    "id": "evx7X7lD_kZr",
    "papermill": {
     "duration": 4702.990444,
     "end_time": "2024-06-03T07:10:51.710575",
     "exception": false,
     "start_time": "2024-06-03T05:52:28.720131",
     "status": "completed"
    },
    "tags": []
   },
   "outputs": [
    {
     "name": "stdout",
     "output_type": "stream",
     "text": [
      "Best Parameters: {'C': 100, 'degree': 2}\n"
     ]
    }
   ],
   "source": [
    "#Find best model\n",
    "from sklearn.svm import SVC\n",
    "\n",
    "for C in param_grid['C']:\n",
    "    for kernel in param_grid['degree']:\n",
    "        # Initialize SVM model\n",
    "        svm_model = SVC(kernel='linear', C=C, cache_size=7000, degree=kernel)\n",
    "\n",
    "        # Train SVM model\n",
    "        svm_model.fit(X_train, y_train)\n",
    "\n",
    "        # Predictions on validation set\n",
    "        val_predictions = svm_model.predict(X_val)\n",
    "\n",
    "        # Calculate F1 score\n",
    "        f1 = f1_score(y_val, val_predictions, average='macro')\n",
    "\n",
    "        # Update best parameters if current F1 score is higher\n",
    "        if f1 > best_f1_score:\n",
    "            best_f1_score = f1\n",
    "            best_params = {'C': C, 'degree': kernel}\n",
    "            best_model = svm_model\n",
    "\n",
    "print(\"Best Parameters:\", best_params)"
   ]
  },
  {
   "cell_type": "code",
   "execution_count": 17,
   "id": "92fb1e14",
   "metadata": {
    "execution": {
     "iopub.execute_input": "2024-06-03T07:10:51.748748Z",
     "iopub.status.busy": "2024-06-03T07:10:51.748327Z",
     "iopub.status.idle": "2024-06-03T07:10:51.753435Z",
     "shell.execute_reply": "2024-06-03T07:10:51.752047Z"
    },
    "id": "mNca5PqzAWrS",
    "papermill": {
     "duration": 0.026571,
     "end_time": "2024-06-03T07:10:51.755942",
     "exception": false,
     "start_time": "2024-06-03T07:10:51.729371",
     "status": "completed"
    },
    "tags": []
   },
   "outputs": [],
   "source": [
    "#train model\n",
    "# best_model.fit(X_train, y_train)"
   ]
  },
  {
   "cell_type": "code",
   "execution_count": 18,
   "id": "02c89e90",
   "metadata": {
    "execution": {
     "iopub.execute_input": "2024-06-03T07:10:51.792462Z",
     "iopub.status.busy": "2024-06-03T07:10:51.791953Z",
     "iopub.status.idle": "2024-06-03T07:10:54.977364Z",
     "shell.execute_reply": "2024-06-03T07:10:54.976100Z"
    },
    "id": "Q2FE9YkbAehA",
    "papermill": {
     "duration": 3.207012,
     "end_time": "2024-06-03T07:10:54.980674",
     "exception": false,
     "start_time": "2024-06-03T07:10:51.773662",
     "status": "completed"
    },
    "tags": []
   },
   "outputs": [],
   "source": [
    "#test model\n",
    "test_predictions = best_model.predict(X_test)"
   ]
  },
  {
   "cell_type": "code",
   "execution_count": 19,
   "id": "b3a53391",
   "metadata": {
    "execution": {
     "iopub.execute_input": "2024-06-03T07:10:55.017717Z",
     "iopub.status.busy": "2024-06-03T07:10:55.017303Z",
     "iopub.status.idle": "2024-06-03T07:10:55.035357Z",
     "shell.execute_reply": "2024-06-03T07:10:55.033779Z"
    },
    "id": "Fm5J2XadBJPR",
    "papermill": {
     "duration": 0.040156,
     "end_time": "2024-06-03T07:10:55.037954",
     "exception": false,
     "start_time": "2024-06-03T07:10:54.997798",
     "status": "completed"
    },
    "tags": []
   },
   "outputs": [
    {
     "name": "stdout",
     "output_type": "stream",
     "text": [
      "Test Set:\n",
      "              precision    recall  f1-score   support\n",
      "\n",
      "           0    0.90761   0.72609   0.80676       460\n",
      "           1    0.77174   0.92609   0.84190       460\n",
      "\n",
      "    accuracy                        0.82609       920\n",
      "   macro avg    0.83967   0.82609   0.82433       920\n",
      "weighted avg    0.83967   0.82609   0.82433       920\n",
      "\n"
     ]
    }
   ],
   "source": [
    "#get results\n",
    "print(\"Test Set:\")\n",
    "print(classification_report(y_test, test_predictions, digits=5))"
   ]
  },
  {
   "cell_type": "code",
   "execution_count": null,
   "id": "135dbdda",
   "metadata": {
    "papermill": {
     "duration": 0.016626,
     "end_time": "2024-06-03T07:10:55.071541",
     "exception": false,
     "start_time": "2024-06-03T07:10:55.054915",
     "status": "completed"
    },
    "tags": []
   },
   "outputs": [],
   "source": []
  },
  {
   "cell_type": "code",
   "execution_count": null,
   "id": "a423c2a1",
   "metadata": {
    "papermill": {
     "duration": 0.016978,
     "end_time": "2024-06-03T07:10:55.105676",
     "exception": false,
     "start_time": "2024-06-03T07:10:55.088698",
     "status": "completed"
    },
    "tags": []
   },
   "outputs": [],
   "source": []
  }
 ],
 "metadata": {
  "accelerator": "GPU",
  "colab": {
   "gpuType": "T4",
   "provenance": []
  },
  "kaggle": {
   "accelerator": "none",
   "dataSources": [
    {
     "datasetId": 3872710,
     "sourceId": 6721982,
     "sourceType": "datasetVersion"
    },
    {
     "datasetId": 5057190,
     "sourceId": 8514897,
     "sourceType": "datasetVersion"
    }
   ],
   "isGpuEnabled": false,
   "isInternetEnabled": true,
   "language": "python",
   "sourceType": "notebook"
  },
  "kernelspec": {
   "display_name": "Python 3",
   "language": "python",
   "name": "python3"
  },
  "language_info": {
   "codemirror_mode": {
    "name": "ipython",
    "version": 3
   },
   "file_extension": ".py",
   "mimetype": "text/x-python",
   "name": "python",
   "nbconvert_exporter": "python",
   "pygments_lexer": "ipython3",
   "version": "3.10.13"
  },
  "papermill": {
   "default_parameters": {},
   "duration": 5108.762229,
   "end_time": "2024-06-03T07:10:58.894653",
   "environment_variables": {},
   "exception": null,
   "input_path": "__notebook__.ipynb",
   "output_path": "__notebook__.ipynb",
   "parameters": {},
   "start_time": "2024-06-03T05:45:50.132424",
   "version": "2.5.0"
  }
 },
 "nbformat": 4,
 "nbformat_minor": 5
}
